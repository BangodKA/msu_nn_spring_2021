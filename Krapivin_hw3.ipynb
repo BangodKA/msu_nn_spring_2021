{
  "nbformat": 4,
  "nbformat_minor": 0,
  "metadata": {
    "kernelspec": {
      "display_name": "Python 3",
      "language": "python",
      "name": "python3"
    },
    "language_info": {
      "codemirror_mode": {
        "name": "ipython",
        "version": 3
      },
      "file_extension": ".py",
      "mimetype": "text/x-python",
      "name": "python",
      "nbconvert_exporter": "python",
      "pygments_lexer": "ipython3",
      "version": "3.7.4"
    },
    "colab": {
      "name": "Krapivin_hw3.ipynb",
      "provenance": []
    },
    "accelerator": "GPU",
    "widgets": {
      "application/vnd.jupyter.widget-state+json": {
        "f186aada8bb2457088619b36789e167b": {
          "model_module": "@jupyter-widgets/controls",
          "model_name": "HBoxModel",
          "state": {
            "_view_name": "HBoxView",
            "_dom_classes": [],
            "_model_name": "HBoxModel",
            "_view_module": "@jupyter-widgets/controls",
            "_model_module_version": "1.5.0",
            "_view_count": null,
            "_view_module_version": "1.5.0",
            "box_style": "",
            "layout": "IPY_MODEL_bcfb86d18d9042f8812da22e7727bafe",
            "_model_module": "@jupyter-widgets/controls",
            "children": [
              "IPY_MODEL_96911dfbc39b4db7b05c009936ee1b60",
              "IPY_MODEL_2de11003a98e41f4a9cbb26a10670e28"
            ]
          }
        },
        "bcfb86d18d9042f8812da22e7727bafe": {
          "model_module": "@jupyter-widgets/base",
          "model_name": "LayoutModel",
          "state": {
            "_view_name": "LayoutView",
            "grid_template_rows": null,
            "right": null,
            "justify_content": null,
            "_view_module": "@jupyter-widgets/base",
            "overflow": null,
            "_model_module_version": "1.2.0",
            "_view_count": null,
            "flex_flow": null,
            "width": null,
            "min_width": null,
            "border": null,
            "align_items": null,
            "bottom": null,
            "_model_module": "@jupyter-widgets/base",
            "top": null,
            "grid_column": null,
            "overflow_y": null,
            "overflow_x": null,
            "grid_auto_flow": null,
            "grid_area": null,
            "grid_template_columns": null,
            "flex": null,
            "_model_name": "LayoutModel",
            "justify_items": null,
            "grid_row": null,
            "max_height": null,
            "align_content": null,
            "visibility": null,
            "align_self": null,
            "height": null,
            "min_height": null,
            "padding": null,
            "grid_auto_rows": null,
            "grid_gap": null,
            "max_width": null,
            "order": null,
            "_view_module_version": "1.2.0",
            "grid_template_areas": null,
            "object_position": null,
            "object_fit": null,
            "grid_auto_columns": null,
            "margin": null,
            "display": null,
            "left": null
          }
        },
        "96911dfbc39b4db7b05c009936ee1b60": {
          "model_module": "@jupyter-widgets/controls",
          "model_name": "FloatProgressModel",
          "state": {
            "_view_name": "ProgressView",
            "style": "IPY_MODEL_f554626f16754785b1ec1f54f75a0bb9",
            "_dom_classes": [],
            "description": "100%",
            "_model_name": "FloatProgressModel",
            "bar_style": "success",
            "max": 46827520,
            "_view_module": "@jupyter-widgets/controls",
            "_model_module_version": "1.5.0",
            "value": 46827520,
            "_view_count": null,
            "_view_module_version": "1.5.0",
            "orientation": "horizontal",
            "min": 0,
            "description_tooltip": null,
            "_model_module": "@jupyter-widgets/controls",
            "layout": "IPY_MODEL_8345db43ec934322b925b8433cd5c6b8"
          }
        },
        "2de11003a98e41f4a9cbb26a10670e28": {
          "model_module": "@jupyter-widgets/controls",
          "model_name": "HTMLModel",
          "state": {
            "_view_name": "HTMLView",
            "style": "IPY_MODEL_6922d70406f3474e8813675173c75260",
            "_dom_classes": [],
            "description": "",
            "_model_name": "HTMLModel",
            "placeholder": "​",
            "_view_module": "@jupyter-widgets/controls",
            "_model_module_version": "1.5.0",
            "value": " 44.7M/44.7M [01:05&lt;00:00, 712kB/s]",
            "_view_count": null,
            "_view_module_version": "1.5.0",
            "description_tooltip": null,
            "_model_module": "@jupyter-widgets/controls",
            "layout": "IPY_MODEL_5a3574266ee549adb600f48e0d1eb6e1"
          }
        },
        "f554626f16754785b1ec1f54f75a0bb9": {
          "model_module": "@jupyter-widgets/controls",
          "model_name": "ProgressStyleModel",
          "state": {
            "_view_name": "StyleView",
            "_model_name": "ProgressStyleModel",
            "description_width": "initial",
            "_view_module": "@jupyter-widgets/base",
            "_model_module_version": "1.5.0",
            "_view_count": null,
            "_view_module_version": "1.2.0",
            "bar_color": null,
            "_model_module": "@jupyter-widgets/controls"
          }
        },
        "8345db43ec934322b925b8433cd5c6b8": {
          "model_module": "@jupyter-widgets/base",
          "model_name": "LayoutModel",
          "state": {
            "_view_name": "LayoutView",
            "grid_template_rows": null,
            "right": null,
            "justify_content": null,
            "_view_module": "@jupyter-widgets/base",
            "overflow": null,
            "_model_module_version": "1.2.0",
            "_view_count": null,
            "flex_flow": null,
            "width": null,
            "min_width": null,
            "border": null,
            "align_items": null,
            "bottom": null,
            "_model_module": "@jupyter-widgets/base",
            "top": null,
            "grid_column": null,
            "overflow_y": null,
            "overflow_x": null,
            "grid_auto_flow": null,
            "grid_area": null,
            "grid_template_columns": null,
            "flex": null,
            "_model_name": "LayoutModel",
            "justify_items": null,
            "grid_row": null,
            "max_height": null,
            "align_content": null,
            "visibility": null,
            "align_self": null,
            "height": null,
            "min_height": null,
            "padding": null,
            "grid_auto_rows": null,
            "grid_gap": null,
            "max_width": null,
            "order": null,
            "_view_module_version": "1.2.0",
            "grid_template_areas": null,
            "object_position": null,
            "object_fit": null,
            "grid_auto_columns": null,
            "margin": null,
            "display": null,
            "left": null
          }
        },
        "6922d70406f3474e8813675173c75260": {
          "model_module": "@jupyter-widgets/controls",
          "model_name": "DescriptionStyleModel",
          "state": {
            "_view_name": "StyleView",
            "_model_name": "DescriptionStyleModel",
            "description_width": "",
            "_view_module": "@jupyter-widgets/base",
            "_model_module_version": "1.5.0",
            "_view_count": null,
            "_view_module_version": "1.2.0",
            "_model_module": "@jupyter-widgets/controls"
          }
        },
        "5a3574266ee549adb600f48e0d1eb6e1": {
          "model_module": "@jupyter-widgets/base",
          "model_name": "LayoutModel",
          "state": {
            "_view_name": "LayoutView",
            "grid_template_rows": null,
            "right": null,
            "justify_content": null,
            "_view_module": "@jupyter-widgets/base",
            "overflow": null,
            "_model_module_version": "1.2.0",
            "_view_count": null,
            "flex_flow": null,
            "width": null,
            "min_width": null,
            "border": null,
            "align_items": null,
            "bottom": null,
            "_model_module": "@jupyter-widgets/base",
            "top": null,
            "grid_column": null,
            "overflow_y": null,
            "overflow_x": null,
            "grid_auto_flow": null,
            "grid_area": null,
            "grid_template_columns": null,
            "flex": null,
            "_model_name": "LayoutModel",
            "justify_items": null,
            "grid_row": null,
            "max_height": null,
            "align_content": null,
            "visibility": null,
            "align_self": null,
            "height": null,
            "min_height": null,
            "padding": null,
            "grid_auto_rows": null,
            "grid_gap": null,
            "max_width": null,
            "order": null,
            "_view_module_version": "1.2.0",
            "grid_template_areas": null,
            "object_position": null,
            "object_fit": null,
            "grid_auto_columns": null,
            "margin": null,
            "display": null,
            "left": null
          }
        }
      }
    }
  },
  "cells": [
    {
      "cell_type": "code",
      "metadata": {
        "id": "YFBhtVawKOPj",
        "outputId": "113b757d-0534-4fe3-b878-e7c39875422d",
        "colab": {
          "base_uri": "https://localhost:8080/"
        }
      },
      "source": [
        "from google.colab import drive\n",
        "drive.mount('/content/drive')"
      ],
      "execution_count": 4,
      "outputs": [
        {
          "output_type": "stream",
          "text": [
            "Mounted at /content/drive\n"
          ],
          "name": "stdout"
        }
      ]
    },
    {
      "cell_type": "code",
      "metadata": {
        "id": "7II2DN1JKX28",
        "outputId": "5d8c09a3-336e-472e-b5bb-657f27054d5e",
        "colab": {
          "base_uri": "https://localhost:8080/"
        }
      },
      "source": [
        "%cd drive/MyDrive/TSphere/NN/03"
      ],
      "execution_count": 5,
      "outputs": [
        {
          "output_type": "stream",
          "text": [
            "/content/drive/MyDrive/TSphere/NN/03\n"
          ],
          "name": "stdout"
        }
      ]
    },
    {
      "cell_type": "code",
      "metadata": {
        "id": "kPo8G-l9b5c8",
        "outputId": "6b76e0c8-d73b-4b76-b99c-22525274abac",
        "colab": {
          "base_uri": "https://localhost:8080/"
        }
      },
      "source": [
        "!pip install tensorboardX"
      ],
      "execution_count": 6,
      "outputs": [
        {
          "output_type": "stream",
          "text": [
            "Collecting tensorboardX\n",
            "\u001b[?25l  Downloading https://files.pythonhosted.org/packages/af/0c/4f41bcd45db376e6fe5c619c01100e9b7531c55791b7244815bac6eac32c/tensorboardX-2.1-py2.py3-none-any.whl (308kB)\n",
            "\r\u001b[K     |█                               | 10kB 19.1MB/s eta 0:00:01\r\u001b[K     |██▏                             | 20kB 12.8MB/s eta 0:00:01\r\u001b[K     |███▏                            | 30kB 9.6MB/s eta 0:00:01\r\u001b[K     |████▎                           | 40kB 8.5MB/s eta 0:00:01\r\u001b[K     |█████▎                          | 51kB 5.0MB/s eta 0:00:01\r\u001b[K     |██████▍                         | 61kB 5.5MB/s eta 0:00:01\r\u001b[K     |███████▍                        | 71kB 5.7MB/s eta 0:00:01\r\u001b[K     |████████▌                       | 81kB 6.1MB/s eta 0:00:01\r\u001b[K     |█████████▌                      | 92kB 5.9MB/s eta 0:00:01\r\u001b[K     |██████████▋                     | 102kB 4.9MB/s eta 0:00:01\r\u001b[K     |███████████▊                    | 112kB 4.9MB/s eta 0:00:01\r\u001b[K     |████████████▊                   | 122kB 4.9MB/s eta 0:00:01\r\u001b[K     |█████████████▉                  | 133kB 4.9MB/s eta 0:00:01\r\u001b[K     |██████████████▉                 | 143kB 4.9MB/s eta 0:00:01\r\u001b[K     |████████████████                | 153kB 4.9MB/s eta 0:00:01\r\u001b[K     |█████████████████               | 163kB 4.9MB/s eta 0:00:01\r\u001b[K     |██████████████████              | 174kB 4.9MB/s eta 0:00:01\r\u001b[K     |███████████████████             | 184kB 4.9MB/s eta 0:00:01\r\u001b[K     |████████████████████▏           | 194kB 4.9MB/s eta 0:00:01\r\u001b[K     |█████████████████████▎          | 204kB 4.9MB/s eta 0:00:01\r\u001b[K     |██████████████████████▎         | 215kB 4.9MB/s eta 0:00:01\r\u001b[K     |███████████████████████▍        | 225kB 4.9MB/s eta 0:00:01\r\u001b[K     |████████████████████████▍       | 235kB 4.9MB/s eta 0:00:01\r\u001b[K     |█████████████████████████▌      | 245kB 4.9MB/s eta 0:00:01\r\u001b[K     |██████████████████████████▌     | 256kB 4.9MB/s eta 0:00:01\r\u001b[K     |███████████████████████████▋    | 266kB 4.9MB/s eta 0:00:01\r\u001b[K     |████████████████████████████▋   | 276kB 4.9MB/s eta 0:00:01\r\u001b[K     |█████████████████████████████▊  | 286kB 4.9MB/s eta 0:00:01\r\u001b[K     |██████████████████████████████▊ | 296kB 4.9MB/s eta 0:00:01\r\u001b[K     |███████████████████████████████▉| 307kB 4.9MB/s eta 0:00:01\r\u001b[K     |████████████████████████████████| 317kB 4.9MB/s \n",
            "\u001b[?25hRequirement already satisfied: numpy in /usr/local/lib/python3.7/dist-packages (from tensorboardX) (1.19.5)\n",
            "Requirement already satisfied: six in /usr/local/lib/python3.7/dist-packages (from tensorboardX) (1.15.0)\n",
            "Requirement already satisfied: protobuf>=3.8.0 in /usr/local/lib/python3.7/dist-packages (from tensorboardX) (3.12.4)\n",
            "Requirement already satisfied: setuptools in /usr/local/lib/python3.7/dist-packages (from protobuf>=3.8.0->tensorboardX) (54.0.0)\n",
            "Installing collected packages: tensorboardX\n",
            "Successfully installed tensorboardX-2.1\n"
          ],
          "name": "stdout"
        }
      ]
    },
    {
      "cell_type": "code",
      "metadata": {
        "id": "OOIY5FyZcIEq",
        "outputId": "32671656-832c-4f12-ce67-9612f7762c7a",
        "colab": {
          "base_uri": "https://localhost:8080/"
        }
      },
      "source": [
        "!pip install pytorch-ignite"
      ],
      "execution_count": 7,
      "outputs": [
        {
          "output_type": "stream",
          "text": [
            "Requirement already satisfied: pytorch-ignite in /usr/local/lib/python3.7/dist-packages (0.4.4)\n",
            "Requirement already satisfied: torch<2,>=1.3 in /usr/local/lib/python3.7/dist-packages (from pytorch-ignite) (1.8.0+cu101)\n",
            "Requirement already satisfied: typing-extensions in /usr/local/lib/python3.7/dist-packages (from torch<2,>=1.3->pytorch-ignite) (3.7.4.3)\n",
            "Requirement already satisfied: numpy in /usr/local/lib/python3.7/dist-packages (from torch<2,>=1.3->pytorch-ignite) (1.19.5)\n"
          ],
          "name": "stdout"
        }
      ]
    },
    {
      "cell_type": "markdown",
      "metadata": {
        "id": "cK3wfTAqKIsZ"
      },
      "source": [
        "## Семинар 3 \"Определение ключевых точек лица\""
      ]
    },
    {
      "cell_type": "markdown",
      "metadata": {
        "id": "U09NExLQKIsk"
      },
      "source": [
        "## Задание"
      ]
    },
    {
      "cell_type": "markdown",
      "metadata": {
        "id": "mfFYEa9qKIsk"
      },
      "source": [
        "Используя датасет из архива решите задачу регрессии для поиска 68-ми ключевых точек лица. \n",
        "\n",
        "Для обучения и валидации используйте изображения и разметку из папок train и test соответственно.\n",
        "\n",
        "Для **зачета** дз нужно сделать одно из двух:\n",
        "\n",
        "1. Исследовать 6 разных архитектур и написать подробный вывод + мысли почему одна сеть работает лучше чем другая (разные функции активации, глубины сетей, размеры и типы слоев)\n",
        "2. Преодолеть порог MSE=8 на тесте\n",
        "\n",
        "\n",
        "Также до  22 марта 23:59 можно получить до 5 дополнительных баллов за лучшее решение. (За первое место 5 баллов, за второе — 3 балла, за третье — 1 балла.)\n",
        "\n",
        "Для решения можно пользоваться всем инструментарием, с которым мы познакомимся:  предобученные модели, сверточные сети, любые оптимизаторы, batchnorm, dropout, etc."
      ]
    },
    {
      "cell_type": "code",
      "metadata": {
        "collapsed": true,
        "id": "_zrGtIddKIsl"
      },
      "source": [
        "%matplotlib inline\n",
        "import os\n",
        "import torch\n",
        "import sys\n",
        "import pandas as pd\n",
        "from skimage import io, transform\n",
        "import numpy as np\n",
        "import matplotlib.pyplot as plt\n",
        "from torch.utils.data import Dataset, DataLoader\n",
        "from torchvision import transforms, utils\n",
        "from torch.nn import MSELoss, Sequential, Linear, Sigmoid, Tanh, L1Loss, Module, Parameter\n",
        "from torch.autograd import Variable\n",
        "# Ignore warnings\n",
        "import warnings\n",
        "\n",
        "\n",
        "try:\n",
        "    from tensorboardX import SummaryWriter\n",
        "except ImportError:\n",
        "    raise RuntimeError(\"No tensorboardX package is found. Please install with the command: \\npip install tensorboardX\")\n",
        "\n",
        "from ignite.engine import Events, create_supervised_trainer, create_supervised_evaluator\n",
        "from ignite.metrics import Accuracy, Loss\n",
        "\n",
        "\n"
      ],
      "execution_count": 8,
      "outputs": []
    },
    {
      "cell_type": "code",
      "metadata": {
        "id": "TNjQj1dRhYxf"
      },
      "source": [
        "from torch.nn import Dropout, Conv2d, MaxPool2d, BatchNorm2d, ReLU, Flatten\n",
        "from torch.optim import Adam\n",
        "import torchvision.models as models\n",
        "from torchsummary import summary"
      ],
      "execution_count": 28,
      "outputs": []
    },
    {
      "cell_type": "code",
      "metadata": {
        "id": "QgakHgOlKIsl",
        "outputId": "29ab7113-13fb-4ca6-bd48-6ccf445c2b08",
        "colab": {
          "base_uri": "https://localhost:8080/",
          "height": 387
        }
      },
      "source": [
        "warnings.filterwarnings(\"ignore\")\n",
        "\n",
        "landmarks_frame = pd.read_csv('dataset/train/face_landmarks.csv')\n",
        "\n",
        "n = 100\n",
        "img_name = landmarks_frame.iloc[n, 0]\n",
        "landmarks = landmarks_frame.iloc[n, 1:].to_numpy().astype('float')\n",
        "landmarks = landmarks.reshape(-1, 2)\n",
        "\n",
        "print('Image name: {}'.format(img_name))\n",
        "print('Landmarks shape: {}'.format(landmarks.shape))\n",
        "print('First 4 Landmarks: {}'.format(landmarks[:4]))\n",
        "\n",
        "def show_landmarks(image, landmarks):\n",
        "    \"\"\"Show image with landmarks\"\"\"\n",
        "    print(image.shape)\n",
        "    plt.imshow(image, cmap='gray')\n",
        "    plt.scatter(landmarks[:, 0], landmarks[:, 1], s=10, marker='.', c='red', cmap='rgb')\n",
        "    plt.pause(0.001)  \n",
        "\n",
        "plt.figure()\n",
        "show_landmarks(io.imread(os.path.join('dataset/train/', img_name)),\n",
        "               landmarks)\n",
        "plt.show()"
      ],
      "execution_count": 97,
      "outputs": [
        {
          "output_type": "stream",
          "text": [
            "Image name: 109.jpeg\n",
            "Landmarks shape: (68, 2)\n",
            "First 4 Landmarks: [[ 7. 41.]\n",
            " [ 8. 51.]\n",
            " [10. 60.]\n",
            " [13. 70.]]\n",
            "(96, 96)\n"
          ],
          "name": "stdout"
        },
        {
          "output_type": "display_data",
          "data": {
            "image/png": "[encoded data removed]",
            "text/plain": [
              "<Figure size 432x288 with 1 Axes>"
            ]
          },
          "metadata": {
            "tags": [],
            "needs_background": "light"
          }
        }
      ]
    },
    {
      "cell_type": "code",
      "metadata": {
        "collapsed": true,
        "id": "6NksleKRKIsn"
      },
      "source": [
        "def show_landmarks_batch(sample_batch, y_pred=None):\n",
        "    \"\"\"Show image with landmarks for a batch of samples.\"\"\"\n",
        "    images_batch, landmarks_batch = \\\n",
        "            sample_batch\n",
        "    batch_size = len(images_batch)\n",
        "    im_size = images_batch.size(2)\n",
        "\n",
        "    grid = utils.make_grid(images_batch)\n",
        "    print(images_batch.numpy().shape)\n",
        "    plt.imshow(grid.numpy().transpose(1,0,2).reshape(im_size, -1), cmap=\"gray\")\n",
        "\n",
        "    for i in range(batch_size):\n",
        "        plt.scatter(landmarks_batch[i, :, 0].numpy() + i * im_size,\n",
        "                    landmarks_batch[i, :, 1].numpy(),\n",
        "                    s=10, marker='.', c='r', label='Real')\n",
        "\n",
        "    if type(y_pred) != type(None):\n",
        "        for i in range(batch_size):\n",
        "            plt.scatter(y_pred[i, :, 0] + i * im_size,\n",
        "                        y_pred[i, :, 1],\n",
        "                        s=10, marker='.', c='b',  label='Prediction')\n",
        "        plt.title('Batch from dataloader')\n",
        "    plt.legend()"
      ],
      "execution_count": 11,
      "outputs": []
    },
    {
      "cell_type": "code",
      "metadata": {
        "collapsed": true,
        "id": "P3_JcHN6KIsn"
      },
      "source": [
        "class FaceLandmarksDataset(Dataset):\n",
        "    \"\"\"Face Landmarks dataset.\"\"\"\n",
        "\n",
        "    def __init__(self, csv_file, root_dir, transform=None):\n",
        "        \"\"\"\n",
        "        Args:\n",
        "            csv_file (string): Path to the csv file with annotations.\n",
        "            root_dir (string): Directory with all the images.\n",
        "            transform (callable, optional): Optional transform to be applied\n",
        "                on a sample.\n",
        "        \"\"\"\n",
        "        self.landmarks_frame = pd.read_csv(csv_file)\n",
        "        self.root_dir = root_dir\n",
        "        self.transform = transform\n",
        "\n",
        "    def __len__(self):\n",
        "        return len(self.landmarks_frame)\n",
        "\n",
        "    def __getitem__(self, idx):\n",
        "        img_name = os.path.join(self.root_dir, self.landmarks_frame.iloc[idx, 0])\n",
        "        image = io.imread(img_name)\n",
        "        landmarks = self.landmarks_frame.iloc[idx, 1:].to_numpy().astype('float')\n",
        "        landmarks = landmarks.reshape(-1, 2)\n",
        "        sample = image, landmarks\n",
        "\n",
        "        if self.transform:\n",
        "            sample = self.transform(sample)\n",
        "\n",
        "        return sample"
      ],
      "execution_count": 12,
      "outputs": []
    },
    {
      "cell_type": "code",
      "metadata": {
        "collapsed": true,
        "id": "Jc9bRAZCKIso"
      },
      "source": [
        "class RandomCrop(object):\n",
        "    \"\"\"Crop randomly the image in a sample.\n",
        "\n",
        "    Args:\n",
        "        output_size (tuple or int): Desired output size. If int, square crop\n",
        "            is made.\n",
        "    \"\"\"\n",
        "\n",
        "    def __init__(self, output_size):\n",
        "        assert isinstance(output_size, (int, tuple))\n",
        "        if isinstance(output_size, int):\n",
        "            self.output_size = (output_size, output_size)\n",
        "        else:\n",
        "            assert len(output_size) == 2\n",
        "            self.output_size = output_size\n",
        "\n",
        "    def __call__(self, sample):\n",
        "        image, landmarks = sample\n",
        "\n",
        "        h, w = image.shape[:2]\n",
        "        new_h, new_w = self.output_size\n",
        "\n",
        "        top = np.random.randint(0, h - new_h)\n",
        "        left = np.random.randint(0, w - new_w)\n",
        "\n",
        "        image = image[top: top + new_h,\n",
        "                      left: left + new_w]\n",
        "\n",
        "        landmarks = landmarks - [left, top]\n",
        "\n",
        "        return image, landmarks\n",
        "\n",
        "\n",
        "\n",
        "\n",
        "class ToTensor(object):\n",
        "    \"\"\"Convert ndarrays in sample to Tensors.\"\"\"\n",
        "\n",
        "    def __call__(self, sample):\n",
        "        image, landmarks = sample\n",
        "        image = image.reshape(1, 96, 96)\n",
        "        landmarks = np.reshape(landmarks, (-1, 136))\n",
        "        return torch.from_numpy(image).type(torch.float), torch.from_numpy(landmarks).type(torch.float)"
      ],
      "execution_count": 98,
      "outputs": []
    },
    {
      "cell_type": "code",
      "metadata": {
        "collapsed": true,
        "id": "Ma2_qTAVKIso"
      },
      "source": [
        "train_dataset = FaceLandmarksDataset(csv_file='dataset/train/face_landmarks.csv',\n",
        "                                     root_dir='dataset/train',\n",
        "                                     transform=ToTensor())\n",
        "\n",
        "test_dataset = FaceLandmarksDataset(csv_file='dataset/test/face_landmarks.csv',\n",
        "                                     root_dir='dataset/test',\n",
        "                                     transform=ToTensor())"
      ],
      "execution_count": 99,
      "outputs": []
    },
    {
      "cell_type": "code",
      "metadata": {
        "collapsed": true,
        "id": "sePQ_TbdKIso"
      },
      "source": [
        "def get_data_loaders(train_batch_size=64, val_batch_size=64):\n",
        "\n",
        "    train_loader = DataLoader(\n",
        "        train_dataset, batch_size=train_batch_size, shuffle=True, drop_last=True\n",
        "    )\n",
        "\n",
        "    test_loader = DataLoader(\n",
        "        test_dataset, batch_size=val_batch_size, shuffle=False\n",
        "    )\n",
        "\n",
        "    return train_loader, test_loader"
      ],
      "execution_count": 100,
      "outputs": []
    },
    {
      "cell_type": "code",
      "metadata": {
        "collapsed": true,
        "id": "oP06PPnXKIsp"
      },
      "source": [
        "# vgg19 = models.vgg19(pretrained=True).features.to(device).eval()"
      ],
      "execution_count": 101,
      "outputs": []
    },
    {
      "cell_type": "code",
      "metadata": {
        "id": "wFzCbCLRp62w",
        "outputId": "a5d34a31-30b3-4c2d-caf1-7d92eecf705d",
        "colab": {
          "base_uri": "https://localhost:8080/",
          "height": 298,
          "referenced_widgets": [
            "f186aada8bb2457088619b36789e167b",
            "bcfb86d18d9042f8812da22e7727bafe",
            "96911dfbc39b4db7b05c009936ee1b60",
            "2de11003a98e41f4a9cbb26a10670e28",
            "f554626f16754785b1ec1f54f75a0bb9",
            "8345db43ec934322b925b8433cd5c6b8",
            "6922d70406f3474e8813675173c75260",
            "5a3574266ee549adb600f48e0d1eb6e1"
          ]
        }
      },
      "source": [
        "model_ft = models.resnet18(pretrained=True)\n",
        "num_ftrs = model_ft.fc.in_features\n",
        "# Here the size of each output sample is set to 2.\n",
        "# Alternatively, it can be generalized to nn.Linear(num_ftrs, len(class_names)).\n",
        "model_ft.fc = nn.Linear(num_ftrs, 2)\n",
        "\n",
        "model_ft = model_ft.to(device)\n",
        "\n",
        "criterion = nn.CrossEntropyLoss()\n",
        "\n",
        "# Observe that all parameters are being optimized\n",
        "optimizer_ft = optim.SGD(model_ft.parameters(), lr=0.001, momentum=0.9)\n",
        "\n",
        "# Decay LR by a factor of 0.1 every 7 epochs\n",
        "exp_lr_scheduler = lr_scheduler.StepLR(optimizer_ft, step_size=7, gamma=0.1)"
      ],
      "execution_count": 17,
      "outputs": [
        {
          "output_type": "stream",
          "text": [
            "Downloading: \"https://download.pytorch.org/models/resnet18-5c106cde.pth\" to /root/.cache/torch/hub/checkpoints/resnet18-5c106cde.pth\n"
          ],
          "name": "stderr"
        },
        {
          "output_type": "display_data",
          "data": {
            "application/vnd.jupyter.widget-view+json": {
              "model_id": "f186aada8bb2457088619b36789e167b",
              "version_minor": 0,
              "version_major": 2
            },
            "text/plain": [
              "HBox(children=(FloatProgress(value=0.0, max=46827520.0), HTML(value='')))"
            ]
          },
          "metadata": {
            "tags": []
          }
        },
        {
          "output_type": "stream",
          "text": [
            "\n"
          ],
          "name": "stdout"
        },
        {
          "output_type": "error",
          "ename": "NameError",
          "evalue": "ignored",
          "traceback": [
            "\u001b[0;31m---------------------------------------------------------------------------\u001b[0m",
            "\u001b[0;31mNameError\u001b[0m                                 Traceback (most recent call last)",
            "\u001b[0;32m<ipython-input-17-dd95eeba5a3f>\u001b[0m in \u001b[0;36m<module>\u001b[0;34m()\u001b[0m\n\u001b[1;32m      3\u001b[0m \u001b[0;31m# Here the size of each output sample is set to 2.\u001b[0m\u001b[0;34m\u001b[0m\u001b[0;34m\u001b[0m\u001b[0;34m\u001b[0m\u001b[0m\n\u001b[1;32m      4\u001b[0m \u001b[0;31m# Alternatively, it can be generalized to nn.Linear(num_ftrs, len(class_names)).\u001b[0m\u001b[0;34m\u001b[0m\u001b[0;34m\u001b[0m\u001b[0;34m\u001b[0m\u001b[0m\n\u001b[0;32m----> 5\u001b[0;31m \u001b[0mmodel_ft\u001b[0m\u001b[0;34m.\u001b[0m\u001b[0mfc\u001b[0m \u001b[0;34m=\u001b[0m \u001b[0mnn\u001b[0m\u001b[0;34m.\u001b[0m\u001b[0mLinear\u001b[0m\u001b[0;34m(\u001b[0m\u001b[0mnum_ftrs\u001b[0m\u001b[0;34m,\u001b[0m \u001b[0;36m2\u001b[0m\u001b[0;34m)\u001b[0m\u001b[0;34m\u001b[0m\u001b[0;34m\u001b[0m\u001b[0m\n\u001b[0m\u001b[1;32m      6\u001b[0m \u001b[0;34m\u001b[0m\u001b[0m\n\u001b[1;32m      7\u001b[0m \u001b[0mmodel_ft\u001b[0m \u001b[0;34m=\u001b[0m \u001b[0mmodel_ft\u001b[0m\u001b[0;34m.\u001b[0m\u001b[0mto\u001b[0m\u001b[0;34m(\u001b[0m\u001b[0mdevice\u001b[0m\u001b[0;34m)\u001b[0m\u001b[0;34m\u001b[0m\u001b[0;34m\u001b[0m\u001b[0m\n",
            "\u001b[0;31mNameError\u001b[0m: name 'nn' is not defined"
          ]
        }
      ]
    },
    {
      "cell_type": "code",
      "metadata": {
        "id": "Z8Cti_EFbALP"
      },
      "source": [
        "device = \"cpu\"\n",
        "\n",
        "if torch.cuda.is_available():\n",
        "    device = \"cuda\""
      ],
      "execution_count": 102,
      "outputs": []
    },
    {
      "cell_type": "code",
      "metadata": {
        "id": "rN9nRjYzs6wy"
      },
      "source": [
        "class Net(Module):   \n",
        "    def __init__(self):\n",
        "        super(Net, self).__init__()\n",
        "\n",
        "        self.model = Sequential(\n",
        "            # Defining a 2D convolution layer\n",
        "            Conv2d(1, 64, kernel_size=3, stride=1, padding=1),\n",
        "            BatchNorm2d(64),\n",
        "            ReLU(inplace=True),\n",
        "            Conv2d(64, 64, kernel_size=3, stride=1, padding=1),\n",
        "            BatchNorm2d(64),\n",
        "            ReLU(inplace=True),\n",
        "            MaxPool2d(kernel_size=4, stride=4),\n",
        "            Dropout(0.4),\n",
        "            # Defining another 2D convolution layer\n",
        "            Conv2d(64, 128, kernel_size=3, stride=1, padding=1),\n",
        "            BatchNorm2d(128),\n",
        "            ReLU(inplace=True),\n",
        "            MaxPool2d(kernel_size=2, stride=2),\n",
        "            # Defining third 2D convolution layer\n",
        "            # Conv2d(4, 4, kernel_size=3, stride=1, padding=1),\n",
        "            # BatchNorm2d(4),\n",
        "            # ReLU(inplace=True),\n",
        "            # MaxPool2d(kernel_size=2, stride=2),\n",
        "            Flatten(),\n",
        "            Dropout(0.4),\n",
        "            Linear(128 * 12 * 12, 68 * 2)\n",
        "        ).to(device)\n",
        "\n",
        "        # self.linear_layers = Sequential(\n",
        "        #     Linear(4 * 24 * 24, 68 * 2)\n",
        "        # ).to(device)\n",
        "\n",
        "    def get_arch(self):\n",
        "      return self.model\n",
        "\n",
        "    # Defining the forward pass    \n",
        "    def forward(self, x):\n",
        "        # x = x.reshape(64, 1, 96, 96)\n",
        "        x = self.model(x)\n",
        "        # x = x.view(x.size(0), -1)\n",
        "        # x = x.reshape(64, 68, 2)\n",
        "        # x = self.linear_layers(x)\n",
        "        return x"
      ],
      "execution_count": 103,
      "outputs": []
    },
    {
      "cell_type": "code",
      "metadata": {
        "id": "9VPnNyfIzQW5",
        "outputId": "23d6e538-0722-4cf2-c98c-29397cb97479",
        "colab": {
          "base_uri": "https://localhost:8080/"
        }
      },
      "source": [
        "n = Net()\n",
        "summary(n.get_arch(), (1,96,96))"
      ],
      "execution_count": 104,
      "outputs": [
        {
          "output_type": "stream",
          "text": [
            "----------------------------------------------------------------\n",
            "        Layer (type)               Output Shape         Param #\n",
            "================================================================\n",
            "            Conv2d-1           [-1, 64, 96, 96]             640\n",
            "       BatchNorm2d-2           [-1, 64, 96, 96]             128\n",
            "              ReLU-3           [-1, 64, 96, 96]               0\n",
            "            Conv2d-4           [-1, 64, 96, 96]          36,928\n",
            "       BatchNorm2d-5           [-1, 64, 96, 96]             128\n",
            "              ReLU-6           [-1, 64, 96, 96]               0\n",
            "         MaxPool2d-7           [-1, 64, 24, 24]               0\n",
            "           Dropout-8           [-1, 64, 24, 24]               0\n",
            "            Conv2d-9          [-1, 128, 24, 24]          73,856\n",
            "      BatchNorm2d-10          [-1, 128, 24, 24]             256\n",
            "             ReLU-11          [-1, 128, 24, 24]               0\n",
            "        MaxPool2d-12          [-1, 128, 12, 12]               0\n",
            "          Flatten-13                [-1, 18432]               0\n",
            "          Dropout-14                [-1, 18432]               0\n",
            "           Linear-15                  [-1, 136]       2,506,888\n",
            "================================================================\n",
            "Total params: 2,618,824\n",
            "Trainable params: 2,618,824\n",
            "Non-trainable params: 0\n",
            "----------------------------------------------------------------\n",
            "Input size (MB): 0.04\n",
            "Forward/backward pass size (MB): 29.67\n",
            "Params size (MB): 9.99\n",
            "Estimated Total Size (MB): 39.70\n",
            "----------------------------------------------------------------\n"
          ],
          "name": "stdout"
        }
      ]
    },
    {
      "cell_type": "code",
      "metadata": {
        "collapsed": true,
        "id": "wmGWGBeMKIsq"
      },
      "source": [
        ""
      ],
      "execution_count": 92,
      "outputs": []
    },
    {
      "cell_type": "code",
      "metadata": {
        "collapsed": true,
        "id": "HfvyiR0gKIsq"
      },
      "source": [
        "network = Net()\n",
        "train_dataloader, test_dataloader = get_data_loaders()\n",
        "writer = SummaryWriter(filename_suffix='first', logdir=\"logs\")\n",
        "\n",
        "device = \"cpu\"\n",
        "\n",
        "if torch.cuda.is_available():\n",
        "    device = \"cuda\"\n",
        "criterion = MSELoss()\n",
        "optim = Adam\n",
        "learning_rate = 0.01\n",
        "max_epochs = 10\n",
        "\n",
        "optimizer = optim(network.parameters(), lr=learning_rate)\n",
        "\n",
        "trainer = create_supervised_trainer(network, optimizer, criterion, device=device)\n",
        "evaluator = create_supervised_evaluator(\n",
        "    network, metrics={\"L2 loss\": Loss(criterion),\n",
        "                      \"L1 loss\": Loss(L1Loss())}, device=device\n",
        ")\n",
        "\n",
        "training_history = {'l1':[],'l2':[]}\n",
        "validation_history = {'l1':[],'l2':[]}\n",
        "last_epoch = []"
      ],
      "execution_count": 105,
      "outputs": []
    },
    {
      "cell_type": "code",
      "metadata": {
        "collapsed": true,
        "id": "SHeRndjZKIsq"
      },
      "source": [
        "@trainer.on(Events.ITERATION_COMPLETED(every=10))\n",
        "def log_training_loss(engine):\n",
        "    writer.add_scalar(\"training/loss\", engine.state.output, engine.state.iteration)\n",
        "    writer.flush()\n",
        "\n",
        "\n",
        "@trainer.on(Events.EPOCH_COMPLETED)\n",
        "def log_training_results(trainer):\n",
        "    evaluator.run(train_dataloader)\n",
        "    metrics = evaluator.state.metrics\n",
        "    l2_train = metrics[\"L2 loss\"]\n",
        "    l1_train = metrics['L1 loss']\n",
        "    last_epoch.append(0)\n",
        "    training_history['l2'].append(l2_train)\n",
        "    training_history['l1'].append(l1_train)\n",
        "    writer.add_scalar(\"training/epoch_loss\", l2_train, trainer.state.epoch)\n",
        "    \n",
        "    evaluator.run(test_dataloader)\n",
        "    metrics = evaluator.state.metrics\n",
        "    l2 = metrics[\"L2 loss\"]\n",
        "    l1 = metrics['L1 loss']\n",
        "    validation_history['l2'].append(l2)\n",
        "    validation_history['l1'].append(l1)\n",
        "    \n",
        "    writer.add_scalar(\"validation/epoch_loss\", l2, trainer.state.epoch)\n",
        "    writer.flush()\n",
        "    \n",
        "    sys.stdout.write(\"\\rTraining/Validation Results - Epoch: {}  Avg MSE: {:.2f} / {:.2f} Avg MAE: {:.2f} / {:.2f}\"\n",
        "          .format(trainer.state.epoch, l2_train, l2, l1_train, l1))\n",
        "   "
      ],
      "execution_count": 106,
      "outputs": []
    },
    {
      "cell_type": "code",
      "metadata": {
        "collapsed": true,
        "id": "AvLReZPFKIsr"
      },
      "source": [
        ""
      ],
      "execution_count": 94,
      "outputs": []
    },
    {
      "cell_type": "code",
      "metadata": {
        "id": "RgA11eECKIsr",
        "outputId": "07bbb904-b422-46fe-838e-7907e135afee",
        "colab": {
          "base_uri": "https://localhost:8080/"
        }
      },
      "source": [
        "trainer.run(train_dataloader, max_epochs=1)"
      ],
      "execution_count": 107,
      "outputs": [
        {
          "output_type": "stream",
          "text": [
            "\rTraining/Validation Results - Epoch: 1  Avg MSE: 22.23 / 23.69 Avg MAE: 3.48 / 3.59"
          ],
          "name": "stdout"
        },
        {
          "output_type": "execute_result",
          "data": {
            "text/plain": [
              "State:\n",
              "\titeration: 97\n",
              "\tepoch: 1\n",
              "\tepoch_length: 97\n",
              "\tmax_epochs: 1\n",
              "\toutput: 19.584192276000977\n",
              "\tbatch: <class 'list'>\n",
              "\tmetrics: <class 'dict'>\n",
              "\tdataloader: <class 'torch.utils.data.dataloader.DataLoader'>\n",
              "\tseed: <class 'NoneType'>\n",
              "\ttimes: <class 'dict'>"
            ]
          },
          "metadata": {
            "tags": []
          },
          "execution_count": 107
        }
      ]
    },
    {
      "cell_type": "code",
      "metadata": {
        "id": "91yy0Jm8KIsr"
      },
      "source": [
        "plt.figure(figsize=(12, 5))\n",
        "plt.plot(training_history['l2'][1:], label='Train')\n",
        "plt.plot(validation_history['l2'][1:], label='Test')\n",
        "plt.xlabel('Epochs', fontsize=16)\n",
        "plt.ylabel('Loss', fontsize=16)\n",
        "plt.legend(loc=0, fontsize=16)\n",
        "plt.grid('on')\n",
        "plt.show()"
      ],
      "execution_count": null,
      "outputs": []
    },
    {
      "cell_type": "code",
      "metadata": {
        "collapsed": true,
        "id": "JC4KDCwGKIsr"
      },
      "source": [
        ""
      ],
      "execution_count": null,
      "outputs": []
    },
    {
      "cell_type": "code",
      "metadata": {
        "collapsed": true,
        "id": "0Ez3wLXaKIss"
      },
      "source": [
        ""
      ],
      "execution_count": null,
      "outputs": []
    },
    {
      "cell_type": "code",
      "metadata": {
        "id": "sEpeHN-wKIss"
      },
      "source": [
        "train(network, 4, 1e-1)"
      ],
      "execution_count": null,
      "outputs": []
    },
    {
      "cell_type": "code",
      "metadata": {
        "id": "Qb38OMbyKIss",
        "outputId": "2b6c69a5-62ca-425a-e2ed-3261bfa7ac6b"
      },
      "source": [
        "_, test_dataloader = get_data_loaders(val_batch_size=2)\n",
        "\n",
        "images_batch = next(iter(test_dataloader))\n",
        "x, y = images_batch\n",
        "y_pred = network(x)\n",
        "y_pred = y_pred.data.numpy()\n",
        "show_landmarks_batch(images_batch, y_pred)"
      ],
      "execution_count": null,
      "outputs": [
        {
          "output_type": "stream",
          "text": [
            "(2, 96, 96)\n"
          ],
          "name": "stdout"
        },
        {
          "output_type": "display_data",
          "data": {
            "image/png": "[encoded data removed]",
            "text/plain": [
              "<Figure size 432x288 with 1 Axes>"
            ]
          },
          "metadata": {
            "tags": [],
            "needs_background": "light"
          }
        }
      ]
    },
    {
      "cell_type": "code",
      "metadata": {
        "collapsed": true,
        "id": "oU6OSSAYKIst"
      },
      "source": [
        ""
      ],
      "execution_count": null,
      "outputs": []
    }
  ]
}