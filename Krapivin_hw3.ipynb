{
  "nbformat": 4,
  "nbformat_minor": 0,
  "metadata": {
    "kernelspec": {
      "display_name": "Python 3",
      "language": "python",
      "name": "python3"
    },
    "language_info": {
      "codemirror_mode": {
        "name": "ipython",
        "version": 3
      },
      "file_extension": ".py",
      "mimetype": "text/x-python",
      "name": "python",
      "nbconvert_exporter": "python",
      "pygments_lexer": "ipython3",
      "version": "3.7.4"
    },
    "colab": {
      "name": "Krapivin_hw3.ipynb",
      "provenance": []
    },
    "accelerator": "GPU"
  },
  "cells": [
    {
      "cell_type": "code",
      "metadata": {
        "id": "YFBhtVawKOPj",
        "colab": {
          "base_uri": "https://localhost:8080/"
        },
        "outputId": "2880ed51-52b2-4dc4-9792-760856bd1409"
      },
      "source": [
        "from google.colab import drive\n",
        "drive.mount('/content/drive')"
      ],
      "execution_count": 1,
      "outputs": [
        {
          "output_type": "stream",
          "text": [
            "Mounted at /content/drive\n"
          ],
          "name": "stdout"
        }
      ]
    },
    {
      "cell_type": "code",
      "metadata": {
        "id": "7II2DN1JKX28",
        "colab": {
          "base_uri": "https://localhost:8080/"
        },
        "outputId": "1c364269-0be4-44a9-dbac-bc4c097c6c97"
      },
      "source": [
        "%cd drive/MyDrive/TSphere/NN/03"
      ],
      "execution_count": 2,
      "outputs": [
        {
          "output_type": "stream",
          "text": [
            "/content/drive/MyDrive/TSphere/NN/03\n"
          ],
          "name": "stdout"
        }
      ]
    },
    {
      "cell_type": "code",
      "metadata": {
        "id": "kPo8G-l9b5c8",
        "colab": {
          "base_uri": "https://localhost:8080/"
        },
        "outputId": "7d387e91-7863-43cf-996b-458f93d665b5"
      },
      "source": [
        "!pip install tensorboardX"
      ],
      "execution_count": 3,
      "outputs": [
        {
          "output_type": "stream",
          "text": [
            "Collecting tensorboardX\n",
            "\u001b[?25l  Downloading https://files.pythonhosted.org/packages/af/0c/4f41bcd45db376e6fe5c619c01100e9b7531c55791b7244815bac6eac32c/tensorboardX-2.1-py2.py3-none-any.whl (308kB)\n",
            "\r\u001b[K     |█                               | 10kB 19.1MB/s eta 0:00:01\r\u001b[K     |██▏                             | 20kB 20.3MB/s eta 0:00:01\r\u001b[K     |███▏                            | 30kB 15.4MB/s eta 0:00:01\r\u001b[K     |████▎                           | 40kB 14.2MB/s eta 0:00:01\r\u001b[K     |█████▎                          | 51kB 9.7MB/s eta 0:00:01\r\u001b[K     |██████▍                         | 61kB 8.8MB/s eta 0:00:01\r\u001b[K     |███████▍                        | 71kB 9.9MB/s eta 0:00:01\r\u001b[K     |████████▌                       | 81kB 11.0MB/s eta 0:00:01\r\u001b[K     |█████████▌                      | 92kB 10.4MB/s eta 0:00:01\r\u001b[K     |██████████▋                     | 102kB 9.2MB/s eta 0:00:01\r\u001b[K     |███████████▊                    | 112kB 9.2MB/s eta 0:00:01\r\u001b[K     |████████████▊                   | 122kB 9.2MB/s eta 0:00:01\r\u001b[K     |█████████████▉                  | 133kB 9.2MB/s eta 0:00:01\r\u001b[K     |██████████████▉                 | 143kB 9.2MB/s eta 0:00:01\r\u001b[K     |████████████████                | 153kB 9.2MB/s eta 0:00:01\r\u001b[K     |█████████████████               | 163kB 9.2MB/s eta 0:00:01\r\u001b[K     |██████████████████              | 174kB 9.2MB/s eta 0:00:01\r\u001b[K     |███████████████████             | 184kB 9.2MB/s eta 0:00:01\r\u001b[K     |████████████████████▏           | 194kB 9.2MB/s eta 0:00:01\r\u001b[K     |█████████████████████▎          | 204kB 9.2MB/s eta 0:00:01\r\u001b[K     |██████████████████████▎         | 215kB 9.2MB/s eta 0:00:01\r\u001b[K     |███████████████████████▍        | 225kB 9.2MB/s eta 0:00:01\r\u001b[K     |████████████████████████▍       | 235kB 9.2MB/s eta 0:00:01\r\u001b[K     |█████████████████████████▌      | 245kB 9.2MB/s eta 0:00:01\r\u001b[K     |██████████████████████████▌     | 256kB 9.2MB/s eta 0:00:01\r\u001b[K     |███████████████████████████▋    | 266kB 9.2MB/s eta 0:00:01\r\u001b[K     |████████████████████████████▋   | 276kB 9.2MB/s eta 0:00:01\r\u001b[K     |█████████████████████████████▊  | 286kB 9.2MB/s eta 0:00:01\r\u001b[K     |██████████████████████████████▊ | 296kB 9.2MB/s eta 0:00:01\r\u001b[K     |███████████████████████████████▉| 307kB 9.2MB/s eta 0:00:01\r\u001b[K     |████████████████████████████████| 317kB 9.2MB/s \n",
            "\u001b[?25hRequirement already satisfied: six in /usr/local/lib/python3.7/dist-packages (from tensorboardX) (1.15.0)\n",
            "Requirement already satisfied: numpy in /usr/local/lib/python3.7/dist-packages (from tensorboardX) (1.19.5)\n",
            "Requirement already satisfied: protobuf>=3.8.0 in /usr/local/lib/python3.7/dist-packages (from tensorboardX) (3.12.4)\n",
            "Requirement already satisfied: setuptools in /usr/local/lib/python3.7/dist-packages (from protobuf>=3.8.0->tensorboardX) (54.0.0)\n",
            "Installing collected packages: tensorboardX\n",
            "Successfully installed tensorboardX-2.1\n"
          ],
          "name": "stdout"
        }
      ]
    },
    {
      "cell_type": "code",
      "metadata": {
        "id": "OOIY5FyZcIEq",
        "colab": {
          "base_uri": "https://localhost:8080/"
        },
        "outputId": "964bfa33-50f2-42d4-be9a-d9da0666e2bb"
      },
      "source": [
        "!pip install pytorch-ignite"
      ],
      "execution_count": 4,
      "outputs": [
        {
          "output_type": "stream",
          "text": [
            "Collecting pytorch-ignite\n",
            "\u001b[?25l  Downloading https://files.pythonhosted.org/packages/f8/d3/640f70d69393b415e6a29b27c735047ad86267921ad62682d1d756556d48/pytorch_ignite-0.4.4-py3-none-any.whl (200kB)\n",
            "\r\u001b[K     |█▋                              | 10kB 18.0MB/s eta 0:00:01\r\u001b[K     |███▎                            | 20kB 24.8MB/s eta 0:00:01\r\u001b[K     |█████                           | 30kB 12.6MB/s eta 0:00:01\r\u001b[K     |██████▌                         | 40kB 9.9MB/s eta 0:00:01\r\u001b[K     |████████▏                       | 51kB 7.6MB/s eta 0:00:01\r\u001b[K     |█████████▉                      | 61kB 8.0MB/s eta 0:00:01\r\u001b[K     |███████████▌                    | 71kB 7.9MB/s eta 0:00:01\r\u001b[K     |█████████████                   | 81kB 8.4MB/s eta 0:00:01\r\u001b[K     |██████████████▊                 | 92kB 8.7MB/s eta 0:00:01\r\u001b[K     |████████████████▍               | 102kB 8.8MB/s eta 0:00:01\r\u001b[K     |██████████████████              | 112kB 8.8MB/s eta 0:00:01\r\u001b[K     |███████████████████▋            | 122kB 8.8MB/s eta 0:00:01\r\u001b[K     |█████████████████████▎          | 133kB 8.8MB/s eta 0:00:01\r\u001b[K     |███████████████████████         | 143kB 8.8MB/s eta 0:00:01\r\u001b[K     |████████████████████████▌       | 153kB 8.8MB/s eta 0:00:01\r\u001b[K     |██████████████████████████▏     | 163kB 8.8MB/s eta 0:00:01\r\u001b[K     |███████████████████████████▉    | 174kB 8.8MB/s eta 0:00:01\r\u001b[K     |█████████████████████████████▍  | 184kB 8.8MB/s eta 0:00:01\r\u001b[K     |███████████████████████████████ | 194kB 8.8MB/s eta 0:00:01\r\u001b[K     |████████████████████████████████| 204kB 8.8MB/s \n",
            "\u001b[?25hRequirement already satisfied: torch<2,>=1.3 in /usr/local/lib/python3.7/dist-packages (from pytorch-ignite) (1.8.0+cu101)\n",
            "Requirement already satisfied: typing-extensions in /usr/local/lib/python3.7/dist-packages (from torch<2,>=1.3->pytorch-ignite) (3.7.4.3)\n",
            "Requirement already satisfied: numpy in /usr/local/lib/python3.7/dist-packages (from torch<2,>=1.3->pytorch-ignite) (1.19.5)\n",
            "Installing collected packages: pytorch-ignite\n",
            "Successfully installed pytorch-ignite-0.4.4\n"
          ],
          "name": "stdout"
        }
      ]
    },
    {
      "cell_type": "code",
      "metadata": {
        "id": "0hpEOzLVKGut",
        "outputId": "7f54d4f6-4027-4f38-e562-13d099bc9237",
        "colab": {
          "base_uri": "https://localhost:8080/"
        }
      },
      "source": [
        "!pip install facenet-pytorch"
      ],
      "execution_count": 52,
      "outputs": [
        {
          "output_type": "stream",
          "text": [
            "Collecting facenet-pytorch\n",
            "\u001b[?25l  Downloading https://files.pythonhosted.org/packages/18/e8/5ea742737665ba9396a8a2be3d2e2b49a13804b56a7e7bb101e8731ade8f/facenet_pytorch-2.5.2-py3-none-any.whl (1.9MB)\n",
            "\u001b[K     |████████████████████████████████| 1.9MB 7.7MB/s \n",
            "\u001b[?25hRequirement already satisfied: torchvision in /usr/local/lib/python3.7/dist-packages (from facenet-pytorch) (0.9.0+cu101)\n",
            "Requirement already satisfied: numpy in /usr/local/lib/python3.7/dist-packages (from facenet-pytorch) (1.19.5)\n",
            "Requirement already satisfied: pillow in /usr/local/lib/python3.7/dist-packages (from facenet-pytorch) (7.0.0)\n",
            "Requirement already satisfied: requests in /usr/local/lib/python3.7/dist-packages (from facenet-pytorch) (2.23.0)\n",
            "Requirement already satisfied: torch==1.8.0 in /usr/local/lib/python3.7/dist-packages (from torchvision->facenet-pytorch) (1.8.0+cu101)\n",
            "Requirement already satisfied: idna<3,>=2.5 in /usr/local/lib/python3.7/dist-packages (from requests->facenet-pytorch) (2.10)\n",
            "Requirement already satisfied: urllib3!=1.25.0,!=1.25.1,<1.26,>=1.21.1 in /usr/local/lib/python3.7/dist-packages (from requests->facenet-pytorch) (1.24.3)\n",
            "Requirement already satisfied: chardet<4,>=3.0.2 in /usr/local/lib/python3.7/dist-packages (from requests->facenet-pytorch) (3.0.4)\n",
            "Requirement already satisfied: certifi>=2017.4.17 in /usr/local/lib/python3.7/dist-packages (from requests->facenet-pytorch) (2020.12.5)\n",
            "Requirement already satisfied: typing-extensions in /usr/local/lib/python3.7/dist-packages (from torch==1.8.0->torchvision->facenet-pytorch) (3.7.4.3)\n",
            "Installing collected packages: facenet-pytorch\n",
            "Successfully installed facenet-pytorch-2.5.2\n"
          ],
          "name": "stdout"
        }
      ]
    },
    {
      "cell_type": "markdown",
      "metadata": {
        "id": "cK3wfTAqKIsZ"
      },
      "source": [
        "## Семинар 3 \"Определение ключевых точек лица\""
      ]
    },
    {
      "cell_type": "markdown",
      "metadata": {
        "id": "U09NExLQKIsk"
      },
      "source": [
        "## Задание"
      ]
    },
    {
      "cell_type": "markdown",
      "metadata": {
        "id": "mfFYEa9qKIsk"
      },
      "source": [
        "Используя датасет из архива решите задачу регрессии для поиска 68-ми ключевых точек лица. \n",
        "\n",
        "Для обучения и валидации используйте изображения и разметку из папок train и test соответственно.\n",
        "\n",
        "Для **зачета** дз нужно сделать одно из двух:\n",
        "\n",
        "1. Исследовать 6 разных архитектур и написать подробный вывод + мысли почему одна сеть работает лучше чем другая (разные функции активации, глубины сетей, размеры и типы слоев)\n",
        "2. Преодолеть порог MSE=8 на тесте\n",
        "\n",
        "\n",
        "Также до  22 марта 23:59 можно получить до 5 дополнительных баллов за лучшее решение. (За первое место 5 баллов, за второе — 3 балла, за третье — 1 балла.)\n",
        "\n",
        "Для решения можно пользоваться всем инструментарием, с которым мы познакомимся:  предобученные модели, сверточные сети, любые оптимизаторы, batchnorm, dropout, etc."
      ]
    },
    {
      "cell_type": "code",
      "metadata": {
        "collapsed": true,
        "id": "_zrGtIddKIsl"
      },
      "source": [
        "%matplotlib inline\n",
        "import os\n",
        "import torch\n",
        "import sys\n",
        "import pandas as pd\n",
        "from skimage import io, transform\n",
        "import numpy as np\n",
        "import matplotlib.pyplot as plt\n",
        "from torch.utils.data import Dataset, DataLoader\n",
        "from torchvision import transforms, utils\n",
        "from torch.nn import MSELoss, Sequential, Linear, Sigmoid, Tanh, L1Loss, Module, Parameter\n",
        "from torch.autograd import Variable\n",
        "# Ignore warnings\n",
        "import warnings\n",
        "\n",
        "\n",
        "try:\n",
        "    from tensorboardX import SummaryWriter\n",
        "except ImportError:\n",
        "    raise RuntimeError(\"No tensorboardX package is found. Please install with the command: \\npip install tensorboardX\")\n",
        "\n",
        "from ignite.engine import Events, create_supervised_trainer, create_supervised_evaluator\n",
        "from ignite.metrics import Accuracy, Loss\n",
        "\n",
        "\n"
      ],
      "execution_count": 5,
      "outputs": []
    },
    {
      "cell_type": "code",
      "metadata": {
        "id": "TNjQj1dRhYxf"
      },
      "source": [
        "from torch.nn import Dropout, Conv2d, MaxPool2d, BatchNorm2d, ReLU, Flatten\n",
        "from torch.optim import Adam\n",
        "from torchvision import models\n",
        "from torchsummary import summary\n",
        "from facenet_pytorch import InceptionResnetV1"
      ],
      "execution_count": 53,
      "outputs": []
    },
    {
      "cell_type": "code",
      "metadata": {
        "id": "QgakHgOlKIsl",
        "colab": {
          "base_uri": "https://localhost:8080/",
          "height": 387
        },
        "outputId": "248afaca-615d-4139-afea-8528229a1e53"
      },
      "source": [
        "warnings.filterwarnings(\"ignore\")\n",
        "\n",
        "landmarks_frame = pd.read_csv('dataset/train/face_landmarks.csv')\n",
        "\n",
        "n = 100\n",
        "img_name = landmarks_frame.iloc[n, 0]\n",
        "landmarks = landmarks_frame.iloc[n, 1:].to_numpy().astype('float')\n",
        "landmarks = landmarks.reshape(-1, 2)\n",
        "\n",
        "print('Image name: {}'.format(img_name))\n",
        "print('Landmarks shape: {}'.format(landmarks.shape))\n",
        "print('First 4 Landmarks: {}'.format(landmarks[:4]))\n",
        "\n",
        "def show_landmarks(image, landmarks):\n",
        "    \"\"\"Show image with landmarks\"\"\"\n",
        "    print(image.shape)\n",
        "    plt.imshow(image, cmap='gray')\n",
        "    plt.scatter(landmarks[:, 0], landmarks[:, 1], s=10, marker='.', c='red', cmap='rgb')\n",
        "    plt.pause(0.001)  \n",
        "\n",
        "plt.figure()\n",
        "show_landmarks(io.imread(os.path.join('dataset/train/', img_name)),\n",
        "               landmarks)\n",
        "plt.show()"
      ],
      "execution_count": 7,
      "outputs": [
        {
          "output_type": "stream",
          "text": [
            "Image name: 109.jpeg\n",
            "Landmarks shape: (68, 2)\n",
            "First 4 Landmarks: [[ 7. 41.]\n",
            " [ 8. 51.]\n",
            " [10. 60.]\n",
            " [13. 70.]]\n",
            "(96, 96)\n"
          ],
          "name": "stdout"
        },
        {
          "output_type": "display_data",
          "data": {
            "image/png": "[encoded data removed]",
            "text/plain": [
              "<Figure size 432x288 with 1 Axes>"
            ]
          },
          "metadata": {
            "tags": [],
            "needs_background": "light"
          }
        }
      ]
    },
    {
      "cell_type": "code",
      "metadata": {
        "collapsed": true,
        "id": "6NksleKRKIsn"
      },
      "source": [
        "def show_landmarks_batch(sample_batch, y_pred=None):\n",
        "    \"\"\"Show image with landmarks for a batch of samples.\"\"\"\n",
        "    images_batch, landmarks_batch = \\\n",
        "            sample_batch\n",
        "    batch_size = len(images_batch)\n",
        "    im_size = images_batch.size(2)\n",
        "\n",
        "    grid = utils.make_grid(images_batch)\n",
        "    print(images_batch.numpy().shape)\n",
        "    plt.imshow(grid.numpy().transpose(1,0,2).reshape(im_size, -1), cmap=\"gray\")\n",
        "\n",
        "    for i in range(batch_size):\n",
        "        plt.scatter(landmarks_batch[i, :, 0].numpy() + i * im_size,\n",
        "                    landmarks_batch[i, :, 1].numpy(),\n",
        "                    s=10, marker='.', c='r', label='Real')\n",
        "\n",
        "    if type(y_pred) != type(None):\n",
        "        for i in range(batch_size):\n",
        "            plt.scatter(y_pred[i, :, 0] + i * im_size,\n",
        "                        y_pred[i, :, 1],\n",
        "                        s=10, marker='.', c='b',  label='Prediction')\n",
        "        plt.title('Batch from dataloader')\n",
        "    plt.legend()"
      ],
      "execution_count": 8,
      "outputs": []
    },
    {
      "cell_type": "code",
      "metadata": {
        "collapsed": true,
        "id": "P3_JcHN6KIsn"
      },
      "source": [
        "class FaceLandmarksDataset(Dataset):\n",
        "    \"\"\"Face Landmarks dataset.\"\"\"\n",
        "\n",
        "    def __init__(self, csv_file, root_dir, transform=None):\n",
        "        \"\"\"\n",
        "        Args:\n",
        "            csv_file (string): Path to the csv file with annotations.\n",
        "            root_dir (string): Directory with all the images.\n",
        "            transform (callable, optional): Optional transform to be applied\n",
        "                on a sample.\n",
        "        \"\"\"\n",
        "        self.landmarks_frame = pd.read_csv(csv_file)\n",
        "        self.root_dir = root_dir\n",
        "        self.transform = transform\n",
        "\n",
        "    def __len__(self):\n",
        "        return len(self.landmarks_frame)\n",
        "\n",
        "    def __getitem__(self, idx):\n",
        "        img_name = os.path.join(self.root_dir, self.landmarks_frame.iloc[idx, 0])\n",
        "        image = io.imread(img_name)\n",
        "        landmarks = self.landmarks_frame.iloc[idx, 1:].to_numpy().astype('float')\n",
        "        landmarks = landmarks.reshape(-1, 2)\n",
        "        sample = image, landmarks\n",
        "\n",
        "        if self.transform:\n",
        "            sample = self.transform(sample)\n",
        "\n",
        "        return sample"
      ],
      "execution_count": 9,
      "outputs": []
    },
    {
      "cell_type": "code",
      "metadata": {
        "collapsed": true,
        "id": "Jc9bRAZCKIso"
      },
      "source": [
        "class RandomCrop(object):\n",
        "    \"\"\"Crop randomly the image in a sample.\n",
        "\n",
        "    Args:\n",
        "        output_size (tuple or int): Desired output size. If int, square crop\n",
        "            is made.\n",
        "    \"\"\"\n",
        "\n",
        "    def __init__(self, output_size):\n",
        "        assert isinstance(output_size, (int, tuple))\n",
        "        if isinstance(output_size, int):\n",
        "            self.output_size = (output_size, output_size)\n",
        "        else:\n",
        "            assert len(output_size) == 2\n",
        "            self.output_size = output_size\n",
        "\n",
        "    def __call__(self, sample):\n",
        "        image, landmarks = sample\n",
        "\n",
        "        h, w = image.shape[:2]\n",
        "        new_h, new_w = self.output_size\n",
        "\n",
        "        top = np.random.randint(0, h - new_h)\n",
        "        left = np.random.randint(0, w - new_w)\n",
        "\n",
        "        image = image[top: top + new_h,\n",
        "                      left: left + new_w]\n",
        "\n",
        "        landmarks = landmarks - [left, top]\n",
        "\n",
        "        return image, landmarks\n",
        "\n",
        "\n",
        "\n",
        "\n",
        "class ToTensor(object):\n",
        "    \"\"\"Convert ndarrays in sample to Tensors.\"\"\"\n",
        "\n",
        "    def __call__(self, sample):\n",
        "        image, landmarks = sample\n",
        "        image = image.reshape(1, 96, 96)\n",
        "        landmarks = np.reshape(landmarks, (-1, 136))\n",
        "        return torch.from_numpy(image).type(torch.float), torch.from_numpy(landmarks).type(torch.float)"
      ],
      "execution_count": 10,
      "outputs": []
    },
    {
      "cell_type": "code",
      "metadata": {
        "collapsed": true,
        "id": "Ma2_qTAVKIso"
      },
      "source": [
        "train_dataset = FaceLandmarksDataset(csv_file='dataset/train/face_landmarks.csv',\n",
        "                                     root_dir='dataset/train',\n",
        "                                     transform=ToTensor())\n",
        "\n",
        "test_dataset = FaceLandmarksDataset(csv_file='dataset/test/face_landmarks.csv',\n",
        "                                     root_dir='dataset/test',\n",
        "                                     transform=ToTensor())"
      ],
      "execution_count": 11,
      "outputs": []
    },
    {
      "cell_type": "code",
      "metadata": {
        "collapsed": true,
        "id": "sePQ_TbdKIso"
      },
      "source": [
        "def get_data_loaders(train_batch_size=64, val_batch_size=64):\n",
        "\n",
        "    train_loader = DataLoader(\n",
        "        train_dataset, batch_size=train_batch_size, shuffle=True, drop_last=True\n",
        "    )\n",
        "\n",
        "    test_loader = DataLoader(\n",
        "        test_dataset, batch_size=val_batch_size, shuffle=False\n",
        "    )\n",
        "\n",
        "    return train_loader, test_loader"
      ],
      "execution_count": 12,
      "outputs": []
    },
    {
      "cell_type": "code",
      "metadata": {
        "id": "Z8Cti_EFbALP"
      },
      "source": [
        "device = \"cpu\"\n",
        "\n",
        "if torch.cuda.is_available():\n",
        "    device = \"cuda\""
      ],
      "execution_count": 13,
      "outputs": []
    },
    {
      "cell_type": "code",
      "metadata": {
        "id": "dVR5oR7QBM0F"
      },
      "source": [
        "model_ft = InceptionResnetV1(pretrained='vggface2', classify=False).to(device)\n",
        "model_ft = Sequential(*list(model_ft.children())[:-5])\n",
        "for param in model_ft.parameters():\n",
        "    param.requires_grad = False"
      ],
      "execution_count": 60,
      "outputs": []
    },
    {
      "cell_type": "code",
      "metadata": {
        "id": "H48xUiRXLI8_"
      },
      "source": [
        "# img2 = cv2.merge((imgray,imgray,imgray))"
      ],
      "execution_count": null,
      "outputs": []
    },
    {
      "cell_type": "code",
      "metadata": {
        "id": "kK8DXEK5JlWR",
        "outputId": "c61742be-2dec-4332-c10b-cadb3b917396",
        "colab": {
          "base_uri": "https://localhost:8080/"
        }
      },
      "source": [
        "summary(model_ft, (3, 96, 96))"
      ],
      "execution_count": 61,
      "outputs": [
        {
          "output_type": "stream",
          "text": [
            "----------------------------------------------------------------\n",
            "        Layer (type)               Output Shape         Param #\n",
            "================================================================\n",
            "            Conv2d-1           [-1, 32, 47, 47]             864\n",
            "       BatchNorm2d-2           [-1, 32, 47, 47]              64\n",
            "              ReLU-3           [-1, 32, 47, 47]               0\n",
            "       BasicConv2d-4           [-1, 32, 47, 47]               0\n",
            "            Conv2d-5           [-1, 32, 45, 45]           9,216\n",
            "       BatchNorm2d-6           [-1, 32, 45, 45]              64\n",
            "              ReLU-7           [-1, 32, 45, 45]               0\n",
            "       BasicConv2d-8           [-1, 32, 45, 45]               0\n",
            "            Conv2d-9           [-1, 64, 45, 45]          18,432\n",
            "      BatchNorm2d-10           [-1, 64, 45, 45]             128\n",
            "             ReLU-11           [-1, 64, 45, 45]               0\n",
            "      BasicConv2d-12           [-1, 64, 45, 45]               0\n",
            "        MaxPool2d-13           [-1, 64, 22, 22]               0\n",
            "           Conv2d-14           [-1, 80, 22, 22]           5,120\n",
            "      BatchNorm2d-15           [-1, 80, 22, 22]             160\n",
            "             ReLU-16           [-1, 80, 22, 22]               0\n",
            "      BasicConv2d-17           [-1, 80, 22, 22]               0\n",
            "           Conv2d-18          [-1, 192, 20, 20]         138,240\n",
            "      BatchNorm2d-19          [-1, 192, 20, 20]             384\n",
            "             ReLU-20          [-1, 192, 20, 20]               0\n",
            "      BasicConv2d-21          [-1, 192, 20, 20]               0\n",
            "           Conv2d-22            [-1, 256, 9, 9]         442,368\n",
            "      BatchNorm2d-23            [-1, 256, 9, 9]             512\n",
            "             ReLU-24            [-1, 256, 9, 9]               0\n",
            "      BasicConv2d-25            [-1, 256, 9, 9]               0\n",
            "           Conv2d-26             [-1, 32, 9, 9]           8,192\n",
            "      BatchNorm2d-27             [-1, 32, 9, 9]              64\n",
            "             ReLU-28             [-1, 32, 9, 9]               0\n",
            "      BasicConv2d-29             [-1, 32, 9, 9]               0\n",
            "           Conv2d-30             [-1, 32, 9, 9]           8,192\n",
            "      BatchNorm2d-31             [-1, 32, 9, 9]              64\n",
            "             ReLU-32             [-1, 32, 9, 9]               0\n",
            "      BasicConv2d-33             [-1, 32, 9, 9]               0\n",
            "           Conv2d-34             [-1, 32, 9, 9]           9,216\n",
            "      BatchNorm2d-35             [-1, 32, 9, 9]              64\n",
            "             ReLU-36             [-1, 32, 9, 9]               0\n",
            "      BasicConv2d-37             [-1, 32, 9, 9]               0\n",
            "           Conv2d-38             [-1, 32, 9, 9]           8,192\n",
            "      BatchNorm2d-39             [-1, 32, 9, 9]              64\n",
            "             ReLU-40             [-1, 32, 9, 9]               0\n",
            "      BasicConv2d-41             [-1, 32, 9, 9]               0\n",
            "           Conv2d-42             [-1, 32, 9, 9]           9,216\n",
            "      BatchNorm2d-43             [-1, 32, 9, 9]              64\n",
            "             ReLU-44             [-1, 32, 9, 9]               0\n",
            "      BasicConv2d-45             [-1, 32, 9, 9]               0\n",
            "           Conv2d-46             [-1, 32, 9, 9]           9,216\n",
            "      BatchNorm2d-47             [-1, 32, 9, 9]              64\n",
            "             ReLU-48             [-1, 32, 9, 9]               0\n",
            "      BasicConv2d-49             [-1, 32, 9, 9]               0\n",
            "           Conv2d-50            [-1, 256, 9, 9]          24,832\n",
            "             ReLU-51            [-1, 256, 9, 9]               0\n",
            "          Block35-52            [-1, 256, 9, 9]               0\n",
            "           Conv2d-53             [-1, 32, 9, 9]           8,192\n",
            "      BatchNorm2d-54             [-1, 32, 9, 9]              64\n",
            "             ReLU-55             [-1, 32, 9, 9]               0\n",
            "      BasicConv2d-56             [-1, 32, 9, 9]               0\n",
            "           Conv2d-57             [-1, 32, 9, 9]           8,192\n",
            "      BatchNorm2d-58             [-1, 32, 9, 9]              64\n",
            "             ReLU-59             [-1, 32, 9, 9]               0\n",
            "      BasicConv2d-60             [-1, 32, 9, 9]               0\n",
            "           Conv2d-61             [-1, 32, 9, 9]           9,216\n",
            "      BatchNorm2d-62             [-1, 32, 9, 9]              64\n",
            "             ReLU-63             [-1, 32, 9, 9]               0\n",
            "      BasicConv2d-64             [-1, 32, 9, 9]               0\n",
            "           Conv2d-65             [-1, 32, 9, 9]           8,192\n",
            "      BatchNorm2d-66             [-1, 32, 9, 9]              64\n",
            "             ReLU-67             [-1, 32, 9, 9]               0\n",
            "      BasicConv2d-68             [-1, 32, 9, 9]               0\n",
            "           Conv2d-69             [-1, 32, 9, 9]           9,216\n",
            "      BatchNorm2d-70             [-1, 32, 9, 9]              64\n",
            "             ReLU-71             [-1, 32, 9, 9]               0\n",
            "      BasicConv2d-72             [-1, 32, 9, 9]               0\n",
            "           Conv2d-73             [-1, 32, 9, 9]           9,216\n",
            "      BatchNorm2d-74             [-1, 32, 9, 9]              64\n",
            "             ReLU-75             [-1, 32, 9, 9]               0\n",
            "      BasicConv2d-76             [-1, 32, 9, 9]               0\n",
            "           Conv2d-77            [-1, 256, 9, 9]          24,832\n",
            "             ReLU-78            [-1, 256, 9, 9]               0\n",
            "          Block35-79            [-1, 256, 9, 9]               0\n",
            "           Conv2d-80             [-1, 32, 9, 9]           8,192\n",
            "      BatchNorm2d-81             [-1, 32, 9, 9]              64\n",
            "             ReLU-82             [-1, 32, 9, 9]               0\n",
            "      BasicConv2d-83             [-1, 32, 9, 9]               0\n",
            "           Conv2d-84             [-1, 32, 9, 9]           8,192\n",
            "      BatchNorm2d-85             [-1, 32, 9, 9]              64\n",
            "             ReLU-86             [-1, 32, 9, 9]               0\n",
            "      BasicConv2d-87             [-1, 32, 9, 9]               0\n",
            "           Conv2d-88             [-1, 32, 9, 9]           9,216\n",
            "      BatchNorm2d-89             [-1, 32, 9, 9]              64\n",
            "             ReLU-90             [-1, 32, 9, 9]               0\n",
            "      BasicConv2d-91             [-1, 32, 9, 9]               0\n",
            "           Conv2d-92             [-1, 32, 9, 9]           8,192\n",
            "      BatchNorm2d-93             [-1, 32, 9, 9]              64\n",
            "             ReLU-94             [-1, 32, 9, 9]               0\n",
            "      BasicConv2d-95             [-1, 32, 9, 9]               0\n",
            "           Conv2d-96             [-1, 32, 9, 9]           9,216\n",
            "      BatchNorm2d-97             [-1, 32, 9, 9]              64\n",
            "             ReLU-98             [-1, 32, 9, 9]               0\n",
            "      BasicConv2d-99             [-1, 32, 9, 9]               0\n",
            "          Conv2d-100             [-1, 32, 9, 9]           9,216\n",
            "     BatchNorm2d-101             [-1, 32, 9, 9]              64\n",
            "            ReLU-102             [-1, 32, 9, 9]               0\n",
            "     BasicConv2d-103             [-1, 32, 9, 9]               0\n",
            "          Conv2d-104            [-1, 256, 9, 9]          24,832\n",
            "            ReLU-105            [-1, 256, 9, 9]               0\n",
            "         Block35-106            [-1, 256, 9, 9]               0\n",
            "          Conv2d-107             [-1, 32, 9, 9]           8,192\n",
            "     BatchNorm2d-108             [-1, 32, 9, 9]              64\n",
            "            ReLU-109             [-1, 32, 9, 9]               0\n",
            "     BasicConv2d-110             [-1, 32, 9, 9]               0\n",
            "          Conv2d-111             [-1, 32, 9, 9]           8,192\n",
            "     BatchNorm2d-112             [-1, 32, 9, 9]              64\n",
            "            ReLU-113             [-1, 32, 9, 9]               0\n",
            "     BasicConv2d-114             [-1, 32, 9, 9]               0\n",
            "          Conv2d-115             [-1, 32, 9, 9]           9,216\n",
            "     BatchNorm2d-116             [-1, 32, 9, 9]              64\n",
            "            ReLU-117             [-1, 32, 9, 9]               0\n",
            "     BasicConv2d-118             [-1, 32, 9, 9]               0\n",
            "          Conv2d-119             [-1, 32, 9, 9]           8,192\n",
            "     BatchNorm2d-120             [-1, 32, 9, 9]              64\n",
            "            ReLU-121             [-1, 32, 9, 9]               0\n",
            "     BasicConv2d-122             [-1, 32, 9, 9]               0\n",
            "          Conv2d-123             [-1, 32, 9, 9]           9,216\n",
            "     BatchNorm2d-124             [-1, 32, 9, 9]              64\n",
            "            ReLU-125             [-1, 32, 9, 9]               0\n",
            "     BasicConv2d-126             [-1, 32, 9, 9]               0\n",
            "          Conv2d-127             [-1, 32, 9, 9]           9,216\n",
            "     BatchNorm2d-128             [-1, 32, 9, 9]              64\n",
            "            ReLU-129             [-1, 32, 9, 9]               0\n",
            "     BasicConv2d-130             [-1, 32, 9, 9]               0\n",
            "          Conv2d-131            [-1, 256, 9, 9]          24,832\n",
            "            ReLU-132            [-1, 256, 9, 9]               0\n",
            "         Block35-133            [-1, 256, 9, 9]               0\n",
            "          Conv2d-134             [-1, 32, 9, 9]           8,192\n",
            "     BatchNorm2d-135             [-1, 32, 9, 9]              64\n",
            "            ReLU-136             [-1, 32, 9, 9]               0\n",
            "     BasicConv2d-137             [-1, 32, 9, 9]               0\n",
            "          Conv2d-138             [-1, 32, 9, 9]           8,192\n",
            "     BatchNorm2d-139             [-1, 32, 9, 9]              64\n",
            "            ReLU-140             [-1, 32, 9, 9]               0\n",
            "     BasicConv2d-141             [-1, 32, 9, 9]               0\n",
            "          Conv2d-142             [-1, 32, 9, 9]           9,216\n",
            "     BatchNorm2d-143             [-1, 32, 9, 9]              64\n",
            "            ReLU-144             [-1, 32, 9, 9]               0\n",
            "     BasicConv2d-145             [-1, 32, 9, 9]               0\n",
            "          Conv2d-146             [-1, 32, 9, 9]           8,192\n",
            "     BatchNorm2d-147             [-1, 32, 9, 9]              64\n",
            "            ReLU-148             [-1, 32, 9, 9]               0\n",
            "     BasicConv2d-149             [-1, 32, 9, 9]               0\n",
            "          Conv2d-150             [-1, 32, 9, 9]           9,216\n",
            "     BatchNorm2d-151             [-1, 32, 9, 9]              64\n",
            "            ReLU-152             [-1, 32, 9, 9]               0\n",
            "     BasicConv2d-153             [-1, 32, 9, 9]               0\n",
            "          Conv2d-154             [-1, 32, 9, 9]           9,216\n",
            "     BatchNorm2d-155             [-1, 32, 9, 9]              64\n",
            "            ReLU-156             [-1, 32, 9, 9]               0\n",
            "     BasicConv2d-157             [-1, 32, 9, 9]               0\n",
            "          Conv2d-158            [-1, 256, 9, 9]          24,832\n",
            "            ReLU-159            [-1, 256, 9, 9]               0\n",
            "         Block35-160            [-1, 256, 9, 9]               0\n",
            "          Conv2d-161            [-1, 384, 4, 4]         884,736\n",
            "     BatchNorm2d-162            [-1, 384, 4, 4]             768\n",
            "            ReLU-163            [-1, 384, 4, 4]               0\n",
            "     BasicConv2d-164            [-1, 384, 4, 4]               0\n",
            "          Conv2d-165            [-1, 192, 9, 9]          49,152\n",
            "     BatchNorm2d-166            [-1, 192, 9, 9]             384\n",
            "            ReLU-167            [-1, 192, 9, 9]               0\n",
            "     BasicConv2d-168            [-1, 192, 9, 9]               0\n",
            "          Conv2d-169            [-1, 192, 9, 9]         331,776\n",
            "     BatchNorm2d-170            [-1, 192, 9, 9]             384\n",
            "            ReLU-171            [-1, 192, 9, 9]               0\n",
            "     BasicConv2d-172            [-1, 192, 9, 9]               0\n",
            "          Conv2d-173            [-1, 256, 4, 4]         442,368\n",
            "     BatchNorm2d-174            [-1, 256, 4, 4]             512\n",
            "            ReLU-175            [-1, 256, 4, 4]               0\n",
            "     BasicConv2d-176            [-1, 256, 4, 4]               0\n",
            "       MaxPool2d-177            [-1, 256, 4, 4]               0\n",
            "        Mixed_6a-178            [-1, 896, 4, 4]               0\n",
            "          Conv2d-179            [-1, 128, 4, 4]         114,688\n",
            "     BatchNorm2d-180            [-1, 128, 4, 4]             256\n",
            "            ReLU-181            [-1, 128, 4, 4]               0\n",
            "     BasicConv2d-182            [-1, 128, 4, 4]               0\n",
            "          Conv2d-183            [-1, 128, 4, 4]         114,688\n",
            "     BatchNorm2d-184            [-1, 128, 4, 4]             256\n",
            "            ReLU-185            [-1, 128, 4, 4]               0\n",
            "     BasicConv2d-186            [-1, 128, 4, 4]               0\n",
            "          Conv2d-187            [-1, 128, 4, 4]         114,688\n",
            "     BatchNorm2d-188            [-1, 128, 4, 4]             256\n",
            "            ReLU-189            [-1, 128, 4, 4]               0\n",
            "     BasicConv2d-190            [-1, 128, 4, 4]               0\n",
            "          Conv2d-191            [-1, 128, 4, 4]         114,688\n",
            "     BatchNorm2d-192            [-1, 128, 4, 4]             256\n",
            "            ReLU-193            [-1, 128, 4, 4]               0\n",
            "     BasicConv2d-194            [-1, 128, 4, 4]               0\n",
            "          Conv2d-195            [-1, 896, 4, 4]         230,272\n",
            "            ReLU-196            [-1, 896, 4, 4]               0\n",
            "         Block17-197            [-1, 896, 4, 4]               0\n",
            "          Conv2d-198            [-1, 128, 4, 4]         114,688\n",
            "     BatchNorm2d-199            [-1, 128, 4, 4]             256\n",
            "            ReLU-200            [-1, 128, 4, 4]               0\n",
            "     BasicConv2d-201            [-1, 128, 4, 4]               0\n",
            "          Conv2d-202            [-1, 128, 4, 4]         114,688\n",
            "     BatchNorm2d-203            [-1, 128, 4, 4]             256\n",
            "            ReLU-204            [-1, 128, 4, 4]               0\n",
            "     BasicConv2d-205            [-1, 128, 4, 4]               0\n",
            "          Conv2d-206            [-1, 128, 4, 4]         114,688\n",
            "     BatchNorm2d-207            [-1, 128, 4, 4]             256\n",
            "            ReLU-208            [-1, 128, 4, 4]               0\n",
            "     BasicConv2d-209            [-1, 128, 4, 4]               0\n",
            "          Conv2d-210            [-1, 128, 4, 4]         114,688\n",
            "     BatchNorm2d-211            [-1, 128, 4, 4]             256\n",
            "            ReLU-212            [-1, 128, 4, 4]               0\n",
            "     BasicConv2d-213            [-1, 128, 4, 4]               0\n",
            "          Conv2d-214            [-1, 896, 4, 4]         230,272\n",
            "            ReLU-215            [-1, 896, 4, 4]               0\n",
            "         Block17-216            [-1, 896, 4, 4]               0\n",
            "          Conv2d-217            [-1, 128, 4, 4]         114,688\n",
            "     BatchNorm2d-218            [-1, 128, 4, 4]             256\n",
            "            ReLU-219            [-1, 128, 4, 4]               0\n",
            "     BasicConv2d-220            [-1, 128, 4, 4]               0\n",
            "          Conv2d-221            [-1, 128, 4, 4]         114,688\n",
            "     BatchNorm2d-222            [-1, 128, 4, 4]             256\n",
            "            ReLU-223            [-1, 128, 4, 4]               0\n",
            "     BasicConv2d-224            [-1, 128, 4, 4]               0\n",
            "          Conv2d-225            [-1, 128, 4, 4]         114,688\n",
            "     BatchNorm2d-226            [-1, 128, 4, 4]             256\n",
            "            ReLU-227            [-1, 128, 4, 4]               0\n",
            "     BasicConv2d-228            [-1, 128, 4, 4]               0\n",
            "          Conv2d-229            [-1, 128, 4, 4]         114,688\n",
            "     BatchNorm2d-230            [-1, 128, 4, 4]             256\n",
            "            ReLU-231            [-1, 128, 4, 4]               0\n",
            "     BasicConv2d-232            [-1, 128, 4, 4]               0\n",
            "          Conv2d-233            [-1, 896, 4, 4]         230,272\n",
            "            ReLU-234            [-1, 896, 4, 4]               0\n",
            "         Block17-235            [-1, 896, 4, 4]               0\n",
            "          Conv2d-236            [-1, 128, 4, 4]         114,688\n",
            "     BatchNorm2d-237            [-1, 128, 4, 4]             256\n",
            "            ReLU-238            [-1, 128, 4, 4]               0\n",
            "     BasicConv2d-239            [-1, 128, 4, 4]               0\n",
            "          Conv2d-240            [-1, 128, 4, 4]         114,688\n",
            "     BatchNorm2d-241            [-1, 128, 4, 4]             256\n",
            "            ReLU-242            [-1, 128, 4, 4]               0\n",
            "     BasicConv2d-243            [-1, 128, 4, 4]               0\n",
            "          Conv2d-244            [-1, 128, 4, 4]         114,688\n",
            "     BatchNorm2d-245            [-1, 128, 4, 4]             256\n",
            "            ReLU-246            [-1, 128, 4, 4]               0\n",
            "     BasicConv2d-247            [-1, 128, 4, 4]               0\n",
            "          Conv2d-248            [-1, 128, 4, 4]         114,688\n",
            "     BatchNorm2d-249            [-1, 128, 4, 4]             256\n",
            "            ReLU-250            [-1, 128, 4, 4]               0\n",
            "     BasicConv2d-251            [-1, 128, 4, 4]               0\n",
            "          Conv2d-252            [-1, 896, 4, 4]         230,272\n",
            "            ReLU-253            [-1, 896, 4, 4]               0\n",
            "         Block17-254            [-1, 896, 4, 4]               0\n",
            "          Conv2d-255            [-1, 128, 4, 4]         114,688\n",
            "     BatchNorm2d-256            [-1, 128, 4, 4]             256\n",
            "            ReLU-257            [-1, 128, 4, 4]               0\n",
            "     BasicConv2d-258            [-1, 128, 4, 4]               0\n",
            "          Conv2d-259            [-1, 128, 4, 4]         114,688\n",
            "     BatchNorm2d-260            [-1, 128, 4, 4]             256\n",
            "            ReLU-261            [-1, 128, 4, 4]               0\n",
            "     BasicConv2d-262            [-1, 128, 4, 4]               0\n",
            "          Conv2d-263            [-1, 128, 4, 4]         114,688\n",
            "     BatchNorm2d-264            [-1, 128, 4, 4]             256\n",
            "            ReLU-265            [-1, 128, 4, 4]               0\n",
            "     BasicConv2d-266            [-1, 128, 4, 4]               0\n",
            "          Conv2d-267            [-1, 128, 4, 4]         114,688\n",
            "     BatchNorm2d-268            [-1, 128, 4, 4]             256\n",
            "            ReLU-269            [-1, 128, 4, 4]               0\n",
            "     BasicConv2d-270            [-1, 128, 4, 4]               0\n",
            "          Conv2d-271            [-1, 896, 4, 4]         230,272\n",
            "            ReLU-272            [-1, 896, 4, 4]               0\n",
            "         Block17-273            [-1, 896, 4, 4]               0\n",
            "          Conv2d-274            [-1, 128, 4, 4]         114,688\n",
            "     BatchNorm2d-275            [-1, 128, 4, 4]             256\n",
            "            ReLU-276            [-1, 128, 4, 4]               0\n",
            "     BasicConv2d-277            [-1, 128, 4, 4]               0\n",
            "          Conv2d-278            [-1, 128, 4, 4]         114,688\n",
            "     BatchNorm2d-279            [-1, 128, 4, 4]             256\n",
            "            ReLU-280            [-1, 128, 4, 4]               0\n",
            "     BasicConv2d-281            [-1, 128, 4, 4]               0\n",
            "          Conv2d-282            [-1, 128, 4, 4]         114,688\n",
            "     BatchNorm2d-283            [-1, 128, 4, 4]             256\n",
            "            ReLU-284            [-1, 128, 4, 4]               0\n",
            "     BasicConv2d-285            [-1, 128, 4, 4]               0\n",
            "          Conv2d-286            [-1, 128, 4, 4]         114,688\n",
            "     BatchNorm2d-287            [-1, 128, 4, 4]             256\n",
            "            ReLU-288            [-1, 128, 4, 4]               0\n",
            "     BasicConv2d-289            [-1, 128, 4, 4]               0\n",
            "          Conv2d-290            [-1, 896, 4, 4]         230,272\n",
            "            ReLU-291            [-1, 896, 4, 4]               0\n",
            "         Block17-292            [-1, 896, 4, 4]               0\n",
            "          Conv2d-293            [-1, 128, 4, 4]         114,688\n",
            "     BatchNorm2d-294            [-1, 128, 4, 4]             256\n",
            "            ReLU-295            [-1, 128, 4, 4]               0\n",
            "     BasicConv2d-296            [-1, 128, 4, 4]               0\n",
            "          Conv2d-297            [-1, 128, 4, 4]         114,688\n",
            "     BatchNorm2d-298            [-1, 128, 4, 4]             256\n",
            "            ReLU-299            [-1, 128, 4, 4]               0\n",
            "     BasicConv2d-300            [-1, 128, 4, 4]               0\n",
            "          Conv2d-301            [-1, 128, 4, 4]         114,688\n",
            "     BatchNorm2d-302            [-1, 128, 4, 4]             256\n",
            "            ReLU-303            [-1, 128, 4, 4]               0\n",
            "     BasicConv2d-304            [-1, 128, 4, 4]               0\n",
            "          Conv2d-305            [-1, 128, 4, 4]         114,688\n",
            "     BatchNorm2d-306            [-1, 128, 4, 4]             256\n",
            "            ReLU-307            [-1, 128, 4, 4]               0\n",
            "     BasicConv2d-308            [-1, 128, 4, 4]               0\n",
            "          Conv2d-309            [-1, 896, 4, 4]         230,272\n",
            "            ReLU-310            [-1, 896, 4, 4]               0\n",
            "         Block17-311            [-1, 896, 4, 4]               0\n",
            "          Conv2d-312            [-1, 128, 4, 4]         114,688\n",
            "     BatchNorm2d-313            [-1, 128, 4, 4]             256\n",
            "            ReLU-314            [-1, 128, 4, 4]               0\n",
            "     BasicConv2d-315            [-1, 128, 4, 4]               0\n",
            "          Conv2d-316            [-1, 128, 4, 4]         114,688\n",
            "     BatchNorm2d-317            [-1, 128, 4, 4]             256\n",
            "            ReLU-318            [-1, 128, 4, 4]               0\n",
            "     BasicConv2d-319            [-1, 128, 4, 4]               0\n",
            "          Conv2d-320            [-1, 128, 4, 4]         114,688\n",
            "     BatchNorm2d-321            [-1, 128, 4, 4]             256\n",
            "            ReLU-322            [-1, 128, 4, 4]               0\n",
            "     BasicConv2d-323            [-1, 128, 4, 4]               0\n",
            "          Conv2d-324            [-1, 128, 4, 4]         114,688\n",
            "     BatchNorm2d-325            [-1, 128, 4, 4]             256\n",
            "            ReLU-326            [-1, 128, 4, 4]               0\n",
            "     BasicConv2d-327            [-1, 128, 4, 4]               0\n",
            "          Conv2d-328            [-1, 896, 4, 4]         230,272\n",
            "            ReLU-329            [-1, 896, 4, 4]               0\n",
            "         Block17-330            [-1, 896, 4, 4]               0\n",
            "          Conv2d-331            [-1, 128, 4, 4]         114,688\n",
            "     BatchNorm2d-332            [-1, 128, 4, 4]             256\n",
            "            ReLU-333            [-1, 128, 4, 4]               0\n",
            "     BasicConv2d-334            [-1, 128, 4, 4]               0\n",
            "          Conv2d-335            [-1, 128, 4, 4]         114,688\n",
            "     BatchNorm2d-336            [-1, 128, 4, 4]             256\n",
            "            ReLU-337            [-1, 128, 4, 4]               0\n",
            "     BasicConv2d-338            [-1, 128, 4, 4]               0\n",
            "          Conv2d-339            [-1, 128, 4, 4]         114,688\n",
            "     BatchNorm2d-340            [-1, 128, 4, 4]             256\n",
            "            ReLU-341            [-1, 128, 4, 4]               0\n",
            "     BasicConv2d-342            [-1, 128, 4, 4]               0\n",
            "          Conv2d-343            [-1, 128, 4, 4]         114,688\n",
            "     BatchNorm2d-344            [-1, 128, 4, 4]             256\n",
            "            ReLU-345            [-1, 128, 4, 4]               0\n",
            "     BasicConv2d-346            [-1, 128, 4, 4]               0\n",
            "          Conv2d-347            [-1, 896, 4, 4]         230,272\n",
            "            ReLU-348            [-1, 896, 4, 4]               0\n",
            "         Block17-349            [-1, 896, 4, 4]               0\n",
            "          Conv2d-350            [-1, 128, 4, 4]         114,688\n",
            "     BatchNorm2d-351            [-1, 128, 4, 4]             256\n",
            "            ReLU-352            [-1, 128, 4, 4]               0\n",
            "     BasicConv2d-353            [-1, 128, 4, 4]               0\n",
            "          Conv2d-354            [-1, 128, 4, 4]         114,688\n",
            "     BatchNorm2d-355            [-1, 128, 4, 4]             256\n",
            "            ReLU-356            [-1, 128, 4, 4]               0\n",
            "     BasicConv2d-357            [-1, 128, 4, 4]               0\n",
            "          Conv2d-358            [-1, 128, 4, 4]         114,688\n",
            "     BatchNorm2d-359            [-1, 128, 4, 4]             256\n",
            "            ReLU-360            [-1, 128, 4, 4]               0\n",
            "     BasicConv2d-361            [-1, 128, 4, 4]               0\n",
            "          Conv2d-362            [-1, 128, 4, 4]         114,688\n",
            "     BatchNorm2d-363            [-1, 128, 4, 4]             256\n",
            "            ReLU-364            [-1, 128, 4, 4]               0\n",
            "     BasicConv2d-365            [-1, 128, 4, 4]               0\n",
            "          Conv2d-366            [-1, 896, 4, 4]         230,272\n",
            "            ReLU-367            [-1, 896, 4, 4]               0\n",
            "         Block17-368            [-1, 896, 4, 4]               0\n",
            "          Conv2d-369            [-1, 256, 4, 4]         229,376\n",
            "     BatchNorm2d-370            [-1, 256, 4, 4]             512\n",
            "            ReLU-371            [-1, 256, 4, 4]               0\n",
            "     BasicConv2d-372            [-1, 256, 4, 4]               0\n",
            "          Conv2d-373            [-1, 384, 1, 1]         884,736\n",
            "     BatchNorm2d-374            [-1, 384, 1, 1]             768\n",
            "            ReLU-375            [-1, 384, 1, 1]               0\n",
            "     BasicConv2d-376            [-1, 384, 1, 1]               0\n",
            "          Conv2d-377            [-1, 256, 4, 4]         229,376\n",
            "     BatchNorm2d-378            [-1, 256, 4, 4]             512\n",
            "            ReLU-379            [-1, 256, 4, 4]               0\n",
            "     BasicConv2d-380            [-1, 256, 4, 4]               0\n",
            "          Conv2d-381            [-1, 256, 1, 1]         589,824\n",
            "     BatchNorm2d-382            [-1, 256, 1, 1]             512\n",
            "            ReLU-383            [-1, 256, 1, 1]               0\n",
            "     BasicConv2d-384            [-1, 256, 1, 1]               0\n",
            "          Conv2d-385            [-1, 256, 4, 4]         229,376\n",
            "     BatchNorm2d-386            [-1, 256, 4, 4]             512\n",
            "            ReLU-387            [-1, 256, 4, 4]               0\n",
            "     BasicConv2d-388            [-1, 256, 4, 4]               0\n",
            "          Conv2d-389            [-1, 256, 4, 4]         589,824\n",
            "     BatchNorm2d-390            [-1, 256, 4, 4]             512\n",
            "            ReLU-391            [-1, 256, 4, 4]               0\n",
            "     BasicConv2d-392            [-1, 256, 4, 4]               0\n",
            "          Conv2d-393            [-1, 256, 1, 1]         589,824\n",
            "     BatchNorm2d-394            [-1, 256, 1, 1]             512\n",
            "            ReLU-395            [-1, 256, 1, 1]               0\n",
            "     BasicConv2d-396            [-1, 256, 1, 1]               0\n",
            "       MaxPool2d-397            [-1, 896, 1, 1]               0\n",
            "        Mixed_7a-398           [-1, 1792, 1, 1]               0\n",
            "          Conv2d-399            [-1, 192, 1, 1]         344,064\n",
            "     BatchNorm2d-400            [-1, 192, 1, 1]             384\n",
            "            ReLU-401            [-1, 192, 1, 1]               0\n",
            "     BasicConv2d-402            [-1, 192, 1, 1]               0\n",
            "          Conv2d-403            [-1, 192, 1, 1]         344,064\n",
            "     BatchNorm2d-404            [-1, 192, 1, 1]             384\n",
            "            ReLU-405            [-1, 192, 1, 1]               0\n",
            "     BasicConv2d-406            [-1, 192, 1, 1]               0\n",
            "          Conv2d-407            [-1, 192, 1, 1]         110,592\n",
            "     BatchNorm2d-408            [-1, 192, 1, 1]             384\n",
            "            ReLU-409            [-1, 192, 1, 1]               0\n",
            "     BasicConv2d-410            [-1, 192, 1, 1]               0\n",
            "          Conv2d-411            [-1, 192, 1, 1]         110,592\n",
            "     BatchNorm2d-412            [-1, 192, 1, 1]             384\n",
            "            ReLU-413            [-1, 192, 1, 1]               0\n",
            "     BasicConv2d-414            [-1, 192, 1, 1]               0\n",
            "          Conv2d-415           [-1, 1792, 1, 1]         689,920\n",
            "            ReLU-416           [-1, 1792, 1, 1]               0\n",
            "          Block8-417           [-1, 1792, 1, 1]               0\n",
            "          Conv2d-418            [-1, 192, 1, 1]         344,064\n",
            "     BatchNorm2d-419            [-1, 192, 1, 1]             384\n",
            "            ReLU-420            [-1, 192, 1, 1]               0\n",
            "     BasicConv2d-421            [-1, 192, 1, 1]               0\n",
            "          Conv2d-422            [-1, 192, 1, 1]         344,064\n",
            "     BatchNorm2d-423            [-1, 192, 1, 1]             384\n",
            "            ReLU-424            [-1, 192, 1, 1]               0\n",
            "     BasicConv2d-425            [-1, 192, 1, 1]               0\n",
            "          Conv2d-426            [-1, 192, 1, 1]         110,592\n",
            "     BatchNorm2d-427            [-1, 192, 1, 1]             384\n",
            "            ReLU-428            [-1, 192, 1, 1]               0\n",
            "     BasicConv2d-429            [-1, 192, 1, 1]               0\n",
            "          Conv2d-430            [-1, 192, 1, 1]         110,592\n",
            "     BatchNorm2d-431            [-1, 192, 1, 1]             384\n",
            "            ReLU-432            [-1, 192, 1, 1]               0\n",
            "     BasicConv2d-433            [-1, 192, 1, 1]               0\n",
            "          Conv2d-434           [-1, 1792, 1, 1]         689,920\n",
            "            ReLU-435           [-1, 1792, 1, 1]               0\n",
            "          Block8-436           [-1, 1792, 1, 1]               0\n",
            "          Conv2d-437            [-1, 192, 1, 1]         344,064\n",
            "     BatchNorm2d-438            [-1, 192, 1, 1]             384\n",
            "            ReLU-439            [-1, 192, 1, 1]               0\n",
            "     BasicConv2d-440            [-1, 192, 1, 1]               0\n",
            "          Conv2d-441            [-1, 192, 1, 1]         344,064\n",
            "     BatchNorm2d-442            [-1, 192, 1, 1]             384\n",
            "            ReLU-443            [-1, 192, 1, 1]               0\n",
            "     BasicConv2d-444            [-1, 192, 1, 1]               0\n",
            "          Conv2d-445            [-1, 192, 1, 1]         110,592\n",
            "     BatchNorm2d-446            [-1, 192, 1, 1]             384\n",
            "            ReLU-447            [-1, 192, 1, 1]               0\n",
            "     BasicConv2d-448            [-1, 192, 1, 1]               0\n",
            "          Conv2d-449            [-1, 192, 1, 1]         110,592\n",
            "     BatchNorm2d-450            [-1, 192, 1, 1]             384\n",
            "            ReLU-451            [-1, 192, 1, 1]               0\n",
            "     BasicConv2d-452            [-1, 192, 1, 1]               0\n",
            "          Conv2d-453           [-1, 1792, 1, 1]         689,920\n",
            "            ReLU-454           [-1, 1792, 1, 1]               0\n",
            "          Block8-455           [-1, 1792, 1, 1]               0\n",
            "          Conv2d-456            [-1, 192, 1, 1]         344,064\n",
            "     BatchNorm2d-457            [-1, 192, 1, 1]             384\n",
            "            ReLU-458            [-1, 192, 1, 1]               0\n",
            "     BasicConv2d-459            [-1, 192, 1, 1]               0\n",
            "          Conv2d-460            [-1, 192, 1, 1]         344,064\n",
            "     BatchNorm2d-461            [-1, 192, 1, 1]             384\n",
            "            ReLU-462            [-1, 192, 1, 1]               0\n",
            "     BasicConv2d-463            [-1, 192, 1, 1]               0\n",
            "          Conv2d-464            [-1, 192, 1, 1]         110,592\n",
            "     BatchNorm2d-465            [-1, 192, 1, 1]             384\n",
            "            ReLU-466            [-1, 192, 1, 1]               0\n",
            "     BasicConv2d-467            [-1, 192, 1, 1]               0\n",
            "          Conv2d-468            [-1, 192, 1, 1]         110,592\n",
            "     BatchNorm2d-469            [-1, 192, 1, 1]             384\n",
            "            ReLU-470            [-1, 192, 1, 1]               0\n",
            "     BasicConv2d-471            [-1, 192, 1, 1]               0\n",
            "          Conv2d-472           [-1, 1792, 1, 1]         689,920\n",
            "            ReLU-473           [-1, 1792, 1, 1]               0\n",
            "          Block8-474           [-1, 1792, 1, 1]               0\n",
            "          Conv2d-475            [-1, 192, 1, 1]         344,064\n",
            "     BatchNorm2d-476            [-1, 192, 1, 1]             384\n",
            "            ReLU-477            [-1, 192, 1, 1]               0\n",
            "     BasicConv2d-478            [-1, 192, 1, 1]               0\n",
            "          Conv2d-479            [-1, 192, 1, 1]         344,064\n",
            "     BatchNorm2d-480            [-1, 192, 1, 1]             384\n",
            "            ReLU-481            [-1, 192, 1, 1]               0\n",
            "     BasicConv2d-482            [-1, 192, 1, 1]               0\n",
            "          Conv2d-483            [-1, 192, 1, 1]         110,592\n",
            "     BatchNorm2d-484            [-1, 192, 1, 1]             384\n",
            "            ReLU-485            [-1, 192, 1, 1]               0\n",
            "     BasicConv2d-486            [-1, 192, 1, 1]               0\n",
            "          Conv2d-487            [-1, 192, 1, 1]         110,592\n",
            "     BatchNorm2d-488            [-1, 192, 1, 1]             384\n",
            "            ReLU-489            [-1, 192, 1, 1]               0\n",
            "     BasicConv2d-490            [-1, 192, 1, 1]               0\n",
            "          Conv2d-491           [-1, 1792, 1, 1]         689,920\n",
            "            ReLU-492           [-1, 1792, 1, 1]               0\n",
            "          Block8-493           [-1, 1792, 1, 1]               0\n",
            "          Conv2d-494            [-1, 192, 1, 1]         344,064\n",
            "     BatchNorm2d-495            [-1, 192, 1, 1]             384\n",
            "            ReLU-496            [-1, 192, 1, 1]               0\n",
            "     BasicConv2d-497            [-1, 192, 1, 1]               0\n",
            "          Conv2d-498            [-1, 192, 1, 1]         344,064\n",
            "     BatchNorm2d-499            [-1, 192, 1, 1]             384\n",
            "            ReLU-500            [-1, 192, 1, 1]               0\n",
            "     BasicConv2d-501            [-1, 192, 1, 1]               0\n",
            "          Conv2d-502            [-1, 192, 1, 1]         110,592\n",
            "     BatchNorm2d-503            [-1, 192, 1, 1]             384\n",
            "            ReLU-504            [-1, 192, 1, 1]               0\n",
            "     BasicConv2d-505            [-1, 192, 1, 1]               0\n",
            "          Conv2d-506            [-1, 192, 1, 1]         110,592\n",
            "     BatchNorm2d-507            [-1, 192, 1, 1]             384\n",
            "            ReLU-508            [-1, 192, 1, 1]               0\n",
            "     BasicConv2d-509            [-1, 192, 1, 1]               0\n",
            "          Conv2d-510           [-1, 1792, 1, 1]         689,920\n",
            "          Block8-511           [-1, 1792, 1, 1]               0\n",
            "================================================================\n",
            "Total params: 22,564,096\n",
            "Trainable params: 0\n",
            "Non-trainable params: 22,564,096\n",
            "----------------------------------------------------------------\n",
            "Input size (MB): 0.11\n",
            "Forward/backward pass size (MB): 25.33\n",
            "Params size (MB): 86.08\n",
            "Estimated Total Size (MB): 111.52\n",
            "----------------------------------------------------------------\n"
          ],
          "name": "stdout"
        }
      ]
    },
    {
      "cell_type": "code",
      "metadata": {
        "id": "rN9nRjYzs6wy"
      },
      "source": [
        "class Net(Module):   \n",
        "    def __init__(self):\n",
        "        super(Net, self).__init__()\n",
        "\n",
        "        self.model = Sequential(\n",
        "            # Defining a 2D convolution layer\n",
        "            Conv2d(1, 64, kernel_size=3, stride=1, padding=1),\n",
        "            BatchNorm2d(64),\n",
        "            ReLU(inplace=True),\n",
        "            Conv2d(64, 64, kernel_size=3, stride=1, padding=1),\n",
        "            BatchNorm2d(64),\n",
        "            ReLU(inplace=True),\n",
        "            MaxPool2d(kernel_size=4, stride=4),\n",
        "            # Dropout(0.4),\n",
        "            # Defining another 2D convolution layer\n",
        "            BatchNorm2d(64),\n",
        "            Conv2d(64, 128, kernel_size=3, stride=1, padding=1),\n",
        "            BatchNorm2d(128),\n",
        "            ReLU(inplace=True),\n",
        "            Conv2d(128, 128, kernel_size=3, stride=1, padding=1),\n",
        "            BatchNorm2d(128),\n",
        "            ReLU(inplace=True),\n",
        "            MaxPool2d(kernel_size=2, stride=2),\n",
        "            # Defining third 2D convolution layer\n",
        "            Conv2d(128, 256, kernel_size=3, stride=1, padding=1),\n",
        "            BatchNorm2d(256),\n",
        "            ReLU(inplace=True),\n",
        "            MaxPool2d(kernel_size=2, stride=2),\n",
        "            Flatten(),\n",
        "            Linear(256 * 6 * 6, 256),\n",
        "            ReLU(inplace=True),\n",
        "            Dropout(0.4),\n",
        "            Linear(256, 136),\n",
        "        ).to(device)\n",
        "\n",
        "        # self.linear_layers = Sequential(\n",
        "        #     Linear(4 * 24 * 24, 68 * 2)\n",
        "        # ).to(device)\n",
        "\n",
        "    def get_arch(self):\n",
        "      return self.model\n",
        "\n",
        "    # Defining the forward pass    \n",
        "    def forward(self, x):\n",
        "        # x = x.reshape(64, 1, 96, 96)\n",
        "        x = self.model(x)\n",
        "        # x = x.view(x.size(0), -1)\n",
        "        # x = x.reshape(64, 68, 2)\n",
        "        # x = self.linear_layers(x)\n",
        "        return x"
      ],
      "execution_count": 37,
      "outputs": []
    },
    {
      "cell_type": "code",
      "metadata": {
        "id": "9VPnNyfIzQW5",
        "colab": {
          "base_uri": "https://localhost:8080/"
        },
        "outputId": "7a178540-8113-42a3-b662-a392ec17dc45"
      },
      "source": [
        "n = Net()\n",
        "summary(n.get_arch(), (1,96,96))"
      ],
      "execution_count": 28,
      "outputs": [
        {
          "output_type": "stream",
          "text": [
            "----------------------------------------------------------------\n",
            "        Layer (type)               Output Shape         Param #\n",
            "================================================================\n",
            "            Conv2d-1           [-1, 64, 96, 96]             640\n",
            "       BatchNorm2d-2           [-1, 64, 96, 96]             128\n",
            "              ReLU-3           [-1, 64, 96, 96]               0\n",
            "            Conv2d-4           [-1, 64, 96, 96]          36,928\n",
            "       BatchNorm2d-5           [-1, 64, 96, 96]             128\n",
            "              ReLU-6           [-1, 64, 96, 96]               0\n",
            "         MaxPool2d-7           [-1, 64, 24, 24]               0\n",
            "       BatchNorm2d-8           [-1, 64, 24, 24]             128\n",
            "            Conv2d-9          [-1, 128, 24, 24]          73,856\n",
            "      BatchNorm2d-10          [-1, 128, 24, 24]             256\n",
            "             ReLU-11          [-1, 128, 24, 24]               0\n",
            "           Conv2d-12          [-1, 128, 24, 24]         147,584\n",
            "      BatchNorm2d-13          [-1, 128, 24, 24]             256\n",
            "             ReLU-14          [-1, 128, 24, 24]               0\n",
            "        MaxPool2d-15          [-1, 128, 12, 12]               0\n",
            "           Conv2d-16          [-1, 256, 12, 12]         295,168\n",
            "      BatchNorm2d-17          [-1, 256, 12, 12]             512\n",
            "             ReLU-18          [-1, 256, 12, 12]               0\n",
            "        MaxPool2d-19            [-1, 256, 6, 6]               0\n",
            "          Flatten-20                 [-1, 9216]               0\n",
            "           Linear-21                  [-1, 256]       2,359,552\n",
            "             ReLU-22                  [-1, 256]               0\n",
            "          Dropout-23                  [-1, 256]               0\n",
            "           Linear-24                  [-1, 136]          34,952\n",
            "================================================================\n",
            "Total params: 2,950,088\n",
            "Trainable params: 2,950,088\n",
            "Non-trainable params: 0\n",
            "----------------------------------------------------------------\n",
            "Input size (MB): 0.04\n",
            "Forward/backward pass size (MB): 32.07\n",
            "Params size (MB): 11.25\n",
            "Estimated Total Size (MB): 43.36\n",
            "----------------------------------------------------------------\n"
          ],
          "name": "stdout"
        }
      ]
    },
    {
      "cell_type": "code",
      "metadata": {
        "collapsed": true,
        "id": "wmGWGBeMKIsq"
      },
      "source": [
        ""
      ],
      "execution_count": 28,
      "outputs": []
    },
    {
      "cell_type": "code",
      "metadata": {
        "collapsed": true,
        "id": "HfvyiR0gKIsq"
      },
      "source": [
        "network = Net()\n",
        "train_dataloader, test_dataloader = get_data_loaders()\n",
        "writer = SummaryWriter(filename_suffix='first', logdir=\"logs\")\n",
        "\n",
        "device = \"cpu\"\n",
        "\n",
        "if torch.cuda.is_available():\n",
        "    device = \"cuda\"\n",
        "criterion = MSELoss()\n",
        "optim = Adam\n",
        "learning_rate = 0.01\n",
        "max_epochs = 10\n",
        "\n",
        "optimizer = optim(network.parameters(), lr=learning_rate)\n",
        "\n",
        "trainer = create_supervised_trainer(network, optimizer, criterion, device=device)\n",
        "evaluator = create_supervised_evaluator(\n",
        "    network, metrics={\"L2 loss\": Loss(criterion),\n",
        "                      \"L1 loss\": Loss(L1Loss())}, device=device\n",
        ")\n",
        "\n",
        "training_history = {'l1':[],'l2':[]}\n",
        "validation_history = {'l1':[],'l2':[]}\n",
        "last_epoch = []"
      ],
      "execution_count": 41,
      "outputs": []
    },
    {
      "cell_type": "code",
      "metadata": {
        "collapsed": true,
        "id": "SHeRndjZKIsq"
      },
      "source": [
        "@trainer.on(Events.ITERATION_COMPLETED(every=10))\n",
        "def log_training_loss(engine):\n",
        "    writer.add_scalar(\"training/loss\", engine.state.output, engine.state.iteration)\n",
        "    writer.flush()\n",
        "\n",
        "\n",
        "@trainer.on(Events.EPOCH_COMPLETED)\n",
        "def log_training_results(trainer):\n",
        "    evaluator.run(train_dataloader)\n",
        "    metrics = evaluator.state.metrics\n",
        "    l2_train = metrics[\"L2 loss\"]\n",
        "    l1_train = metrics['L1 loss']\n",
        "    last_epoch.append(0)\n",
        "    training_history['l2'].append(l2_train)\n",
        "    training_history['l1'].append(l1_train)\n",
        "    writer.add_scalar(\"training/epoch_loss\", l2_train, trainer.state.epoch)\n",
        "    \n",
        "    evaluator.run(test_dataloader)\n",
        "    metrics = evaluator.state.metrics\n",
        "    l2 = metrics[\"L2 loss\"]\n",
        "    l1 = metrics['L1 loss']\n",
        "    validation_history['l2'].append(l2)\n",
        "    validation_history['l1'].append(l1)\n",
        "    \n",
        "    writer.add_scalar(\"validation/epoch_loss\", l2, trainer.state.epoch)\n",
        "    writer.flush()\n",
        "    \n",
        "    sys.stdout.write(\"\\rTraining/Validation Results - Epoch: {}  Avg MSE: {:.2f} / {:.2f} Avg MAE: {:.2f} / {:.2f}\"\n",
        "          .format(trainer.state.epoch, l2_train, l2, l1_train, l1))\n",
        "   "
      ],
      "execution_count": 42,
      "outputs": []
    },
    {
      "cell_type": "code",
      "metadata": {
        "collapsed": true,
        "id": "AvLReZPFKIsr"
      },
      "source": [
        ""
      ],
      "execution_count": 42,
      "outputs": []
    },
    {
      "cell_type": "code",
      "metadata": {
        "id": "RgA11eECKIsr",
        "colab": {
          "base_uri": "https://localhost:8080/"
        },
        "outputId": "89e3a2d7-e10a-49e6-b6e2-1f20d35f2595"
      },
      "source": [
        "trainer.run(train_dataloader, max_epochs=max_epochs)"
      ],
      "execution_count": 43,
      "outputs": [
        {
          "output_type": "stream",
          "text": [
            "Training/Validation Results - Epoch: 10  Avg MSE: 40.17 / 42.47 Avg MAE: 4.90 / 5.07"
          ],
          "name": "stdout"
        },
        {
          "output_type": "execute_result",
          "data": {
            "text/plain": [
              "State:\n",
              "\titeration: 970\n",
              "\tepoch: 10\n",
              "\tepoch_length: 97\n",
              "\tmax_epochs: 10\n",
              "\toutput: 73.83331298828125\n",
              "\tbatch: <class 'list'>\n",
              "\tmetrics: <class 'dict'>\n",
              "\tdataloader: <class 'torch.utils.data.dataloader.DataLoader'>\n",
              "\tseed: <class 'NoneType'>\n",
              "\ttimes: <class 'dict'>"
            ]
          },
          "metadata": {
            "tags": []
          },
          "execution_count": 43
        }
      ]
    },
    {
      "cell_type": "code",
      "metadata": {
        "id": "91yy0Jm8KIsr",
        "outputId": "581872ae-0a28-48f4-ce3a-15fc1ba95923",
        "colab": {
          "base_uri": "https://localhost:8080/",
          "height": 339
        }
      },
      "source": [
        "plt.figure(figsize=(12, 5))\n",
        "plt.plot(training_history['l2'][1:], label='Train')\n",
        "plt.plot(validation_history['l2'][1:], label='Test')\n",
        "plt.xlabel('Epochs', fontsize=16)\n",
        "plt.ylabel('Loss', fontsize=16)\n",
        "plt.legend(loc=0, fontsize=16)\n",
        "plt.grid('on')\n",
        "plt.show()"
      ],
      "execution_count": 44,
      "outputs": [
        {
          "output_type": "display_data",
          "data": {
            "image/png": "[encoded data removed]",
            "text/plain": [
              "<Figure size 864x360 with 1 Axes>"
            ]
          },
          "metadata": {
            "tags": [],
            "needs_background": "light"
          }
        }
      ]
    },
    {
      "cell_type": "code",
      "metadata": {
        "collapsed": true,
        "id": "JC4KDCwGKIsr"
      },
      "source": [
        ""
      ],
      "execution_count": null,
      "outputs": []
    },
    {
      "cell_type": "code",
      "metadata": {
        "collapsed": true,
        "id": "0Ez3wLXaKIss"
      },
      "source": [
        ""
      ],
      "execution_count": null,
      "outputs": []
    },
    {
      "cell_type": "code",
      "metadata": {
        "id": "Qb38OMbyKIss",
        "outputId": "fc118c2e-e360-43c3-93d7-1b5c28013ad8",
        "colab": {
          "base_uri": "https://localhost:8080/",
          "height": 970
        }
      },
      "source": [
        "_, test_dataloader = get_data_loaders(val_batch_size=2)\n",
        "\n",
        "images_batch = next(iter(test_dataloader))\n",
        "x, y = images_batch\n",
        "y_pred = network.forward(x)\n",
        "y_pred = y_pred.data.numpy()\n",
        "show_landmarks_batch(images_batch, y_pred)"
      ],
      "execution_count": 34,
      "outputs": [
        {
          "output_type": "error",
          "ename": "RuntimeError",
          "evalue": "ignored",
          "traceback": [
            "\u001b[0;31m---------------------------------------------------------------------------\u001b[0m",
            "\u001b[0;31mRuntimeError\u001b[0m                              Traceback (most recent call last)",
            "\u001b[0;32m<ipython-input-34-0ed5149cb8d2>\u001b[0m in \u001b[0;36m<module>\u001b[0;34m()\u001b[0m\n\u001b[1;32m      3\u001b[0m \u001b[0mimages_batch\u001b[0m \u001b[0;34m=\u001b[0m \u001b[0mnext\u001b[0m\u001b[0;34m(\u001b[0m\u001b[0miter\u001b[0m\u001b[0;34m(\u001b[0m\u001b[0mtest_dataloader\u001b[0m\u001b[0;34m)\u001b[0m\u001b[0;34m)\u001b[0m\u001b[0;34m\u001b[0m\u001b[0;34m\u001b[0m\u001b[0m\n\u001b[1;32m      4\u001b[0m \u001b[0mx\u001b[0m\u001b[0;34m,\u001b[0m \u001b[0my\u001b[0m \u001b[0;34m=\u001b[0m \u001b[0mimages_batch\u001b[0m\u001b[0;34m\u001b[0m\u001b[0;34m\u001b[0m\u001b[0m\n\u001b[0;32m----> 5\u001b[0;31m \u001b[0my_pred\u001b[0m \u001b[0;34m=\u001b[0m \u001b[0mnetwork\u001b[0m\u001b[0;34m.\u001b[0m\u001b[0mforward\u001b[0m\u001b[0;34m(\u001b[0m\u001b[0mx\u001b[0m\u001b[0;34m)\u001b[0m\u001b[0;34m\u001b[0m\u001b[0;34m\u001b[0m\u001b[0m\n\u001b[0m\u001b[1;32m      6\u001b[0m \u001b[0my_pred\u001b[0m \u001b[0;34m=\u001b[0m \u001b[0my_pred\u001b[0m\u001b[0;34m.\u001b[0m\u001b[0mdata\u001b[0m\u001b[0;34m.\u001b[0m\u001b[0mnumpy\u001b[0m\u001b[0;34m(\u001b[0m\u001b[0;34m)\u001b[0m\u001b[0;34m\u001b[0m\u001b[0;34m\u001b[0m\u001b[0m\n\u001b[1;32m      7\u001b[0m \u001b[0mshow_landmarks_batch\u001b[0m\u001b[0;34m(\u001b[0m\u001b[0mimages_batch\u001b[0m\u001b[0;34m,\u001b[0m \u001b[0my_pred\u001b[0m\u001b[0;34m)\u001b[0m\u001b[0;34m\u001b[0m\u001b[0;34m\u001b[0m\u001b[0m\n",
            "\u001b[0;32m<ipython-input-27-f866a43243e0>\u001b[0m in \u001b[0;36mforward\u001b[0;34m(self, x)\u001b[0m\n\u001b[1;32m     44\u001b[0m     \u001b[0;32mdef\u001b[0m \u001b[0mforward\u001b[0m\u001b[0;34m(\u001b[0m\u001b[0mself\u001b[0m\u001b[0;34m,\u001b[0m \u001b[0mx\u001b[0m\u001b[0;34m)\u001b[0m\u001b[0;34m:\u001b[0m\u001b[0;34m\u001b[0m\u001b[0;34m\u001b[0m\u001b[0m\n\u001b[1;32m     45\u001b[0m         \u001b[0;31m# x = x.reshape(64, 1, 96, 96)\u001b[0m\u001b[0;34m\u001b[0m\u001b[0;34m\u001b[0m\u001b[0;34m\u001b[0m\u001b[0m\n\u001b[0;32m---> 46\u001b[0;31m         \u001b[0mx\u001b[0m \u001b[0;34m=\u001b[0m \u001b[0mself\u001b[0m\u001b[0;34m.\u001b[0m\u001b[0mmodel\u001b[0m\u001b[0;34m(\u001b[0m\u001b[0mx\u001b[0m\u001b[0;34m)\u001b[0m\u001b[0;34m\u001b[0m\u001b[0;34m\u001b[0m\u001b[0m\n\u001b[0m\u001b[1;32m     47\u001b[0m         \u001b[0;31m# x = x.view(x.size(0), -1)\u001b[0m\u001b[0;34m\u001b[0m\u001b[0;34m\u001b[0m\u001b[0;34m\u001b[0m\u001b[0m\n\u001b[1;32m     48\u001b[0m         \u001b[0;31m# x = x.reshape(64, 68, 2)\u001b[0m\u001b[0;34m\u001b[0m\u001b[0;34m\u001b[0m\u001b[0;34m\u001b[0m\u001b[0m\n",
            "\u001b[0;32m/usr/local/lib/python3.7/dist-packages/torch/nn/modules/module.py\u001b[0m in \u001b[0;36m_call_impl\u001b[0;34m(self, *input, **kwargs)\u001b[0m\n\u001b[1;32m    887\u001b[0m             \u001b[0mresult\u001b[0m \u001b[0;34m=\u001b[0m \u001b[0mself\u001b[0m\u001b[0;34m.\u001b[0m\u001b[0m_slow_forward\u001b[0m\u001b[0;34m(\u001b[0m\u001b[0;34m*\u001b[0m\u001b[0minput\u001b[0m\u001b[0;34m,\u001b[0m \u001b[0;34m**\u001b[0m\u001b[0mkwargs\u001b[0m\u001b[0;34m)\u001b[0m\u001b[0;34m\u001b[0m\u001b[0;34m\u001b[0m\u001b[0m\n\u001b[1;32m    888\u001b[0m         \u001b[0;32melse\u001b[0m\u001b[0;34m:\u001b[0m\u001b[0;34m\u001b[0m\u001b[0;34m\u001b[0m\u001b[0m\n\u001b[0;32m--> 889\u001b[0;31m             \u001b[0mresult\u001b[0m \u001b[0;34m=\u001b[0m \u001b[0mself\u001b[0m\u001b[0;34m.\u001b[0m\u001b[0mforward\u001b[0m\u001b[0;34m(\u001b[0m\u001b[0;34m*\u001b[0m\u001b[0minput\u001b[0m\u001b[0;34m,\u001b[0m \u001b[0;34m**\u001b[0m\u001b[0mkwargs\u001b[0m\u001b[0;34m)\u001b[0m\u001b[0;34m\u001b[0m\u001b[0;34m\u001b[0m\u001b[0m\n\u001b[0m\u001b[1;32m    890\u001b[0m         for hook in itertools.chain(\n\u001b[1;32m    891\u001b[0m                 \u001b[0m_global_forward_hooks\u001b[0m\u001b[0;34m.\u001b[0m\u001b[0mvalues\u001b[0m\u001b[0;34m(\u001b[0m\u001b[0;34m)\u001b[0m\u001b[0;34m,\u001b[0m\u001b[0;34m\u001b[0m\u001b[0;34m\u001b[0m\u001b[0m\n",
            "\u001b[0;32m/usr/local/lib/python3.7/dist-packages/torch/nn/modules/container.py\u001b[0m in \u001b[0;36mforward\u001b[0;34m(self, input)\u001b[0m\n\u001b[1;32m    117\u001b[0m     \u001b[0;32mdef\u001b[0m \u001b[0mforward\u001b[0m\u001b[0;34m(\u001b[0m\u001b[0mself\u001b[0m\u001b[0;34m,\u001b[0m \u001b[0minput\u001b[0m\u001b[0;34m)\u001b[0m\u001b[0;34m:\u001b[0m\u001b[0;34m\u001b[0m\u001b[0;34m\u001b[0m\u001b[0m\n\u001b[1;32m    118\u001b[0m         \u001b[0;32mfor\u001b[0m \u001b[0mmodule\u001b[0m \u001b[0;32min\u001b[0m \u001b[0mself\u001b[0m\u001b[0;34m:\u001b[0m\u001b[0;34m\u001b[0m\u001b[0;34m\u001b[0m\u001b[0m\n\u001b[0;32m--> 119\u001b[0;31m             \u001b[0minput\u001b[0m \u001b[0;34m=\u001b[0m \u001b[0mmodule\u001b[0m\u001b[0;34m(\u001b[0m\u001b[0minput\u001b[0m\u001b[0;34m)\u001b[0m\u001b[0;34m\u001b[0m\u001b[0;34m\u001b[0m\u001b[0m\n\u001b[0m\u001b[1;32m    120\u001b[0m         \u001b[0;32mreturn\u001b[0m \u001b[0minput\u001b[0m\u001b[0;34m\u001b[0m\u001b[0;34m\u001b[0m\u001b[0m\n\u001b[1;32m    121\u001b[0m \u001b[0;34m\u001b[0m\u001b[0m\n",
            "\u001b[0;32m/usr/local/lib/python3.7/dist-packages/torch/nn/modules/module.py\u001b[0m in \u001b[0;36m_call_impl\u001b[0;34m(self, *input, **kwargs)\u001b[0m\n\u001b[1;32m    887\u001b[0m             \u001b[0mresult\u001b[0m \u001b[0;34m=\u001b[0m \u001b[0mself\u001b[0m\u001b[0;34m.\u001b[0m\u001b[0m_slow_forward\u001b[0m\u001b[0;34m(\u001b[0m\u001b[0;34m*\u001b[0m\u001b[0minput\u001b[0m\u001b[0;34m,\u001b[0m \u001b[0;34m**\u001b[0m\u001b[0mkwargs\u001b[0m\u001b[0;34m)\u001b[0m\u001b[0;34m\u001b[0m\u001b[0;34m\u001b[0m\u001b[0m\n\u001b[1;32m    888\u001b[0m         \u001b[0;32melse\u001b[0m\u001b[0;34m:\u001b[0m\u001b[0;34m\u001b[0m\u001b[0;34m\u001b[0m\u001b[0m\n\u001b[0;32m--> 889\u001b[0;31m             \u001b[0mresult\u001b[0m \u001b[0;34m=\u001b[0m \u001b[0mself\u001b[0m\u001b[0;34m.\u001b[0m\u001b[0mforward\u001b[0m\u001b[0;34m(\u001b[0m\u001b[0;34m*\u001b[0m\u001b[0minput\u001b[0m\u001b[0;34m,\u001b[0m \u001b[0;34m**\u001b[0m\u001b[0mkwargs\u001b[0m\u001b[0;34m)\u001b[0m\u001b[0;34m\u001b[0m\u001b[0;34m\u001b[0m\u001b[0m\n\u001b[0m\u001b[1;32m    890\u001b[0m         for hook in itertools.chain(\n\u001b[1;32m    891\u001b[0m                 \u001b[0m_global_forward_hooks\u001b[0m\u001b[0;34m.\u001b[0m\u001b[0mvalues\u001b[0m\u001b[0;34m(\u001b[0m\u001b[0;34m)\u001b[0m\u001b[0;34m,\u001b[0m\u001b[0;34m\u001b[0m\u001b[0;34m\u001b[0m\u001b[0m\n",
            "\u001b[0;32m/usr/local/lib/python3.7/dist-packages/torch/nn/modules/conv.py\u001b[0m in \u001b[0;36mforward\u001b[0;34m(self, input)\u001b[0m\n\u001b[1;32m    397\u001b[0m \u001b[0;34m\u001b[0m\u001b[0m\n\u001b[1;32m    398\u001b[0m     \u001b[0;32mdef\u001b[0m \u001b[0mforward\u001b[0m\u001b[0;34m(\u001b[0m\u001b[0mself\u001b[0m\u001b[0;34m,\u001b[0m \u001b[0minput\u001b[0m\u001b[0;34m:\u001b[0m \u001b[0mTensor\u001b[0m\u001b[0;34m)\u001b[0m \u001b[0;34m->\u001b[0m \u001b[0mTensor\u001b[0m\u001b[0;34m:\u001b[0m\u001b[0;34m\u001b[0m\u001b[0;34m\u001b[0m\u001b[0m\n\u001b[0;32m--> 399\u001b[0;31m         \u001b[0;32mreturn\u001b[0m \u001b[0mself\u001b[0m\u001b[0;34m.\u001b[0m\u001b[0m_conv_forward\u001b[0m\u001b[0;34m(\u001b[0m\u001b[0minput\u001b[0m\u001b[0;34m,\u001b[0m \u001b[0mself\u001b[0m\u001b[0;34m.\u001b[0m\u001b[0mweight\u001b[0m\u001b[0;34m,\u001b[0m \u001b[0mself\u001b[0m\u001b[0;34m.\u001b[0m\u001b[0mbias\u001b[0m\u001b[0;34m)\u001b[0m\u001b[0;34m\u001b[0m\u001b[0;34m\u001b[0m\u001b[0m\n\u001b[0m\u001b[1;32m    400\u001b[0m \u001b[0;34m\u001b[0m\u001b[0m\n\u001b[1;32m    401\u001b[0m \u001b[0;32mclass\u001b[0m \u001b[0mConv3d\u001b[0m\u001b[0;34m(\u001b[0m\u001b[0m_ConvNd\u001b[0m\u001b[0;34m)\u001b[0m\u001b[0;34m:\u001b[0m\u001b[0;34m\u001b[0m\u001b[0;34m\u001b[0m\u001b[0m\n",
            "\u001b[0;32m/usr/local/lib/python3.7/dist-packages/torch/nn/modules/conv.py\u001b[0m in \u001b[0;36m_conv_forward\u001b[0;34m(self, input, weight, bias)\u001b[0m\n\u001b[1;32m    394\u001b[0m                             _pair(0), self.dilation, self.groups)\n\u001b[1;32m    395\u001b[0m         return F.conv2d(input, weight, bias, self.stride,\n\u001b[0;32m--> 396\u001b[0;31m                         self.padding, self.dilation, self.groups)\n\u001b[0m\u001b[1;32m    397\u001b[0m \u001b[0;34m\u001b[0m\u001b[0m\n\u001b[1;32m    398\u001b[0m     \u001b[0;32mdef\u001b[0m \u001b[0mforward\u001b[0m\u001b[0;34m(\u001b[0m\u001b[0mself\u001b[0m\u001b[0;34m,\u001b[0m \u001b[0minput\u001b[0m\u001b[0;34m:\u001b[0m \u001b[0mTensor\u001b[0m\u001b[0;34m)\u001b[0m \u001b[0;34m->\u001b[0m \u001b[0mTensor\u001b[0m\u001b[0;34m:\u001b[0m\u001b[0;34m\u001b[0m\u001b[0;34m\u001b[0m\u001b[0m\n",
            "\u001b[0;31mRuntimeError\u001b[0m: Input type (torch.FloatTensor) and weight type (torch.cuda.FloatTensor) should be the same"
          ]
        }
      ]
    },
    {
      "cell_type": "code",
      "metadata": {
        "collapsed": true,
        "id": "oU6OSSAYKIst"
      },
      "source": [
        ""
      ],
      "execution_count": null,
      "outputs": []
    }
  ]
}