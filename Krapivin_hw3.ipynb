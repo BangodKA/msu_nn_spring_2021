{
  "nbformat": 4,
  "nbformat_minor": 0,
  "metadata": {
    "kernelspec": {
      "display_name": "Python 3",
      "language": "python",
      "name": "python3"
    },
    "language_info": {
      "codemirror_mode": {
        "name": "ipython",
        "version": 3
      },
      "file_extension": ".py",
      "mimetype": "text/x-python",
      "name": "python",
      "nbconvert_exporter": "python",
      "pygments_lexer": "ipython3",
      "version": "3.7.4"
    },
    "colab": {
      "name": "Krapivin_hw3.ipynb",
      "provenance": []
    },
    "accelerator": "GPU",
    "widgets": {
      "application/vnd.jupyter.widget-state+json": {
        "f28d7b7352d24b53aa3a2ec359278c70": {
          "model_module": "@jupyter-widgets/controls",
          "model_name": "HBoxModel",
          "state": {
            "_view_name": "HBoxView",
            "_dom_classes": [],
            "_model_name": "HBoxModel",
            "_view_module": "@jupyter-widgets/controls",
            "_model_module_version": "1.5.0",
            "_view_count": null,
            "_view_module_version": "1.5.0",
            "box_style": "",
            "layout": "IPY_MODEL_c345e3ce6110471a997fdf7f09455a3c",
            "_model_module": "@jupyter-widgets/controls",
            "children": [
              "IPY_MODEL_ebaaa3286bf64fe7bfad299ad03c44df",
              "IPY_MODEL_d0d4d8bc617948c78a7435d1c238e1a6"
            ]
          }
        },
        "c345e3ce6110471a997fdf7f09455a3c": {
          "model_module": "@jupyter-widgets/base",
          "model_name": "LayoutModel",
          "state": {
            "_view_name": "LayoutView",
            "grid_template_rows": null,
            "right": null,
            "justify_content": null,
            "_view_module": "@jupyter-widgets/base",
            "overflow": null,
            "_model_module_version": "1.2.0",
            "_view_count": null,
            "flex_flow": null,
            "width": null,
            "min_width": null,
            "border": null,
            "align_items": null,
            "bottom": null,
            "_model_module": "@jupyter-widgets/base",
            "top": null,
            "grid_column": null,
            "overflow_y": null,
            "overflow_x": null,
            "grid_auto_flow": null,
            "grid_area": null,
            "grid_template_columns": null,
            "flex": null,
            "_model_name": "LayoutModel",
            "justify_items": null,
            "grid_row": null,
            "max_height": null,
            "align_content": null,
            "visibility": null,
            "align_self": null,
            "height": null,
            "min_height": null,
            "padding": null,
            "grid_auto_rows": null,
            "grid_gap": null,
            "max_width": null,
            "order": null,
            "_view_module_version": "1.2.0",
            "grid_template_areas": null,
            "object_position": null,
            "object_fit": null,
            "grid_auto_columns": null,
            "margin": null,
            "display": null,
            "left": null
          }
        },
        "ebaaa3286bf64fe7bfad299ad03c44df": {
          "model_module": "@jupyter-widgets/controls",
          "model_name": "FloatProgressModel",
          "state": {
            "_view_name": "ProgressView",
            "style": "IPY_MODEL_6ddee52252c04ed1a6367fb945ed0c50",
            "_dom_classes": [],
            "description": "100%",
            "_model_name": "FloatProgressModel",
            "bar_style": "success",
            "max": 574673361,
            "_view_module": "@jupyter-widgets/controls",
            "_model_module_version": "1.5.0",
            "value": 574673361,
            "_view_count": null,
            "_view_module_version": "1.5.0",
            "orientation": "horizontal",
            "min": 0,
            "description_tooltip": null,
            "_model_module": "@jupyter-widgets/controls",
            "layout": "IPY_MODEL_9d82de41ecad4976a5444a3ce8fbf12d"
          }
        },
        "d0d4d8bc617948c78a7435d1c238e1a6": {
          "model_module": "@jupyter-widgets/controls",
          "model_name": "HTMLModel",
          "state": {
            "_view_name": "HTMLView",
            "style": "IPY_MODEL_cc4be108648f4ecbb67068b6e96b9c99",
            "_dom_classes": [],
            "description": "",
            "_model_name": "HTMLModel",
            "placeholder": "​",
            "_view_module": "@jupyter-widgets/controls",
            "_model_module_version": "1.5.0",
            "value": " 548M/548M [00:26&lt;00:00, 22.0MB/s]",
            "_view_count": null,
            "_view_module_version": "1.5.0",
            "description_tooltip": null,
            "_model_module": "@jupyter-widgets/controls",
            "layout": "IPY_MODEL_9dbad9e6031b458a871ab14ccf168675"
          }
        },
        "6ddee52252c04ed1a6367fb945ed0c50": {
          "model_module": "@jupyter-widgets/controls",
          "model_name": "ProgressStyleModel",
          "state": {
            "_view_name": "StyleView",
            "_model_name": "ProgressStyleModel",
            "description_width": "initial",
            "_view_module": "@jupyter-widgets/base",
            "_model_module_version": "1.5.0",
            "_view_count": null,
            "_view_module_version": "1.2.0",
            "bar_color": null,
            "_model_module": "@jupyter-widgets/controls"
          }
        },
        "9d82de41ecad4976a5444a3ce8fbf12d": {
          "model_module": "@jupyter-widgets/base",
          "model_name": "LayoutModel",
          "state": {
            "_view_name": "LayoutView",
            "grid_template_rows": null,
            "right": null,
            "justify_content": null,
            "_view_module": "@jupyter-widgets/base",
            "overflow": null,
            "_model_module_version": "1.2.0",
            "_view_count": null,
            "flex_flow": null,
            "width": null,
            "min_width": null,
            "border": null,
            "align_items": null,
            "bottom": null,
            "_model_module": "@jupyter-widgets/base",
            "top": null,
            "grid_column": null,
            "overflow_y": null,
            "overflow_x": null,
            "grid_auto_flow": null,
            "grid_area": null,
            "grid_template_columns": null,
            "flex": null,
            "_model_name": "LayoutModel",
            "justify_items": null,
            "grid_row": null,
            "max_height": null,
            "align_content": null,
            "visibility": null,
            "align_self": null,
            "height": null,
            "min_height": null,
            "padding": null,
            "grid_auto_rows": null,
            "grid_gap": null,
            "max_width": null,
            "order": null,
            "_view_module_version": "1.2.0",
            "grid_template_areas": null,
            "object_position": null,
            "object_fit": null,
            "grid_auto_columns": null,
            "margin": null,
            "display": null,
            "left": null
          }
        },
        "cc4be108648f4ecbb67068b6e96b9c99": {
          "model_module": "@jupyter-widgets/controls",
          "model_name": "DescriptionStyleModel",
          "state": {
            "_view_name": "StyleView",
            "_model_name": "DescriptionStyleModel",
            "description_width": "",
            "_view_module": "@jupyter-widgets/base",
            "_model_module_version": "1.5.0",
            "_view_count": null,
            "_view_module_version": "1.2.0",
            "_model_module": "@jupyter-widgets/controls"
          }
        },
        "9dbad9e6031b458a871ab14ccf168675": {
          "model_module": "@jupyter-widgets/base",
          "model_name": "LayoutModel",
          "state": {
            "_view_name": "LayoutView",
            "grid_template_rows": null,
            "right": null,
            "justify_content": null,
            "_view_module": "@jupyter-widgets/base",
            "overflow": null,
            "_model_module_version": "1.2.0",
            "_view_count": null,
            "flex_flow": null,
            "width": null,
            "min_width": null,
            "border": null,
            "align_items": null,
            "bottom": null,
            "_model_module": "@jupyter-widgets/base",
            "top": null,
            "grid_column": null,
            "overflow_y": null,
            "overflow_x": null,
            "grid_auto_flow": null,
            "grid_area": null,
            "grid_template_columns": null,
            "flex": null,
            "_model_name": "LayoutModel",
            "justify_items": null,
            "grid_row": null,
            "max_height": null,
            "align_content": null,
            "visibility": null,
            "align_self": null,
            "height": null,
            "min_height": null,
            "padding": null,
            "grid_auto_rows": null,
            "grid_gap": null,
            "max_width": null,
            "order": null,
            "_view_module_version": "1.2.0",
            "grid_template_areas": null,
            "object_position": null,
            "object_fit": null,
            "grid_auto_columns": null,
            "margin": null,
            "display": null,
            "left": null
          }
        }
      }
    }
  },
  "cells": [
    {
      "cell_type": "code",
      "metadata": {
        "id": "YFBhtVawKOPj",
        "colab": {
          "base_uri": "https://localhost:8080/"
        },
        "outputId": "6a6a511c-4d4e-4f27-e4da-38b627f157b2"
      },
      "source": [
        "from google.colab import drive\n",
        "drive.mount('/content/drive')"
      ],
      "execution_count": 1,
      "outputs": [
        {
          "output_type": "stream",
          "text": [
            "Drive already mounted at /content/drive; to attempt to forcibly remount, call drive.mount(\"/content/drive\", force_remount=True).\n"
          ],
          "name": "stdout"
        }
      ]
    },
    {
      "cell_type": "code",
      "metadata": {
        "id": "7II2DN1JKX28",
        "colab": {
          "base_uri": "https://localhost:8080/"
        },
        "outputId": "9bb776b5-4d74-4244-d10c-ed410f20afa7"
      },
      "source": [
        "%cd drive/MyDrive/TSphere/NN/03"
      ],
      "execution_count": 2,
      "outputs": [
        {
          "output_type": "stream",
          "text": [
            "/content/drive/MyDrive/TSphere/NN/03\n"
          ],
          "name": "stdout"
        }
      ]
    },
    {
      "cell_type": "code",
      "metadata": {
        "id": "kPo8G-l9b5c8",
        "colab": {
          "base_uri": "https://localhost:8080/"
        },
        "outputId": "89d3a704-5933-4183-950c-3ba652e385e0"
      },
      "source": [
        "!pip install tensorboardX"
      ],
      "execution_count": 3,
      "outputs": [
        {
          "output_type": "stream",
          "text": [
            "Requirement already satisfied: tensorboardX in /usr/local/lib/python3.7/dist-packages (2.1)\n",
            "Requirement already satisfied: numpy in /usr/local/lib/python3.7/dist-packages (from tensorboardX) (1.19.5)\n",
            "Requirement already satisfied: protobuf>=3.8.0 in /usr/local/lib/python3.7/dist-packages (from tensorboardX) (3.12.4)\n",
            "Requirement already satisfied: six in /usr/local/lib/python3.7/dist-packages (from tensorboardX) (1.15.0)\n",
            "Requirement already satisfied: setuptools in /usr/local/lib/python3.7/dist-packages (from protobuf>=3.8.0->tensorboardX) (54.0.0)\n"
          ],
          "name": "stdout"
        }
      ]
    },
    {
      "cell_type": "code",
      "metadata": {
        "id": "OOIY5FyZcIEq",
        "colab": {
          "base_uri": "https://localhost:8080/"
        },
        "outputId": "a5db60e2-f381-4c8e-f8df-32b64509b76e"
      },
      "source": [
        "!pip install pytorch-ignite"
      ],
      "execution_count": 4,
      "outputs": [
        {
          "output_type": "stream",
          "text": [
            "Requirement already satisfied: pytorch-ignite in /usr/local/lib/python3.7/dist-packages (0.4.4)\n",
            "Requirement already satisfied: torch<2,>=1.3 in /usr/local/lib/python3.7/dist-packages (from pytorch-ignite) (1.8.0+cu101)\n",
            "Requirement already satisfied: typing-extensions in /usr/local/lib/python3.7/dist-packages (from torch<2,>=1.3->pytorch-ignite) (3.7.4.3)\n",
            "Requirement already satisfied: numpy in /usr/local/lib/python3.7/dist-packages (from torch<2,>=1.3->pytorch-ignite) (1.19.5)\n"
          ],
          "name": "stdout"
        }
      ]
    },
    {
      "cell_type": "code",
      "metadata": {
        "colab": {
          "base_uri": "https://localhost:8080/"
        },
        "id": "0hpEOzLVKGut",
        "outputId": "4714c4b6-80c7-4d69-e9ff-bca63aa4a514"
      },
      "source": [
        "!pip install facenet-pytorch"
      ],
      "execution_count": 5,
      "outputs": [
        {
          "output_type": "stream",
          "text": [
            "Requirement already satisfied: facenet-pytorch in /usr/local/lib/python3.7/dist-packages (2.5.2)\n",
            "Requirement already satisfied: numpy in /usr/local/lib/python3.7/dist-packages (from facenet-pytorch) (1.19.5)\n",
            "Requirement already satisfied: torchvision in /usr/local/lib/python3.7/dist-packages (from facenet-pytorch) (0.9.0+cu101)\n",
            "Requirement already satisfied: pillow in /usr/local/lib/python3.7/dist-packages (from facenet-pytorch) (7.0.0)\n",
            "Requirement already satisfied: requests in /usr/local/lib/python3.7/dist-packages (from facenet-pytorch) (2.23.0)\n",
            "Requirement already satisfied: torch==1.8.0 in /usr/local/lib/python3.7/dist-packages (from torchvision->facenet-pytorch) (1.8.0+cu101)\n",
            "Requirement already satisfied: idna<3,>=2.5 in /usr/local/lib/python3.7/dist-packages (from requests->facenet-pytorch) (2.10)\n",
            "Requirement already satisfied: certifi>=2017.4.17 in /usr/local/lib/python3.7/dist-packages (from requests->facenet-pytorch) (2020.12.5)\n",
            "Requirement already satisfied: chardet<4,>=3.0.2 in /usr/local/lib/python3.7/dist-packages (from requests->facenet-pytorch) (3.0.4)\n",
            "Requirement already satisfied: urllib3!=1.25.0,!=1.25.1,<1.26,>=1.21.1 in /usr/local/lib/python3.7/dist-packages (from requests->facenet-pytorch) (1.24.3)\n",
            "Requirement already satisfied: typing-extensions in /usr/local/lib/python3.7/dist-packages (from torch==1.8.0->torchvision->facenet-pytorch) (3.7.4.3)\n"
          ],
          "name": "stdout"
        }
      ]
    },
    {
      "cell_type": "markdown",
      "metadata": {
        "id": "cK3wfTAqKIsZ"
      },
      "source": [
        "## Семинар 3 \"Определение ключевых точек лица\""
      ]
    },
    {
      "cell_type": "markdown",
      "metadata": {
        "id": "U09NExLQKIsk"
      },
      "source": [
        "## Задание"
      ]
    },
    {
      "cell_type": "markdown",
      "metadata": {
        "id": "mfFYEa9qKIsk"
      },
      "source": [
        "Используя датасет из архива решите задачу регрессии для поиска 68-ми ключевых точек лица. \n",
        "\n",
        "Для обучения и валидации используйте изображения и разметку из папок train и test соответственно.\n",
        "\n",
        "Для **зачета** дз нужно сделать одно из двух:\n",
        "\n",
        "1. Исследовать 6 разных архитектур и написать подробный вывод + мысли почему одна сеть работает лучше чем другая (разные функции активации, глубины сетей, размеры и типы слоев)\n",
        "2. Преодолеть порог MSE=8 на тесте\n",
        "\n",
        "\n",
        "Также до  22 марта 23:59 можно получить до 5 дополнительных баллов за лучшее решение. (За первое место 5 баллов, за второе — 3 балла, за третье — 1 балла.)\n",
        "\n",
        "Для решения можно пользоваться всем инструментарием, с которым мы познакомимся:  предобученные модели, сверточные сети, любые оптимизаторы, batchnorm, dropout, etc."
      ]
    },
    {
      "cell_type": "code",
      "metadata": {
        "collapsed": true,
        "id": "_zrGtIddKIsl"
      },
      "source": [
        "%matplotlib inline\n",
        "import os\n",
        "import torch\n",
        "import sys\n",
        "import pandas as pd\n",
        "from skimage import io, transform\n",
        "import numpy as np\n",
        "import matplotlib.pyplot as plt\n",
        "from torch.utils.data import Dataset, DataLoader\n",
        "from torchvision import transforms, utils\n",
        "from torch.nn import MSELoss, Sequential, Linear, Sigmoid, Tanh, L1Loss, Module, Parameter\n",
        "from torch.autograd import Variable\n",
        "# Ignore warnings\n",
        "import warnings\n",
        "\n",
        "\n",
        "try:\n",
        "    from tensorboardX import SummaryWriter\n",
        "except ImportError:\n",
        "    raise RuntimeError(\"No tensorboardX package is found. Please install with the command: \\npip install tensorboardX\")\n",
        "\n",
        "from ignite.engine import Events, create_supervised_trainer, create_supervised_evaluator\n",
        "from ignite.metrics import Accuracy, Loss\n",
        "\n",
        "\n"
      ],
      "execution_count": 6,
      "outputs": []
    },
    {
      "cell_type": "code",
      "metadata": {
        "id": "TNjQj1dRhYxf"
      },
      "source": [
        "from torch.nn import Dropout, Conv2d, MaxPool2d, BatchNorm1d, BatchNorm2d, ReLU, Flatten\n",
        "from torch.optim import Adam\n",
        "from torchvision import models\n",
        "from torchsummary import summary\n",
        "from facenet_pytorch import InceptionResnetV1"
      ],
      "execution_count": 7,
      "outputs": []
    },
    {
      "cell_type": "code",
      "metadata": {
        "id": "QgakHgOlKIsl",
        "colab": {
          "base_uri": "https://localhost:8080/",
          "height": 387
        },
        "outputId": "443362ea-de0e-44ca-9434-2d7c77e0baaf"
      },
      "source": [
        "warnings.filterwarnings(\"ignore\")\n",
        "\n",
        "landmarks_frame = pd.read_csv('dataset/train/face_landmarks.csv')\n",
        "\n",
        "n = 100\n",
        "img_name = landmarks_frame.iloc[n, 0]\n",
        "landmarks = landmarks_frame.iloc[n, 1:].to_numpy().astype('float')\n",
        "landmarks = landmarks.reshape(-1, 2)\n",
        "\n",
        "print('Image name: {}'.format(img_name))\n",
        "print('Landmarks shape: {}'.format(landmarks.shape))\n",
        "print('First 4 Landmarks: {}'.format(landmarks[:4]))\n",
        "\n",
        "def show_landmarks(image, landmarks):\n",
        "    \"\"\"Show image with landmarks\"\"\"\n",
        "    print(image.shape)\n",
        "    plt.imshow(image, cmap='gray')\n",
        "    plt.scatter(landmarks[:, 0], landmarks[:, 1], s=10, marker='.', c='red', cmap='rgb')\n",
        "    plt.pause(0.001)  \n",
        "\n",
        "plt.figure()\n",
        "show_landmarks(io.imread(os.path.join('dataset/train/', img_name)),\n",
        "               landmarks)\n",
        "plt.show()"
      ],
      "execution_count": 8,
      "outputs": [
        {
          "output_type": "stream",
          "text": [
            "Image name: 109.jpeg\n",
            "Landmarks shape: (68, 2)\n",
            "First 4 Landmarks: [[ 7. 41.]\n",
            " [ 8. 51.]\n",
            " [10. 60.]\n",
            " [13. 70.]]\n",
            "(96, 96)\n"
          ],
          "name": "stdout"
        },
        {
          "output_type": "display_data",
          "data": {
            "image/png": "[encoded data removed]",
            "text/plain": [
              "<Figure size 432x288 with 1 Axes>"
            ]
          },
          "metadata": {
            "tags": [],
            "needs_background": "light"
          }
        }
      ]
    },
    {
      "cell_type": "code",
      "metadata": {
        "collapsed": true,
        "id": "6NksleKRKIsn"
      },
      "source": [
        "def show_landmarks_batch(sample_batch, y_pred=None):\n",
        "    \"\"\"Show image with landmarks for a batch of samples.\"\"\"\n",
        "    images_batch, landmarks_batch = \\\n",
        "            sample_batch\n",
        "    batch_size = len(images_batch)\n",
        "    im_size = images_batch.size(2)\n",
        "\n",
        "    grid = utils.make_grid(images_batch)\n",
        "    print(images_batch.numpy().shape)\n",
        "    plt.imshow(grid.numpy().transpose(1,0,2).reshape(im_size, -1), cmap=\"gray\")\n",
        "\n",
        "    for i in range(batch_size):\n",
        "        plt.scatter(landmarks_batch[i, :, 0].numpy() + i * im_size,\n",
        "                    landmarks_batch[i, :, 1].numpy(),\n",
        "                    s=10, marker='.', c='r', label='Real')\n",
        "\n",
        "    if type(y_pred) != type(None):\n",
        "        for i in range(batch_size):\n",
        "            plt.scatter(y_pred[i, :, 0] + i * im_size,\n",
        "                        y_pred[i, :, 1],\n",
        "                        s=10, marker='.', c='b',  label='Prediction')\n",
        "        plt.title('Batch from dataloader')\n",
        "    plt.legend()"
      ],
      "execution_count": 9,
      "outputs": []
    },
    {
      "cell_type": "code",
      "metadata": {
        "collapsed": true,
        "id": "P3_JcHN6KIsn"
      },
      "source": [
        "class FaceLandmarksDataset(Dataset):\n",
        "    \"\"\"Face Landmarks dataset.\"\"\"\n",
        "\n",
        "    def __init__(self, csv_file, root_dir, transform=None):\n",
        "        \"\"\"\n",
        "        Args:\n",
        "            csv_file (string): Path to the csv file with annotations.\n",
        "            root_dir (string): Directory with all the images.\n",
        "            transform (callable, optional): Optional transform to be applied\n",
        "                on a sample.\n",
        "        \"\"\"\n",
        "        self.landmarks_frame = pd.read_csv(csv_file)\n",
        "        self.root_dir = root_dir\n",
        "        self.transform = transform\n",
        "\n",
        "    def __len__(self):\n",
        "        return len(self.landmarks_frame)\n",
        "\n",
        "    def __getitem__(self, idx):\n",
        "        img_name = os.path.join(self.root_dir, self.landmarks_frame.iloc[idx, 0])\n",
        "        image = io.imread(img_name)\n",
        "        landmarks = self.landmarks_frame.iloc[idx, 1:].to_numpy().astype('float')\n",
        "        landmarks = landmarks.reshape(-1, 2)\n",
        "        sample = image, landmarks\n",
        "\n",
        "        if self.transform:\n",
        "            sample = self.transform(sample)\n",
        "\n",
        "        return sample"
      ],
      "execution_count": 10,
      "outputs": []
    },
    {
      "cell_type": "code",
      "metadata": {
        "collapsed": true,
        "id": "Jc9bRAZCKIso"
      },
      "source": [
        "class RandomCrop(object):\n",
        "    \"\"\"Crop randomly the image in a sample.\n",
        "\n",
        "    Args:\n",
        "        output_size (tuple or int): Desired output size. If int, square crop\n",
        "            is made.\n",
        "    \"\"\"\n",
        "\n",
        "    def __init__(self, output_size):\n",
        "        assert isinstance(output_size, (int, tuple))\n",
        "        if isinstance(output_size, int):\n",
        "            self.output_size = (output_size, output_size)\n",
        "        else:\n",
        "            assert len(output_size) == 2\n",
        "            self.output_size = output_size\n",
        "\n",
        "    def __call__(self, sample):\n",
        "        image, landmarks = sample\n",
        "\n",
        "        h, w = image.shape[:2]\n",
        "        new_h, new_w = self.output_size\n",
        "\n",
        "        top = np.random.randint(0, h - new_h)\n",
        "        left = np.random.randint(0, w - new_w)\n",
        "\n",
        "        image = image[top: top + new_h,\n",
        "                      left: left + new_w]\n",
        "\n",
        "        landmarks = landmarks - [left, top]\n",
        "\n",
        "        return image, landmarks\n",
        "\n",
        "\n",
        "\n",
        "\n",
        "class ToTensor(object):\n",
        "    \"\"\"Convert ndarrays in sample to Tensors.\"\"\"\n",
        "\n",
        "    def __call__(self, sample):\n",
        "        image, landmarks = sample\n",
        "        new_image = np.empty((3, 96, 96))\n",
        "        new_image[0] = image\n",
        "        new_image[1] = image\n",
        "        new_image[2] = image\n",
        "        # new_img.shape\n",
        "        # image = image.reshape(1, 96, 96)\n",
        "        landmarks = np.reshape(landmarks, (-1, 136))\n",
        "        return torch.from_numpy(new_image).type(torch.float), torch.from_numpy(landmarks).type(torch.float)"
      ],
      "execution_count": 11,
      "outputs": []
    },
    {
      "cell_type": "code",
      "metadata": {
        "collapsed": true,
        "id": "Ma2_qTAVKIso"
      },
      "source": [
        "train_dataset = FaceLandmarksDataset(csv_file='dataset/train/face_landmarks.csv',\n",
        "                                     root_dir='dataset/train',\n",
        "                                     transform=ToTensor())\n",
        "\n",
        "test_dataset = FaceLandmarksDataset(csv_file='dataset/test/face_landmarks.csv',\n",
        "                                     root_dir='dataset/test',\n",
        "                                     transform=ToTensor())"
      ],
      "execution_count": 12,
      "outputs": []
    },
    {
      "cell_type": "code",
      "metadata": {
        "collapsed": true,
        "id": "sePQ_TbdKIso"
      },
      "source": [
        "def get_data_loaders(train_batch_size=64, val_batch_size=64):\n",
        "\n",
        "    train_loader = DataLoader(\n",
        "        train_dataset, batch_size=train_batch_size, shuffle=True, drop_last=True\n",
        "    )\n",
        "\n",
        "    test_loader = DataLoader(\n",
        "        test_dataset, batch_size=val_batch_size, shuffle=False\n",
        "    )\n",
        "\n",
        "    return train_loader, test_loader"
      ],
      "execution_count": 13,
      "outputs": []
    },
    {
      "cell_type": "code",
      "metadata": {
        "id": "Z8Cti_EFbALP"
      },
      "source": [
        "device = \"cpu\"\n",
        "\n",
        "if torch.cuda.is_available():\n",
        "    device = \"cuda\""
      ],
      "execution_count": 14,
      "outputs": []
    },
    {
      "cell_type": "code",
      "metadata": {
        "id": "8jagl403KkzA",
        "outputId": "b39bc79b-67bd-4e23-cd1e-ce2589fb6dce",
        "colab": {
          "base_uri": "https://localhost:8080/",
          "height": 83,
          "referenced_widgets": [
            "f28d7b7352d24b53aa3a2ec359278c70",
            "c345e3ce6110471a997fdf7f09455a3c",
            "ebaaa3286bf64fe7bfad299ad03c44df",
            "d0d4d8bc617948c78a7435d1c238e1a6",
            "6ddee52252c04ed1a6367fb945ed0c50",
            "9d82de41ecad4976a5444a3ce8fbf12d",
            "cc4be108648f4ecbb67068b6e96b9c99",
            "9dbad9e6031b458a871ab14ccf168675"
          ]
        }
      },
      "source": [
        "m = models.vgg19(pretrained=True)\n",
        "# m = Sequential(*list(m.children())[:-9])"
      ],
      "execution_count": 155,
      "outputs": [
        {
          "output_type": "stream",
          "text": [
            "Downloading: \"https://download.pytorch.org/models/vgg19-dcbb9e9d.pth\" to /root/.cache/torch/hub/checkpoints/vgg19-dcbb9e9d.pth\n"
          ],
          "name": "stderr"
        },
        {
          "output_type": "display_data",
          "data": {
            "application/vnd.jupyter.widget-view+json": {
              "model_id": "f28d7b7352d24b53aa3a2ec359278c70",
              "version_minor": 0,
              "version_major": 2
            },
            "text/plain": [
              "HBox(children=(FloatProgress(value=0.0, max=574673361.0), HTML(value='')))"
            ]
          },
          "metadata": {
            "tags": []
          }
        },
        {
          "output_type": "stream",
          "text": [
            "\n"
          ],
          "name": "stdout"
        }
      ]
    },
    {
      "cell_type": "code",
      "metadata": {
        "id": "11vr1BgHLB-D"
      },
      "source": [
        "# InceptionResnetV1(pretrained='vggface2', classify=False)"
      ],
      "execution_count": 116,
      "outputs": []
    },
    {
      "cell_type": "code",
      "metadata": {
        "id": "GeiYmHntLH8F",
        "outputId": "8862650f-6d16-4489-e582-6248dd5461cc",
        "colab": {
          "base_uri": "https://localhost:8080/"
        }
      },
      "source": [
        "summary(m.to(device), (3,96,96))"
      ],
      "execution_count": 156,
      "outputs": [
        {
          "output_type": "stream",
          "text": [
            "----------------------------------------------------------------\n",
            "        Layer (type)               Output Shape         Param #\n",
            "================================================================\n",
            "            Conv2d-1           [-1, 64, 96, 96]           1,792\n",
            "              ReLU-2           [-1, 64, 96, 96]               0\n",
            "            Conv2d-3           [-1, 64, 96, 96]          36,928\n",
            "              ReLU-4           [-1, 64, 96, 96]               0\n",
            "         MaxPool2d-5           [-1, 64, 48, 48]               0\n",
            "            Conv2d-6          [-1, 128, 48, 48]          73,856\n",
            "              ReLU-7          [-1, 128, 48, 48]               0\n",
            "            Conv2d-8          [-1, 128, 48, 48]         147,584\n",
            "              ReLU-9          [-1, 128, 48, 48]               0\n",
            "        MaxPool2d-10          [-1, 128, 24, 24]               0\n",
            "           Conv2d-11          [-1, 256, 24, 24]         295,168\n",
            "             ReLU-12          [-1, 256, 24, 24]               0\n",
            "           Conv2d-13          [-1, 256, 24, 24]         590,080\n",
            "             ReLU-14          [-1, 256, 24, 24]               0\n",
            "           Conv2d-15          [-1, 256, 24, 24]         590,080\n",
            "             ReLU-16          [-1, 256, 24, 24]               0\n",
            "           Conv2d-17          [-1, 256, 24, 24]         590,080\n",
            "             ReLU-18          [-1, 256, 24, 24]               0\n",
            "        MaxPool2d-19          [-1, 256, 12, 12]               0\n",
            "           Conv2d-20          [-1, 512, 12, 12]       1,180,160\n",
            "             ReLU-21          [-1, 512, 12, 12]               0\n",
            "           Conv2d-22          [-1, 512, 12, 12]       2,359,808\n",
            "             ReLU-23          [-1, 512, 12, 12]               0\n",
            "           Conv2d-24          [-1, 512, 12, 12]       2,359,808\n",
            "             ReLU-25          [-1, 512, 12, 12]               0\n",
            "           Conv2d-26          [-1, 512, 12, 12]       2,359,808\n",
            "             ReLU-27          [-1, 512, 12, 12]               0\n",
            "        MaxPool2d-28            [-1, 512, 6, 6]               0\n",
            "           Conv2d-29            [-1, 512, 6, 6]       2,359,808\n",
            "             ReLU-30            [-1, 512, 6, 6]               0\n",
            "           Conv2d-31            [-1, 512, 6, 6]       2,359,808\n",
            "             ReLU-32            [-1, 512, 6, 6]               0\n",
            "           Conv2d-33            [-1, 512, 6, 6]       2,359,808\n",
            "             ReLU-34            [-1, 512, 6, 6]               0\n",
            "           Conv2d-35            [-1, 512, 6, 6]       2,359,808\n",
            "             ReLU-36            [-1, 512, 6, 6]               0\n",
            "        MaxPool2d-37            [-1, 512, 3, 3]               0\n",
            "AdaptiveAvgPool2d-38            [-1, 512, 7, 7]               0\n",
            "           Linear-39                 [-1, 4096]     102,764,544\n",
            "             ReLU-40                 [-1, 4096]               0\n",
            "          Dropout-41                 [-1, 4096]               0\n",
            "           Linear-42                 [-1, 4096]      16,781,312\n",
            "             ReLU-43                 [-1, 4096]               0\n",
            "          Dropout-44                 [-1, 4096]               0\n",
            "           Linear-45                 [-1, 1000]       4,097,000\n",
            "================================================================\n",
            "Total params: 143,667,240\n",
            "Trainable params: 143,667,240\n",
            "Non-trainable params: 0\n",
            "----------------------------------------------------------------\n",
            "Input size (MB): 0.11\n",
            "Forward/backward pass size (MB): 44.16\n",
            "Params size (MB): 548.05\n",
            "Estimated Total Size (MB): 592.31\n",
            "----------------------------------------------------------------\n"
          ],
          "name": "stdout"
        }
      ]
    },
    {
      "cell_type": "code",
      "metadata": {
        "id": "rN9nRjYzs6wy"
      },
      "source": [
        "class Net(Module):   \n",
        "    def __init__(self):\n",
        "        super(Net, self).__init__()\n",
        "        self.pretrained = models.resnet152(pretrained=True).to(device)\n",
        "        self.pretrained = Sequential(*list(self.pretrained.children())[:-1])\n",
        "        for param in self.pretrained.parameters():\n",
        "            param.requires_grad = False\n",
        "        \n",
        "        self.final_layers = Sequential(Flatten(),\n",
        "                                       Dropout(0.5),\n",
        "                                       Linear(2048, 512),\n",
        "                                       Dropout(0.5),\n",
        "                                       Linear(512, 136)).to(device)\n",
        "\n",
        "        self.model = Sequential(self.pretrained, self.final_layers)\n",
        "\n",
        "    def get_arch(self):\n",
        "      return self.model\n",
        "\n",
        "    # Defining the forward pass    \n",
        "    def forward(self, x):\n",
        "        # x = x.reshape(64, 1, 96, 96)\n",
        "        x = self.model(x)\n",
        "        # x = x.view(x.size(0), -1)\n",
        "        # x = x.reshape(64, 68, 2)\n",
        "        # x = self.linear_layers(x)\n",
        "        return x"
      ],
      "execution_count": 186,
      "outputs": []
    },
    {
      "cell_type": "code",
      "metadata": {
        "id": "9VPnNyfIzQW5",
        "colab": {
          "base_uri": "https://localhost:8080/"
        },
        "outputId": "07b5ab24-3a40-4fa2-ca2b-6d96ae610fbe"
      },
      "source": [
        "n = Net()\n",
        "summary(n.get_arch(), (3,96,96))"
      ],
      "execution_count": 187,
      "outputs": [
        {
          "output_type": "stream",
          "text": [
            "----------------------------------------------------------------\n",
            "        Layer (type)               Output Shape         Param #\n",
            "================================================================\n",
            "            Conv2d-1           [-1, 64, 48, 48]           9,408\n",
            "       BatchNorm2d-2           [-1, 64, 48, 48]             128\n",
            "              ReLU-3           [-1, 64, 48, 48]               0\n",
            "         MaxPool2d-4           [-1, 64, 24, 24]               0\n",
            "            Conv2d-5           [-1, 64, 24, 24]           4,096\n",
            "       BatchNorm2d-6           [-1, 64, 24, 24]             128\n",
            "              ReLU-7           [-1, 64, 24, 24]               0\n",
            "            Conv2d-8           [-1, 64, 24, 24]          36,864\n",
            "       BatchNorm2d-9           [-1, 64, 24, 24]             128\n",
            "             ReLU-10           [-1, 64, 24, 24]               0\n",
            "           Conv2d-11          [-1, 256, 24, 24]          16,384\n",
            "      BatchNorm2d-12          [-1, 256, 24, 24]             512\n",
            "           Conv2d-13          [-1, 256, 24, 24]          16,384\n",
            "      BatchNorm2d-14          [-1, 256, 24, 24]             512\n",
            "             ReLU-15          [-1, 256, 24, 24]               0\n",
            "       Bottleneck-16          [-1, 256, 24, 24]               0\n",
            "           Conv2d-17           [-1, 64, 24, 24]          16,384\n",
            "      BatchNorm2d-18           [-1, 64, 24, 24]             128\n",
            "             ReLU-19           [-1, 64, 24, 24]               0\n",
            "           Conv2d-20           [-1, 64, 24, 24]          36,864\n",
            "      BatchNorm2d-21           [-1, 64, 24, 24]             128\n",
            "             ReLU-22           [-1, 64, 24, 24]               0\n",
            "           Conv2d-23          [-1, 256, 24, 24]          16,384\n",
            "      BatchNorm2d-24          [-1, 256, 24, 24]             512\n",
            "             ReLU-25          [-1, 256, 24, 24]               0\n",
            "       Bottleneck-26          [-1, 256, 24, 24]               0\n",
            "           Conv2d-27           [-1, 64, 24, 24]          16,384\n",
            "      BatchNorm2d-28           [-1, 64, 24, 24]             128\n",
            "             ReLU-29           [-1, 64, 24, 24]               0\n",
            "           Conv2d-30           [-1, 64, 24, 24]          36,864\n",
            "      BatchNorm2d-31           [-1, 64, 24, 24]             128\n",
            "             ReLU-32           [-1, 64, 24, 24]               0\n",
            "           Conv2d-33          [-1, 256, 24, 24]          16,384\n",
            "      BatchNorm2d-34          [-1, 256, 24, 24]             512\n",
            "             ReLU-35          [-1, 256, 24, 24]               0\n",
            "       Bottleneck-36          [-1, 256, 24, 24]               0\n",
            "           Conv2d-37          [-1, 128, 24, 24]          32,768\n",
            "      BatchNorm2d-38          [-1, 128, 24, 24]             256\n",
            "             ReLU-39          [-1, 128, 24, 24]               0\n",
            "           Conv2d-40          [-1, 128, 12, 12]         147,456\n",
            "      BatchNorm2d-41          [-1, 128, 12, 12]             256\n",
            "             ReLU-42          [-1, 128, 12, 12]               0\n",
            "           Conv2d-43          [-1, 512, 12, 12]          65,536\n",
            "      BatchNorm2d-44          [-1, 512, 12, 12]           1,024\n",
            "           Conv2d-45          [-1, 512, 12, 12]         131,072\n",
            "      BatchNorm2d-46          [-1, 512, 12, 12]           1,024\n",
            "             ReLU-47          [-1, 512, 12, 12]               0\n",
            "       Bottleneck-48          [-1, 512, 12, 12]               0\n",
            "           Conv2d-49          [-1, 128, 12, 12]          65,536\n",
            "      BatchNorm2d-50          [-1, 128, 12, 12]             256\n",
            "             ReLU-51          [-1, 128, 12, 12]               0\n",
            "           Conv2d-52          [-1, 128, 12, 12]         147,456\n",
            "      BatchNorm2d-53          [-1, 128, 12, 12]             256\n",
            "             ReLU-54          [-1, 128, 12, 12]               0\n",
            "           Conv2d-55          [-1, 512, 12, 12]          65,536\n",
            "      BatchNorm2d-56          [-1, 512, 12, 12]           1,024\n",
            "             ReLU-57          [-1, 512, 12, 12]               0\n",
            "       Bottleneck-58          [-1, 512, 12, 12]               0\n",
            "           Conv2d-59          [-1, 128, 12, 12]          65,536\n",
            "      BatchNorm2d-60          [-1, 128, 12, 12]             256\n",
            "             ReLU-61          [-1, 128, 12, 12]               0\n",
            "           Conv2d-62          [-1, 128, 12, 12]         147,456\n",
            "      BatchNorm2d-63          [-1, 128, 12, 12]             256\n",
            "             ReLU-64          [-1, 128, 12, 12]               0\n",
            "           Conv2d-65          [-1, 512, 12, 12]          65,536\n",
            "      BatchNorm2d-66          [-1, 512, 12, 12]           1,024\n",
            "             ReLU-67          [-1, 512, 12, 12]               0\n",
            "       Bottleneck-68          [-1, 512, 12, 12]               0\n",
            "           Conv2d-69          [-1, 128, 12, 12]          65,536\n",
            "      BatchNorm2d-70          [-1, 128, 12, 12]             256\n",
            "             ReLU-71          [-1, 128, 12, 12]               0\n",
            "           Conv2d-72          [-1, 128, 12, 12]         147,456\n",
            "      BatchNorm2d-73          [-1, 128, 12, 12]             256\n",
            "             ReLU-74          [-1, 128, 12, 12]               0\n",
            "           Conv2d-75          [-1, 512, 12, 12]          65,536\n",
            "      BatchNorm2d-76          [-1, 512, 12, 12]           1,024\n",
            "             ReLU-77          [-1, 512, 12, 12]               0\n",
            "       Bottleneck-78          [-1, 512, 12, 12]               0\n",
            "           Conv2d-79          [-1, 128, 12, 12]          65,536\n",
            "      BatchNorm2d-80          [-1, 128, 12, 12]             256\n",
            "             ReLU-81          [-1, 128, 12, 12]               0\n",
            "           Conv2d-82          [-1, 128, 12, 12]         147,456\n",
            "      BatchNorm2d-83          [-1, 128, 12, 12]             256\n",
            "             ReLU-84          [-1, 128, 12, 12]               0\n",
            "           Conv2d-85          [-1, 512, 12, 12]          65,536\n",
            "      BatchNorm2d-86          [-1, 512, 12, 12]           1,024\n",
            "             ReLU-87          [-1, 512, 12, 12]               0\n",
            "       Bottleneck-88          [-1, 512, 12, 12]               0\n",
            "           Conv2d-89          [-1, 128, 12, 12]          65,536\n",
            "      BatchNorm2d-90          [-1, 128, 12, 12]             256\n",
            "             ReLU-91          [-1, 128, 12, 12]               0\n",
            "           Conv2d-92          [-1, 128, 12, 12]         147,456\n",
            "      BatchNorm2d-93          [-1, 128, 12, 12]             256\n",
            "             ReLU-94          [-1, 128, 12, 12]               0\n",
            "           Conv2d-95          [-1, 512, 12, 12]          65,536\n",
            "      BatchNorm2d-96          [-1, 512, 12, 12]           1,024\n",
            "             ReLU-97          [-1, 512, 12, 12]               0\n",
            "       Bottleneck-98          [-1, 512, 12, 12]               0\n",
            "           Conv2d-99          [-1, 128, 12, 12]          65,536\n",
            "     BatchNorm2d-100          [-1, 128, 12, 12]             256\n",
            "            ReLU-101          [-1, 128, 12, 12]               0\n",
            "          Conv2d-102          [-1, 128, 12, 12]         147,456\n",
            "     BatchNorm2d-103          [-1, 128, 12, 12]             256\n",
            "            ReLU-104          [-1, 128, 12, 12]               0\n",
            "          Conv2d-105          [-1, 512, 12, 12]          65,536\n",
            "     BatchNorm2d-106          [-1, 512, 12, 12]           1,024\n",
            "            ReLU-107          [-1, 512, 12, 12]               0\n",
            "      Bottleneck-108          [-1, 512, 12, 12]               0\n",
            "          Conv2d-109          [-1, 128, 12, 12]          65,536\n",
            "     BatchNorm2d-110          [-1, 128, 12, 12]             256\n",
            "            ReLU-111          [-1, 128, 12, 12]               0\n",
            "          Conv2d-112          [-1, 128, 12, 12]         147,456\n",
            "     BatchNorm2d-113          [-1, 128, 12, 12]             256\n",
            "            ReLU-114          [-1, 128, 12, 12]               0\n",
            "          Conv2d-115          [-1, 512, 12, 12]          65,536\n",
            "     BatchNorm2d-116          [-1, 512, 12, 12]           1,024\n",
            "            ReLU-117          [-1, 512, 12, 12]               0\n",
            "      Bottleneck-118          [-1, 512, 12, 12]               0\n",
            "          Conv2d-119          [-1, 256, 12, 12]         131,072\n",
            "     BatchNorm2d-120          [-1, 256, 12, 12]             512\n",
            "            ReLU-121          [-1, 256, 12, 12]               0\n",
            "          Conv2d-122            [-1, 256, 6, 6]         589,824\n",
            "     BatchNorm2d-123            [-1, 256, 6, 6]             512\n",
            "            ReLU-124            [-1, 256, 6, 6]               0\n",
            "          Conv2d-125           [-1, 1024, 6, 6]         262,144\n",
            "     BatchNorm2d-126           [-1, 1024, 6, 6]           2,048\n",
            "          Conv2d-127           [-1, 1024, 6, 6]         524,288\n",
            "     BatchNorm2d-128           [-1, 1024, 6, 6]           2,048\n",
            "            ReLU-129           [-1, 1024, 6, 6]               0\n",
            "      Bottleneck-130           [-1, 1024, 6, 6]               0\n",
            "          Conv2d-131            [-1, 256, 6, 6]         262,144\n",
            "     BatchNorm2d-132            [-1, 256, 6, 6]             512\n",
            "            ReLU-133            [-1, 256, 6, 6]               0\n",
            "          Conv2d-134            [-1, 256, 6, 6]         589,824\n",
            "     BatchNorm2d-135            [-1, 256, 6, 6]             512\n",
            "            ReLU-136            [-1, 256, 6, 6]               0\n",
            "          Conv2d-137           [-1, 1024, 6, 6]         262,144\n",
            "     BatchNorm2d-138           [-1, 1024, 6, 6]           2,048\n",
            "            ReLU-139           [-1, 1024, 6, 6]               0\n",
            "      Bottleneck-140           [-1, 1024, 6, 6]               0\n",
            "          Conv2d-141            [-1, 256, 6, 6]         262,144\n",
            "     BatchNorm2d-142            [-1, 256, 6, 6]             512\n",
            "            ReLU-143            [-1, 256, 6, 6]               0\n",
            "          Conv2d-144            [-1, 256, 6, 6]         589,824\n",
            "     BatchNorm2d-145            [-1, 256, 6, 6]             512\n",
            "            ReLU-146            [-1, 256, 6, 6]               0\n",
            "          Conv2d-147           [-1, 1024, 6, 6]         262,144\n",
            "     BatchNorm2d-148           [-1, 1024, 6, 6]           2,048\n",
            "            ReLU-149           [-1, 1024, 6, 6]               0\n",
            "      Bottleneck-150           [-1, 1024, 6, 6]               0\n",
            "          Conv2d-151            [-1, 256, 6, 6]         262,144\n",
            "     BatchNorm2d-152            [-1, 256, 6, 6]             512\n",
            "            ReLU-153            [-1, 256, 6, 6]               0\n",
            "          Conv2d-154            [-1, 256, 6, 6]         589,824\n",
            "     BatchNorm2d-155            [-1, 256, 6, 6]             512\n",
            "            ReLU-156            [-1, 256, 6, 6]               0\n",
            "          Conv2d-157           [-1, 1024, 6, 6]         262,144\n",
            "     BatchNorm2d-158           [-1, 1024, 6, 6]           2,048\n",
            "            ReLU-159           [-1, 1024, 6, 6]               0\n",
            "      Bottleneck-160           [-1, 1024, 6, 6]               0\n",
            "          Conv2d-161            [-1, 256, 6, 6]         262,144\n",
            "     BatchNorm2d-162            [-1, 256, 6, 6]             512\n",
            "            ReLU-163            [-1, 256, 6, 6]               0\n",
            "          Conv2d-164            [-1, 256, 6, 6]         589,824\n",
            "     BatchNorm2d-165            [-1, 256, 6, 6]             512\n",
            "            ReLU-166            [-1, 256, 6, 6]               0\n",
            "          Conv2d-167           [-1, 1024, 6, 6]         262,144\n",
            "     BatchNorm2d-168           [-1, 1024, 6, 6]           2,048\n",
            "            ReLU-169           [-1, 1024, 6, 6]               0\n",
            "      Bottleneck-170           [-1, 1024, 6, 6]               0\n",
            "          Conv2d-171            [-1, 256, 6, 6]         262,144\n",
            "     BatchNorm2d-172            [-1, 256, 6, 6]             512\n",
            "            ReLU-173            [-1, 256, 6, 6]               0\n",
            "          Conv2d-174            [-1, 256, 6, 6]         589,824\n",
            "     BatchNorm2d-175            [-1, 256, 6, 6]             512\n",
            "            ReLU-176            [-1, 256, 6, 6]               0\n",
            "          Conv2d-177           [-1, 1024, 6, 6]         262,144\n",
            "     BatchNorm2d-178           [-1, 1024, 6, 6]           2,048\n",
            "            ReLU-179           [-1, 1024, 6, 6]               0\n",
            "      Bottleneck-180           [-1, 1024, 6, 6]               0\n",
            "          Conv2d-181            [-1, 256, 6, 6]         262,144\n",
            "     BatchNorm2d-182            [-1, 256, 6, 6]             512\n",
            "            ReLU-183            [-1, 256, 6, 6]               0\n",
            "          Conv2d-184            [-1, 256, 6, 6]         589,824\n",
            "     BatchNorm2d-185            [-1, 256, 6, 6]             512\n",
            "            ReLU-186            [-1, 256, 6, 6]               0\n",
            "          Conv2d-187           [-1, 1024, 6, 6]         262,144\n",
            "     BatchNorm2d-188           [-1, 1024, 6, 6]           2,048\n",
            "            ReLU-189           [-1, 1024, 6, 6]               0\n",
            "      Bottleneck-190           [-1, 1024, 6, 6]               0\n",
            "          Conv2d-191            [-1, 256, 6, 6]         262,144\n",
            "     BatchNorm2d-192            [-1, 256, 6, 6]             512\n",
            "            ReLU-193            [-1, 256, 6, 6]               0\n",
            "          Conv2d-194            [-1, 256, 6, 6]         589,824\n",
            "     BatchNorm2d-195            [-1, 256, 6, 6]             512\n",
            "            ReLU-196            [-1, 256, 6, 6]               0\n",
            "          Conv2d-197           [-1, 1024, 6, 6]         262,144\n",
            "     BatchNorm2d-198           [-1, 1024, 6, 6]           2,048\n",
            "            ReLU-199           [-1, 1024, 6, 6]               0\n",
            "      Bottleneck-200           [-1, 1024, 6, 6]               0\n",
            "          Conv2d-201            [-1, 256, 6, 6]         262,144\n",
            "     BatchNorm2d-202            [-1, 256, 6, 6]             512\n",
            "            ReLU-203            [-1, 256, 6, 6]               0\n",
            "          Conv2d-204            [-1, 256, 6, 6]         589,824\n",
            "     BatchNorm2d-205            [-1, 256, 6, 6]             512\n",
            "            ReLU-206            [-1, 256, 6, 6]               0\n",
            "          Conv2d-207           [-1, 1024, 6, 6]         262,144\n",
            "     BatchNorm2d-208           [-1, 1024, 6, 6]           2,048\n",
            "            ReLU-209           [-1, 1024, 6, 6]               0\n",
            "      Bottleneck-210           [-1, 1024, 6, 6]               0\n",
            "          Conv2d-211            [-1, 256, 6, 6]         262,144\n",
            "     BatchNorm2d-212            [-1, 256, 6, 6]             512\n",
            "            ReLU-213            [-1, 256, 6, 6]               0\n",
            "          Conv2d-214            [-1, 256, 6, 6]         589,824\n",
            "     BatchNorm2d-215            [-1, 256, 6, 6]             512\n",
            "            ReLU-216            [-1, 256, 6, 6]               0\n",
            "          Conv2d-217           [-1, 1024, 6, 6]         262,144\n",
            "     BatchNorm2d-218           [-1, 1024, 6, 6]           2,048\n",
            "            ReLU-219           [-1, 1024, 6, 6]               0\n",
            "      Bottleneck-220           [-1, 1024, 6, 6]               0\n",
            "          Conv2d-221            [-1, 256, 6, 6]         262,144\n",
            "     BatchNorm2d-222            [-1, 256, 6, 6]             512\n",
            "            ReLU-223            [-1, 256, 6, 6]               0\n",
            "          Conv2d-224            [-1, 256, 6, 6]         589,824\n",
            "     BatchNorm2d-225            [-1, 256, 6, 6]             512\n",
            "            ReLU-226            [-1, 256, 6, 6]               0\n",
            "          Conv2d-227           [-1, 1024, 6, 6]         262,144\n",
            "     BatchNorm2d-228           [-1, 1024, 6, 6]           2,048\n",
            "            ReLU-229           [-1, 1024, 6, 6]               0\n",
            "      Bottleneck-230           [-1, 1024, 6, 6]               0\n",
            "          Conv2d-231            [-1, 256, 6, 6]         262,144\n",
            "     BatchNorm2d-232            [-1, 256, 6, 6]             512\n",
            "            ReLU-233            [-1, 256, 6, 6]               0\n",
            "          Conv2d-234            [-1, 256, 6, 6]         589,824\n",
            "     BatchNorm2d-235            [-1, 256, 6, 6]             512\n",
            "            ReLU-236            [-1, 256, 6, 6]               0\n",
            "          Conv2d-237           [-1, 1024, 6, 6]         262,144\n",
            "     BatchNorm2d-238           [-1, 1024, 6, 6]           2,048\n",
            "            ReLU-239           [-1, 1024, 6, 6]               0\n",
            "      Bottleneck-240           [-1, 1024, 6, 6]               0\n",
            "          Conv2d-241            [-1, 256, 6, 6]         262,144\n",
            "     BatchNorm2d-242            [-1, 256, 6, 6]             512\n",
            "            ReLU-243            [-1, 256, 6, 6]               0\n",
            "          Conv2d-244            [-1, 256, 6, 6]         589,824\n",
            "     BatchNorm2d-245            [-1, 256, 6, 6]             512\n",
            "            ReLU-246            [-1, 256, 6, 6]               0\n",
            "          Conv2d-247           [-1, 1024, 6, 6]         262,144\n",
            "     BatchNorm2d-248           [-1, 1024, 6, 6]           2,048\n",
            "            ReLU-249           [-1, 1024, 6, 6]               0\n",
            "      Bottleneck-250           [-1, 1024, 6, 6]               0\n",
            "          Conv2d-251            [-1, 256, 6, 6]         262,144\n",
            "     BatchNorm2d-252            [-1, 256, 6, 6]             512\n",
            "            ReLU-253            [-1, 256, 6, 6]               0\n",
            "          Conv2d-254            [-1, 256, 6, 6]         589,824\n",
            "     BatchNorm2d-255            [-1, 256, 6, 6]             512\n",
            "            ReLU-256            [-1, 256, 6, 6]               0\n",
            "          Conv2d-257           [-1, 1024, 6, 6]         262,144\n",
            "     BatchNorm2d-258           [-1, 1024, 6, 6]           2,048\n",
            "            ReLU-259           [-1, 1024, 6, 6]               0\n",
            "      Bottleneck-260           [-1, 1024, 6, 6]               0\n",
            "          Conv2d-261            [-1, 256, 6, 6]         262,144\n",
            "     BatchNorm2d-262            [-1, 256, 6, 6]             512\n",
            "            ReLU-263            [-1, 256, 6, 6]               0\n",
            "          Conv2d-264            [-1, 256, 6, 6]         589,824\n",
            "     BatchNorm2d-265            [-1, 256, 6, 6]             512\n",
            "            ReLU-266            [-1, 256, 6, 6]               0\n",
            "          Conv2d-267           [-1, 1024, 6, 6]         262,144\n",
            "     BatchNorm2d-268           [-1, 1024, 6, 6]           2,048\n",
            "            ReLU-269           [-1, 1024, 6, 6]               0\n",
            "      Bottleneck-270           [-1, 1024, 6, 6]               0\n",
            "          Conv2d-271            [-1, 256, 6, 6]         262,144\n",
            "     BatchNorm2d-272            [-1, 256, 6, 6]             512\n",
            "            ReLU-273            [-1, 256, 6, 6]               0\n",
            "          Conv2d-274            [-1, 256, 6, 6]         589,824\n",
            "     BatchNorm2d-275            [-1, 256, 6, 6]             512\n",
            "            ReLU-276            [-1, 256, 6, 6]               0\n",
            "          Conv2d-277           [-1, 1024, 6, 6]         262,144\n",
            "     BatchNorm2d-278           [-1, 1024, 6, 6]           2,048\n",
            "            ReLU-279           [-1, 1024, 6, 6]               0\n",
            "      Bottleneck-280           [-1, 1024, 6, 6]               0\n",
            "          Conv2d-281            [-1, 256, 6, 6]         262,144\n",
            "     BatchNorm2d-282            [-1, 256, 6, 6]             512\n",
            "            ReLU-283            [-1, 256, 6, 6]               0\n",
            "          Conv2d-284            [-1, 256, 6, 6]         589,824\n",
            "     BatchNorm2d-285            [-1, 256, 6, 6]             512\n",
            "            ReLU-286            [-1, 256, 6, 6]               0\n",
            "          Conv2d-287           [-1, 1024, 6, 6]         262,144\n",
            "     BatchNorm2d-288           [-1, 1024, 6, 6]           2,048\n",
            "            ReLU-289           [-1, 1024, 6, 6]               0\n",
            "      Bottleneck-290           [-1, 1024, 6, 6]               0\n",
            "          Conv2d-291            [-1, 256, 6, 6]         262,144\n",
            "     BatchNorm2d-292            [-1, 256, 6, 6]             512\n",
            "            ReLU-293            [-1, 256, 6, 6]               0\n",
            "          Conv2d-294            [-1, 256, 6, 6]         589,824\n",
            "     BatchNorm2d-295            [-1, 256, 6, 6]             512\n",
            "            ReLU-296            [-1, 256, 6, 6]               0\n",
            "          Conv2d-297           [-1, 1024, 6, 6]         262,144\n",
            "     BatchNorm2d-298           [-1, 1024, 6, 6]           2,048\n",
            "            ReLU-299           [-1, 1024, 6, 6]               0\n",
            "      Bottleneck-300           [-1, 1024, 6, 6]               0\n",
            "          Conv2d-301            [-1, 256, 6, 6]         262,144\n",
            "     BatchNorm2d-302            [-1, 256, 6, 6]             512\n",
            "            ReLU-303            [-1, 256, 6, 6]               0\n",
            "          Conv2d-304            [-1, 256, 6, 6]         589,824\n",
            "     BatchNorm2d-305            [-1, 256, 6, 6]             512\n",
            "            ReLU-306            [-1, 256, 6, 6]               0\n",
            "          Conv2d-307           [-1, 1024, 6, 6]         262,144\n",
            "     BatchNorm2d-308           [-1, 1024, 6, 6]           2,048\n",
            "            ReLU-309           [-1, 1024, 6, 6]               0\n",
            "      Bottleneck-310           [-1, 1024, 6, 6]               0\n",
            "          Conv2d-311            [-1, 256, 6, 6]         262,144\n",
            "     BatchNorm2d-312            [-1, 256, 6, 6]             512\n",
            "            ReLU-313            [-1, 256, 6, 6]               0\n",
            "          Conv2d-314            [-1, 256, 6, 6]         589,824\n",
            "     BatchNorm2d-315            [-1, 256, 6, 6]             512\n",
            "            ReLU-316            [-1, 256, 6, 6]               0\n",
            "          Conv2d-317           [-1, 1024, 6, 6]         262,144\n",
            "     BatchNorm2d-318           [-1, 1024, 6, 6]           2,048\n",
            "            ReLU-319           [-1, 1024, 6, 6]               0\n",
            "      Bottleneck-320           [-1, 1024, 6, 6]               0\n",
            "          Conv2d-321            [-1, 256, 6, 6]         262,144\n",
            "     BatchNorm2d-322            [-1, 256, 6, 6]             512\n",
            "            ReLU-323            [-1, 256, 6, 6]               0\n",
            "          Conv2d-324            [-1, 256, 6, 6]         589,824\n",
            "     BatchNorm2d-325            [-1, 256, 6, 6]             512\n",
            "            ReLU-326            [-1, 256, 6, 6]               0\n",
            "          Conv2d-327           [-1, 1024, 6, 6]         262,144\n",
            "     BatchNorm2d-328           [-1, 1024, 6, 6]           2,048\n",
            "            ReLU-329           [-1, 1024, 6, 6]               0\n",
            "      Bottleneck-330           [-1, 1024, 6, 6]               0\n",
            "          Conv2d-331            [-1, 256, 6, 6]         262,144\n",
            "     BatchNorm2d-332            [-1, 256, 6, 6]             512\n",
            "            ReLU-333            [-1, 256, 6, 6]               0\n",
            "          Conv2d-334            [-1, 256, 6, 6]         589,824\n",
            "     BatchNorm2d-335            [-1, 256, 6, 6]             512\n",
            "            ReLU-336            [-1, 256, 6, 6]               0\n",
            "          Conv2d-337           [-1, 1024, 6, 6]         262,144\n",
            "     BatchNorm2d-338           [-1, 1024, 6, 6]           2,048\n",
            "            ReLU-339           [-1, 1024, 6, 6]               0\n",
            "      Bottleneck-340           [-1, 1024, 6, 6]               0\n",
            "          Conv2d-341            [-1, 256, 6, 6]         262,144\n",
            "     BatchNorm2d-342            [-1, 256, 6, 6]             512\n",
            "            ReLU-343            [-1, 256, 6, 6]               0\n",
            "          Conv2d-344            [-1, 256, 6, 6]         589,824\n",
            "     BatchNorm2d-345            [-1, 256, 6, 6]             512\n",
            "            ReLU-346            [-1, 256, 6, 6]               0\n",
            "          Conv2d-347           [-1, 1024, 6, 6]         262,144\n",
            "     BatchNorm2d-348           [-1, 1024, 6, 6]           2,048\n",
            "            ReLU-349           [-1, 1024, 6, 6]               0\n",
            "      Bottleneck-350           [-1, 1024, 6, 6]               0\n",
            "          Conv2d-351            [-1, 256, 6, 6]         262,144\n",
            "     BatchNorm2d-352            [-1, 256, 6, 6]             512\n",
            "            ReLU-353            [-1, 256, 6, 6]               0\n",
            "          Conv2d-354            [-1, 256, 6, 6]         589,824\n",
            "     BatchNorm2d-355            [-1, 256, 6, 6]             512\n",
            "            ReLU-356            [-1, 256, 6, 6]               0\n",
            "          Conv2d-357           [-1, 1024, 6, 6]         262,144\n",
            "     BatchNorm2d-358           [-1, 1024, 6, 6]           2,048\n",
            "            ReLU-359           [-1, 1024, 6, 6]               0\n",
            "      Bottleneck-360           [-1, 1024, 6, 6]               0\n",
            "          Conv2d-361            [-1, 256, 6, 6]         262,144\n",
            "     BatchNorm2d-362            [-1, 256, 6, 6]             512\n",
            "            ReLU-363            [-1, 256, 6, 6]               0\n",
            "          Conv2d-364            [-1, 256, 6, 6]         589,824\n",
            "     BatchNorm2d-365            [-1, 256, 6, 6]             512\n",
            "            ReLU-366            [-1, 256, 6, 6]               0\n",
            "          Conv2d-367           [-1, 1024, 6, 6]         262,144\n",
            "     BatchNorm2d-368           [-1, 1024, 6, 6]           2,048\n",
            "            ReLU-369           [-1, 1024, 6, 6]               0\n",
            "      Bottleneck-370           [-1, 1024, 6, 6]               0\n",
            "          Conv2d-371            [-1, 256, 6, 6]         262,144\n",
            "     BatchNorm2d-372            [-1, 256, 6, 6]             512\n",
            "            ReLU-373            [-1, 256, 6, 6]               0\n",
            "          Conv2d-374            [-1, 256, 6, 6]         589,824\n",
            "     BatchNorm2d-375            [-1, 256, 6, 6]             512\n",
            "            ReLU-376            [-1, 256, 6, 6]               0\n",
            "          Conv2d-377           [-1, 1024, 6, 6]         262,144\n",
            "     BatchNorm2d-378           [-1, 1024, 6, 6]           2,048\n",
            "            ReLU-379           [-1, 1024, 6, 6]               0\n",
            "      Bottleneck-380           [-1, 1024, 6, 6]               0\n",
            "          Conv2d-381            [-1, 256, 6, 6]         262,144\n",
            "     BatchNorm2d-382            [-1, 256, 6, 6]             512\n",
            "            ReLU-383            [-1, 256, 6, 6]               0\n",
            "          Conv2d-384            [-1, 256, 6, 6]         589,824\n",
            "     BatchNorm2d-385            [-1, 256, 6, 6]             512\n",
            "            ReLU-386            [-1, 256, 6, 6]               0\n",
            "          Conv2d-387           [-1, 1024, 6, 6]         262,144\n",
            "     BatchNorm2d-388           [-1, 1024, 6, 6]           2,048\n",
            "            ReLU-389           [-1, 1024, 6, 6]               0\n",
            "      Bottleneck-390           [-1, 1024, 6, 6]               0\n",
            "          Conv2d-391            [-1, 256, 6, 6]         262,144\n",
            "     BatchNorm2d-392            [-1, 256, 6, 6]             512\n",
            "            ReLU-393            [-1, 256, 6, 6]               0\n",
            "          Conv2d-394            [-1, 256, 6, 6]         589,824\n",
            "     BatchNorm2d-395            [-1, 256, 6, 6]             512\n",
            "            ReLU-396            [-1, 256, 6, 6]               0\n",
            "          Conv2d-397           [-1, 1024, 6, 6]         262,144\n",
            "     BatchNorm2d-398           [-1, 1024, 6, 6]           2,048\n",
            "            ReLU-399           [-1, 1024, 6, 6]               0\n",
            "      Bottleneck-400           [-1, 1024, 6, 6]               0\n",
            "          Conv2d-401            [-1, 256, 6, 6]         262,144\n",
            "     BatchNorm2d-402            [-1, 256, 6, 6]             512\n",
            "            ReLU-403            [-1, 256, 6, 6]               0\n",
            "          Conv2d-404            [-1, 256, 6, 6]         589,824\n",
            "     BatchNorm2d-405            [-1, 256, 6, 6]             512\n",
            "            ReLU-406            [-1, 256, 6, 6]               0\n",
            "          Conv2d-407           [-1, 1024, 6, 6]         262,144\n",
            "     BatchNorm2d-408           [-1, 1024, 6, 6]           2,048\n",
            "            ReLU-409           [-1, 1024, 6, 6]               0\n",
            "      Bottleneck-410           [-1, 1024, 6, 6]               0\n",
            "          Conv2d-411            [-1, 256, 6, 6]         262,144\n",
            "     BatchNorm2d-412            [-1, 256, 6, 6]             512\n",
            "            ReLU-413            [-1, 256, 6, 6]               0\n",
            "          Conv2d-414            [-1, 256, 6, 6]         589,824\n",
            "     BatchNorm2d-415            [-1, 256, 6, 6]             512\n",
            "            ReLU-416            [-1, 256, 6, 6]               0\n",
            "          Conv2d-417           [-1, 1024, 6, 6]         262,144\n",
            "     BatchNorm2d-418           [-1, 1024, 6, 6]           2,048\n",
            "            ReLU-419           [-1, 1024, 6, 6]               0\n",
            "      Bottleneck-420           [-1, 1024, 6, 6]               0\n",
            "          Conv2d-421            [-1, 256, 6, 6]         262,144\n",
            "     BatchNorm2d-422            [-1, 256, 6, 6]             512\n",
            "            ReLU-423            [-1, 256, 6, 6]               0\n",
            "          Conv2d-424            [-1, 256, 6, 6]         589,824\n",
            "     BatchNorm2d-425            [-1, 256, 6, 6]             512\n",
            "            ReLU-426            [-1, 256, 6, 6]               0\n",
            "          Conv2d-427           [-1, 1024, 6, 6]         262,144\n",
            "     BatchNorm2d-428           [-1, 1024, 6, 6]           2,048\n",
            "            ReLU-429           [-1, 1024, 6, 6]               0\n",
            "      Bottleneck-430           [-1, 1024, 6, 6]               0\n",
            "          Conv2d-431            [-1, 256, 6, 6]         262,144\n",
            "     BatchNorm2d-432            [-1, 256, 6, 6]             512\n",
            "            ReLU-433            [-1, 256, 6, 6]               0\n",
            "          Conv2d-434            [-1, 256, 6, 6]         589,824\n",
            "     BatchNorm2d-435            [-1, 256, 6, 6]             512\n",
            "            ReLU-436            [-1, 256, 6, 6]               0\n",
            "          Conv2d-437           [-1, 1024, 6, 6]         262,144\n",
            "     BatchNorm2d-438           [-1, 1024, 6, 6]           2,048\n",
            "            ReLU-439           [-1, 1024, 6, 6]               0\n",
            "      Bottleneck-440           [-1, 1024, 6, 6]               0\n",
            "          Conv2d-441            [-1, 256, 6, 6]         262,144\n",
            "     BatchNorm2d-442            [-1, 256, 6, 6]             512\n",
            "            ReLU-443            [-1, 256, 6, 6]               0\n",
            "          Conv2d-444            [-1, 256, 6, 6]         589,824\n",
            "     BatchNorm2d-445            [-1, 256, 6, 6]             512\n",
            "            ReLU-446            [-1, 256, 6, 6]               0\n",
            "          Conv2d-447           [-1, 1024, 6, 6]         262,144\n",
            "     BatchNorm2d-448           [-1, 1024, 6, 6]           2,048\n",
            "            ReLU-449           [-1, 1024, 6, 6]               0\n",
            "      Bottleneck-450           [-1, 1024, 6, 6]               0\n",
            "          Conv2d-451            [-1, 256, 6, 6]         262,144\n",
            "     BatchNorm2d-452            [-1, 256, 6, 6]             512\n",
            "            ReLU-453            [-1, 256, 6, 6]               0\n",
            "          Conv2d-454            [-1, 256, 6, 6]         589,824\n",
            "     BatchNorm2d-455            [-1, 256, 6, 6]             512\n",
            "            ReLU-456            [-1, 256, 6, 6]               0\n",
            "          Conv2d-457           [-1, 1024, 6, 6]         262,144\n",
            "     BatchNorm2d-458           [-1, 1024, 6, 6]           2,048\n",
            "            ReLU-459           [-1, 1024, 6, 6]               0\n",
            "      Bottleneck-460           [-1, 1024, 6, 6]               0\n",
            "          Conv2d-461            [-1, 256, 6, 6]         262,144\n",
            "     BatchNorm2d-462            [-1, 256, 6, 6]             512\n",
            "            ReLU-463            [-1, 256, 6, 6]               0\n",
            "          Conv2d-464            [-1, 256, 6, 6]         589,824\n",
            "     BatchNorm2d-465            [-1, 256, 6, 6]             512\n",
            "            ReLU-466            [-1, 256, 6, 6]               0\n",
            "          Conv2d-467           [-1, 1024, 6, 6]         262,144\n",
            "     BatchNorm2d-468           [-1, 1024, 6, 6]           2,048\n",
            "            ReLU-469           [-1, 1024, 6, 6]               0\n",
            "      Bottleneck-470           [-1, 1024, 6, 6]               0\n",
            "          Conv2d-471            [-1, 256, 6, 6]         262,144\n",
            "     BatchNorm2d-472            [-1, 256, 6, 6]             512\n",
            "            ReLU-473            [-1, 256, 6, 6]               0\n",
            "          Conv2d-474            [-1, 256, 6, 6]         589,824\n",
            "     BatchNorm2d-475            [-1, 256, 6, 6]             512\n",
            "            ReLU-476            [-1, 256, 6, 6]               0\n",
            "          Conv2d-477           [-1, 1024, 6, 6]         262,144\n",
            "     BatchNorm2d-478           [-1, 1024, 6, 6]           2,048\n",
            "            ReLU-479           [-1, 1024, 6, 6]               0\n",
            "      Bottleneck-480           [-1, 1024, 6, 6]               0\n",
            "          Conv2d-481            [-1, 512, 6, 6]         524,288\n",
            "     BatchNorm2d-482            [-1, 512, 6, 6]           1,024\n",
            "            ReLU-483            [-1, 512, 6, 6]               0\n",
            "          Conv2d-484            [-1, 512, 3, 3]       2,359,296\n",
            "     BatchNorm2d-485            [-1, 512, 3, 3]           1,024\n",
            "            ReLU-486            [-1, 512, 3, 3]               0\n",
            "          Conv2d-487           [-1, 2048, 3, 3]       1,048,576\n",
            "     BatchNorm2d-488           [-1, 2048, 3, 3]           4,096\n",
            "          Conv2d-489           [-1, 2048, 3, 3]       2,097,152\n",
            "     BatchNorm2d-490           [-1, 2048, 3, 3]           4,096\n",
            "            ReLU-491           [-1, 2048, 3, 3]               0\n",
            "      Bottleneck-492           [-1, 2048, 3, 3]               0\n",
            "          Conv2d-493            [-1, 512, 3, 3]       1,048,576\n",
            "     BatchNorm2d-494            [-1, 512, 3, 3]           1,024\n",
            "            ReLU-495            [-1, 512, 3, 3]               0\n",
            "          Conv2d-496            [-1, 512, 3, 3]       2,359,296\n",
            "     BatchNorm2d-497            [-1, 512, 3, 3]           1,024\n",
            "            ReLU-498            [-1, 512, 3, 3]               0\n",
            "          Conv2d-499           [-1, 2048, 3, 3]       1,048,576\n",
            "     BatchNorm2d-500           [-1, 2048, 3, 3]           4,096\n",
            "            ReLU-501           [-1, 2048, 3, 3]               0\n",
            "      Bottleneck-502           [-1, 2048, 3, 3]               0\n",
            "          Conv2d-503            [-1, 512, 3, 3]       1,048,576\n",
            "     BatchNorm2d-504            [-1, 512, 3, 3]           1,024\n",
            "            ReLU-505            [-1, 512, 3, 3]               0\n",
            "          Conv2d-506            [-1, 512, 3, 3]       2,359,296\n",
            "     BatchNorm2d-507            [-1, 512, 3, 3]           1,024\n",
            "            ReLU-508            [-1, 512, 3, 3]               0\n",
            "          Conv2d-509           [-1, 2048, 3, 3]       1,048,576\n",
            "     BatchNorm2d-510           [-1, 2048, 3, 3]           4,096\n",
            "            ReLU-511           [-1, 2048, 3, 3]               0\n",
            "      Bottleneck-512           [-1, 2048, 3, 3]               0\n",
            "AdaptiveAvgPool2d-513           [-1, 2048, 1, 1]               0\n",
            "         Flatten-514                 [-1, 2048]               0\n",
            "         Dropout-515                 [-1, 2048]               0\n",
            "          Linear-516                  [-1, 512]       1,049,088\n",
            "         Dropout-517                  [-1, 512]               0\n",
            "          Linear-518                  [-1, 136]          69,768\n",
            "================================================================\n",
            "Total params: 59,262,664\n",
            "Trainable params: 1,118,856\n",
            "Non-trainable params: 58,143,808\n",
            "----------------------------------------------------------------\n",
            "Input size (MB): 0.11\n",
            "Forward/backward pass size (MB): 111.47\n",
            "Params size (MB): 226.07\n",
            "Estimated Total Size (MB): 337.64\n",
            "----------------------------------------------------------------\n"
          ],
          "name": "stdout"
        }
      ]
    },
    {
      "cell_type": "code",
      "metadata": {
        "collapsed": true,
        "id": "wmGWGBeMKIsq"
      },
      "source": [
        ""
      ],
      "execution_count": 187,
      "outputs": []
    },
    {
      "cell_type": "code",
      "metadata": {
        "collapsed": true,
        "id": "HfvyiR0gKIsq"
      },
      "source": [
        "network = Net()\n",
        "train_dataloader, test_dataloader = get_data_loaders()\n",
        "writer = SummaryWriter(filename_suffix='first', logdir=\"logs\")\n",
        "\n",
        "device = \"cpu\"\n",
        "\n",
        "if torch.cuda.is_available():\n",
        "    device = \"cuda\"\n",
        "criterion = MSELoss()\n",
        "optim = Adam\n",
        "learning_rate = 0.005\n",
        "\n",
        "optimizer = optim(network.parameters(), lr=learning_rate)\n",
        "\n",
        "trainer = create_supervised_trainer(network, optimizer, criterion, device=device)\n",
        "evaluator = create_supervised_evaluator(\n",
        "    network, metrics={\"L2 loss\": Loss(criterion),\n",
        "                      \"L1 loss\": Loss(L1Loss())}, device=device\n",
        ")\n",
        "\n",
        "training_history = {'l1':[],'l2':[]}\n",
        "validation_history = {'l1':[],'l2':[]}\n",
        "last_epoch = []"
      ],
      "execution_count": 188,
      "outputs": []
    },
    {
      "cell_type": "code",
      "metadata": {
        "collapsed": true,
        "id": "SHeRndjZKIsq"
      },
      "source": [
        "@trainer.on(Events.ITERATION_COMPLETED(every=10))\n",
        "def log_training_loss(engine):\n",
        "    writer.add_scalar(\"training/loss\", engine.state.output, engine.state.iteration)\n",
        "    writer.flush()\n",
        "\n",
        "\n",
        "@trainer.on(Events.EPOCH_COMPLETED)\n",
        "def log_training_results(trainer):\n",
        "    evaluator.run(train_dataloader)\n",
        "    metrics = evaluator.state.metrics\n",
        "    l2_train = metrics[\"L2 loss\"]\n",
        "    l1_train = metrics['L1 loss']\n",
        "    last_epoch.append(0)\n",
        "    training_history['l2'].append(l2_train)\n",
        "    training_history['l1'].append(l1_train)\n",
        "    writer.add_scalar(\"training/epoch_loss\", l2_train, trainer.state.epoch)\n",
        "    \n",
        "    evaluator.run(test_dataloader)\n",
        "    metrics = evaluator.state.metrics\n",
        "    l2 = metrics[\"L2 loss\"]\n",
        "    l1 = metrics['L1 loss']\n",
        "    validation_history['l2'].append(l2)\n",
        "    validation_history['l1'].append(l1)\n",
        "    \n",
        "    writer.add_scalar(\"validation/epoch_loss\", l2, trainer.state.epoch)\n",
        "    writer.flush()\n",
        "    \n",
        "    sys.stdout.write(\"\\rTraining/Validation Results - Epoch: {}  Avg MSE: {:.2f} / {:.2f} Avg MAE: {:.2f} / {:.2f} lr: {}\"\n",
        "          .format(trainer.state.epoch, l2_train, l2, l1_train, l1, learning_rate))\n",
        "   "
      ],
      "execution_count": 189,
      "outputs": []
    },
    {
      "cell_type": "code",
      "metadata": {
        "collapsed": true,
        "id": "AvLReZPFKIsr"
      },
      "source": [
        "max_epochs = 20"
      ],
      "execution_count": 190,
      "outputs": []
    },
    {
      "cell_type": "code",
      "metadata": {
        "id": "RgA11eECKIsr",
        "colab": {
          "base_uri": "https://localhost:8080/"
        },
        "outputId": "f61ad6c2-70c4-48de-bc6e-f9cc00e32957"
      },
      "source": [
        "trainer.run(train_dataloader, max_epochs=max_epochs)"
      ],
      "execution_count": 191,
      "outputs": [
        {
          "output_type": "stream",
          "text": [
            "Training/Validation Results - Epoch: 20  Avg MSE: 48.08 / 48.96 Avg MAE: 5.27 / 5.34 lr: 0.005"
          ],
          "name": "stdout"
        },
        {
          "output_type": "execute_result",
          "data": {
            "text/plain": [
              "State:\n",
              "\titeration: 1940\n",
              "\tepoch: 20\n",
              "\tepoch_length: 97\n",
              "\tmax_epochs: 20\n",
              "\toutput: 75.95367431640625\n",
              "\tbatch: <class 'list'>\n",
              "\tmetrics: <class 'dict'>\n",
              "\tdataloader: <class 'torch.utils.data.dataloader.DataLoader'>\n",
              "\tseed: <class 'NoneType'>\n",
              "\ttimes: <class 'dict'>"
            ]
          },
          "metadata": {
            "tags": []
          },
          "execution_count": 191
        }
      ]
    },
    {
      "cell_type": "code",
      "metadata": {
        "id": "91yy0Jm8KIsr",
        "colab": {
          "base_uri": "https://localhost:8080/",
          "height": 339
        },
        "outputId": "ee185928-6348-4934-ddcd-069d46d9760b"
      },
      "source": [
        "plt.figure(figsize=(12, 5))\n",
        "plt.plot(training_history['l2'][1:], label='Train')\n",
        "plt.plot(validation_history['l2'][1:], label='Test')\n",
        "plt.xlabel('Epochs', fontsize=16)\n",
        "plt.ylabel('Loss', fontsize=16)\n",
        "plt.legend(loc=0, fontsize=16)\n",
        "plt.grid('on')\n",
        "plt.show()"
      ],
      "execution_count": 193,
      "outputs": [
        {
          "output_type": "display_data",
          "data": {
            "image/png": "[encoded data removed]",
            "text/plain": [
              "<Figure size 864x360 with 1 Axes>"
            ]
          },
          "metadata": {
            "tags": [],
            "needs_background": "light"
          }
        }
      ]
    },
    {
      "cell_type": "code",
      "metadata": {
        "collapsed": true,
        "id": "JC4KDCwGKIsr"
      },
      "source": [
        ""
      ],
      "execution_count": null,
      "outputs": []
    },
    {
      "cell_type": "code",
      "metadata": {
        "collapsed": true,
        "id": "0Ez3wLXaKIss"
      },
      "source": [
        ""
      ],
      "execution_count": null,
      "outputs": []
    },
    {
      "cell_type": "code",
      "metadata": {
        "id": "Qb38OMbyKIss"
      },
      "source": [
        "_, test_dataloader = get_data_loaders(val_batch_size=2)\n",
        "\n",
        "images_batch = next(iter(test_dataloader))\n",
        "x, y = images_batch\n",
        "y_pred = network.forward(x)\n",
        "y_pred = y_pred.data.numpy()\n",
        "show_landmarks_batch(images_batch, y_pred)"
      ],
      "execution_count": null,
      "outputs": []
    },
    {
      "cell_type": "code",
      "metadata": {
        "collapsed": true,
        "id": "oU6OSSAYKIst"
      },
      "source": [
        ""
      ],
      "execution_count": null,
      "outputs": []
    }
  ]
}